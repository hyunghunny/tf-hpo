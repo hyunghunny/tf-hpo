{
 "cells": [
  {
   "cell_type": "code",
   "execution_count": 1,
   "metadata": {
    "collapsed": true
   },
   "outputs": [],
   "source": [
    "import sys\n",
    "import time\n",
    "import traceback\n",
    "\n",
    "import models.mnist_data as mnist\n",
    "from models.cnn_model import CNN\n",
    "from modules.hpvconf import HPVGenerator\n",
    "from modules.hpmgr import HPVManager\n",
    "from modules.trainmgr import TrainingManager"
   ]
  },
  {
   "cell_type": "code",
   "execution_count": 2,
   "metadata": {
    "collapsed": true
   },
   "outputs": [],
   "source": [
    "LOG_PATH = \"../log/revised-20epochs.csv\"\n",
    "TEMPLATE_PATH = 'CNN_HPV.ini'\n",
    "CONFIG_PATH = 'config/'\n",
    "NUM_GPUS = 1 # only one gpu can be used for HPOlib"
   ]
  },
  {
   "cell_type": "code",
   "execution_count": null,
   "metadata": {
    "collapsed": true
   },
   "outputs": [],
   "source": [
    "def run(params):\n",
    "    try:        \n",
    "        generator = HPVGenerator()\n",
    "        generator.setTemplate(TEMPLATE_PATH)\n",
    "        hpv_file = generator.generate(params, output_dir=CONFIG_PATH)\n",
    "                \n",
    "        train_manager = TrainingManager(CNN(mnist.import_dataset()), LOG_PATH)\n",
    "        train_manager.setTrainingDevices('gpu', NUM_GPUS)\n",
    "        train_manager.setLoggingParams([ hyperparam for hyperparam in params])\n",
    "        hpv = HPVManager(hpv_file, ini_dir=CONFIG_PATH)\n",
    "        return train_manager.run(hpv, 3)\n",
    "           \n",
    "    except:\n",
    "        e = sys.exc_info()\n",
    "        print(\"Error: \" + str(e))\n",
    "        traceback.print_exc()    "
   ]
  },
  {
   "cell_type": "code",
   "execution_count": null,
   "metadata": {
    "collapsed": false
   },
   "outputs": [],
   "source": [
    "params = {'filter_size': 5, 'fc1_width': 896, 'conv1_depth': 250, 'conv2_depth': 350}\n",
    "run(params)"
   ]
  }
 ],
 "metadata": {
  "kernelspec": {
   "display_name": "Python 2",
   "language": "python",
   "name": "python2"
  },
  "language_info": {
   "codemirror_mode": {
    "name": "ipython",
    "version": 2
   },
   "file_extension": ".py",
   "mimetype": "text/x-python",
   "name": "python",
   "nbconvert_exporter": "python",
   "pygments_lexer": "ipython2",
   "version": "2.7.6"
  }
 },
 "nbformat": 4,
 "nbformat_minor": 0
}
