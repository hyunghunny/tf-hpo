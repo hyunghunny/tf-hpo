{
 "cells": [
  {
   "cell_type": "code",
   "execution_count": 2,
   "metadata": {
    "collapsed": false
   },
   "outputs": [],
   "source": [
    "import sys\n",
    "sys.path.append(\"..\")\n",
    "from modules.hpmgr import HPVManager \n",
    "#%run"
   ]
  },
  {
   "cell_type": "code",
   "execution_count": 3,
   "metadata": {
    "collapsed": false
   },
   "outputs": [
    {
     "name": "stdout",
     "output_type": "stream",
     "text": [
      "True\n",
      "[Execution]\n",
      "created=by hand as a basic template\n",
      "validation=False\n",
      "early_stop_check_epochs=1\n",
      "[Hyperparameters]\n",
      "filter_size=5\n",
      "conv1_depth=32\n",
      "conv2_depth=64\n",
      "fc1_width=512\n",
      "num_pooling=2\n",
      "pooling_size=2\n",
      "stride_size=2\n",
      "num_epochs=1\n",
      "batch_size=64\n",
      "eval_batch_size=64\n",
      "eval_frequency=100\n",
      "init_weight_value=0.1\n",
      "init_stddev=0.1\n",
      "seed=66478\n",
      "optimization=Momentum\n",
      "static_learning_rate=0.001\n",
      "use_learning_rate_decay=True\n",
      "base_learning_rate=0.01\n",
      "decay_rate=0.95\n",
      "dropout_rate=0.5\n",
      "regularizer_factor=5e-4\n",
      "momentum_value=0.9\n",
      "[TypeInformation]\n",
      "filter_size=int\n",
      "conv1_depth=int\n",
      "conv2_depth=int\n",
      "fc1_width=int\n",
      "num_pooling=int\n",
      "pooling_size=int\n",
      "stride_size=int\n",
      "num_epochs=int\n",
      "batch_size=int\n",
      "eval_batch_size=int\n",
      "eval_frequency=int\n",
      "init_weight_value=float\n",
      "init_stddev=float\n",
      "seed=int\n",
      "optimization=string\n",
      "static_learning_rate=float\n",
      "use_learning_rate_decay=bool\n",
      "base_learning_rate=float\n",
      "decay_rate=float\n",
      "dropout_rate=float\n",
      "regularizer_factor=float\n",
      "momentum_value=float\n",
      "validation=bool\n",
      "early_stop_check_epochs=int\n"
     ]
    }
   ],
   "source": [
    "cfg = HPVManager('HPV_001.ini', '../config/')\n",
    "result = cfg.validate('HPV_001.ini')\n",
    "print(result)\n",
    "cfg.show()"
   ]
  },
  {
   "cell_type": "code",
   "execution_count": 9,
   "metadata": {
    "collapsed": false
   },
   "outputs": [
    {
     "name": "stdout",
     "output_type": "stream",
     "text": [
      "66478\n"
     ]
    }
   ],
   "source": [
    "print cfg.getOption('Hyperparameters', 'seed')"
   ]
  },
  {
   "cell_type": "code",
   "execution_count": 10,
   "metadata": {
    "collapsed": false
   },
   "outputs": [
    {
     "name": "stdout",
     "output_type": "stream",
     "text": [
      "{'FC1_WIDTH': 512, 'MOMENTUM_VALUE': 0.9, 'INIT_STDDEV': 0.1, 'SEED': 66478, 'BATCH_SIZE': 64, 'USE_LEARNING_RATE_DECAY': True, 'CONV1_DEPTH': 32, 'STRIDE_SIZE': 2, 'OPTIMIZATION': 'Momentum', 'POOLING_SIZE': 2, 'NUM_EPOCHS': 1, 'STATIC_LEARNING_RATE': 0.001, 'EVAL_FREQUENCY': 100, 'EVAL_BATCH_SIZE': 64, 'BASE_LEARNING_RATE': 0.01, 'DECAY_RATE': 0.95, 'INIT_WEIGHT_VALUE': 0.1, 'CONV2_DEPTH': 64, 'DROPOUT_RATE': 0.5, 'FILTER_SIZE': 5, 'REGULARIZER_FACTOR': 0.0005, 'NUM_POOLING': 2}\n",
      "<type 'float'>\n"
     ]
    }
   ],
   "source": [
    "params = cfg.getSectionMap('Hyperparameters')\n",
    "print params\n",
    "print type(params[\"DROPOUT_RATE\"])"
   ]
  },
  {
   "cell_type": "code",
   "execution_count": 11,
   "metadata": {
    "collapsed": false
   },
   "outputs": [
    {
     "name": "stdout",
     "output_type": "stream",
     "text": [
      "<type 'int'>\n"
     ]
    }
   ],
   "source": [
    "cfg.setOption('Hyperparameters', 'filter_size', 10)\n",
    "print type(cfg.getOption('Hyperparameters', 'filter_size', 'int'))"
   ]
  },
  {
   "cell_type": "code",
   "execution_count": 12,
   "metadata": {
    "collapsed": false
   },
   "outputs": [],
   "source": [
    "exec_info = {\"output_log_file\": \"any.log\", \"train_device_id\" : \"/gpu:0\", \"test_device_id\": \"/gpu:1\"}"
   ]
  },
  {
   "cell_type": "code",
   "execution_count": 13,
   "metadata": {
    "collapsed": false
   },
   "outputs": [],
   "source": [
    "cfg.setExecutionInfo(exec_info)\n",
    "cfg.write('HPV_002.ini')"
   ]
  },
  {
   "cell_type": "code",
   "execution_count": 14,
   "metadata": {
    "collapsed": false
   },
   "outputs": [
    {
     "name": "stdout",
     "output_type": "stream",
     "text": [
      "True\n"
     ]
    }
   ],
   "source": [
    "cfg2 = ConfigManager('HPV_002.ini')\n",
    "result = cfg2.validate()\n",
    "cfg2.show()\n",
    "print result"
   ]
  },
  {
   "cell_type": "code",
   "execution_count": 15,
   "metadata": {
    "collapsed": false
   },
   "outputs": [
    {
     "name": "stdout",
     "output_type": "stream",
     "text": [
      "{'CREATED': '2016-10-26 02:04:02', 'EARLY_STOP_CHECK_EPOCHS': 1, 'OUTPUT_LOG_FILE': 'any.log', 'TEST_DEVICE_ID': '/gpu:1', 'TRAIN_DEVICE_ID': '/gpu:0', 'VALIDATION': False}\n"
     ]
    }
   ],
   "source": [
    "params = cfg.getSectionMap('Execution')\n",
    "print params"
   ]
  },
  {
   "cell_type": "code",
   "execution_count": 16,
   "metadata": {
    "collapsed": false
   },
   "outputs": [
    {
     "name": "stdout",
     "output_type": "stream",
     "text": [
      "2016-10-26 02:04:04\n"
     ]
    }
   ],
   "source": [
    "import time\n",
    "print time.strftime('%Y-%m-%d %H:%M:%S', time.localtime())"
   ]
  },
  {
   "cell_type": "code",
   "execution_count": 17,
   "metadata": {
    "collapsed": true
   },
   "outputs": [],
   "source": [
    "import os\n",
    "os.environ['TZ'] = 'Asia/Seoul'\n",
    "time.tzset()"
   ]
  }
 ],
 "metadata": {
  "kernelspec": {
   "display_name": "Python 2",
   "language": "python",
   "name": "python2"
  },
  "language_info": {
   "codemirror_mode": {
    "name": "ipython",
    "version": 2
   },
   "file_extension": ".py",
   "mimetype": "text/x-python",
   "name": "python",
   "nbconvert_exporter": "python",
   "pygments_lexer": "ipython2",
   "version": "2.7.6"
  }
 },
 "nbformat": 4,
 "nbformat_minor": 0
}
