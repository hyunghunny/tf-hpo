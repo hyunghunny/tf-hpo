{
 "cells": [
  {
   "cell_type": "code",
   "execution_count": 1,
   "metadata": {
    "collapsed": false
   },
   "outputs": [],
   "source": [
    "from util import CSVLogger\n",
    "\n",
    "logger = CSVLogger(\"../log/test.csv\", 3)\n",
    "\n"
   ]
  },
  {
   "cell_type": "code",
   "execution_count": 2,
   "metadata": {
    "collapsed": false
   },
   "outputs": [
    {
     "name": "stdout",
     "output_type": "stream",
     "text": [
      "mnist-cnn-2.csv  mnist-cnn-3.csv  test.csv\r\n"
     ]
    }
   ],
   "source": [
    "%ls ../log"
   ]
  },
  {
   "cell_type": "code",
   "execution_count": 3,
   "metadata": {
    "collapsed": false
   },
   "outputs": [
    {
     "name": "stdout",
     "output_type": "stream",
     "text": [
      "2016-07-19 20:36:32,788,Tag Name,Iteration,Minibatch Loss,Training Accuracy,Elapsed Time,Testing Accuracy,L1,L2,L3\r\n",
      "2016-07-19 20:36:34,224,test,0,0.000000,0.00000,1.02,['NA', 'NA', 'NA']\r\n",
      "2016-07-19 20:36:34,224,test,1,0.000000,10.00000,2.86e-06,['NA', 'NA', 'NA']\r\n",
      "2016-07-19 20:36:34,224,test,2,0.000000,20.00000,1.19e-06,['NA', 'NA', 'NA']\r\n",
      "2016-07-19 20:36:34,224,test,3,0.000000,30.00000,2.86e-06,['NA', 'NA', 'NA']\r\n",
      "2016-07-19 20:36:34,225,test,4,0.000000,40.00000,9.54e-07,['NA', 'NA', 'NA']\r\n",
      "2016-07-19 20:36:34,225,test,5,0.000000,50.00000,0,['NA', 'NA', 'NA']\r\n",
      "2016-07-19 20:36:34,225,test,6,0.000000,60.00000,1.19e-06,['NA', 'NA', 'NA']\r\n",
      "2016-07-19 20:36:34,225,test,7,0.000000,70.00000,9.54e-07,['NA', 'NA', 'NA']\r\n",
      "2016-07-19 20:36:34,225,test,8,0.000000,80.00000,0,['NA', 'NA', 'NA']\r\n",
      "2016-07-19 20:36:34,225,test,9,0.000000,90.00000,9.54e-07,['NA', 'NA', 'NA']\r\n",
      "2016-07-19 20:36:34,225,test,,,,,100,['NA', 'NA', 'NA']\r\n",
      "2016-07-19 20:37:42,092,test,0,0.000000,0.00000,67.9,1,2,3\r\n",
      "2016-07-19 20:37:42,092,test,1,0.000000,10.00000,9.54e-07,1,2,3\r\n",
      "2016-07-19 20:37:42,113,test,2,0.000000,20.00000,2.86e-06,1,2,3\r\n",
      "2016-07-19 20:37:42,113,test,3,0.000000,30.00000,9.54e-07,1,2,3\r\n",
      "2016-07-19 20:37:42,113,test,4,0.000000,40.00000,9.54e-07,1,2,3\r\n",
      "2016-07-19 20:37:42,113,test,5,0.000000,50.00000,9.54e-07,1,2,3\r\n",
      "2016-07-19 20:37:42,113,test,6,0.000000,60.00000,9.54e-07,1,2,3\r\n",
      "2016-07-19 20:37:42,113,test,7,0.000000,70.00000,0,1,2,3\r\n",
      "2016-07-19 20:37:42,113,test,8,0.000000,80.00000,0,1,2,3\r\n",
      "2016-07-19 20:37:42,113,test,9,0.000000,90.00000,9.54e-07,1,2,3\r\n",
      "2016-07-19 20:37:42,113,test,,,,,100,1,2,3\r\n"
     ]
    }
   ],
   "source": [
    "%cat ../log/test.csv"
   ]
  },
  {
   "cell_type": "code",
   "execution_count": 4,
   "metadata": {
    "collapsed": false
   },
   "outputs": [],
   "source": [
    "logger.setTimer()"
   ]
  },
  {
   "cell_type": "code",
   "execution_count": 5,
   "metadata": {
    "collapsed": true
   },
   "outputs": [],
   "source": [
    "# sleep 1 sec.\n",
    "import time\n",
    "time.sleep(1)"
   ]
  },
  {
   "cell_type": "code",
   "execution_count": 6,
   "metadata": {
    "collapsed": false
   },
   "outputs": [],
   "source": [
    "for i in range(10) :\n",
    "    logger.measure('test', i, 0, i*10)\n",
    "logger.accuracy('test', 100)"
   ]
  },
  {
   "cell_type": "code",
   "execution_count": 7,
   "metadata": {
    "collapsed": false
   },
   "outputs": [
    {
     "name": "stdout",
     "output_type": "stream",
     "text": [
      "2016-07-19 20:36:32,788,Tag Name,Iteration,Minibatch Loss,Training Accuracy,Elapsed Time,Testing Accuracy,L1,L2,L3\r\n",
      "2016-07-19 20:36:34,224,test,0,0.000000,0.00000,1.02,['NA', 'NA', 'NA']\r\n",
      "2016-07-19 20:36:34,224,test,1,0.000000,10.00000,2.86e-06,['NA', 'NA', 'NA']\r\n",
      "2016-07-19 20:36:34,224,test,2,0.000000,20.00000,1.19e-06,['NA', 'NA', 'NA']\r\n",
      "2016-07-19 20:36:34,224,test,3,0.000000,30.00000,2.86e-06,['NA', 'NA', 'NA']\r\n",
      "2016-07-19 20:36:34,225,test,4,0.000000,40.00000,9.54e-07,['NA', 'NA', 'NA']\r\n",
      "2016-07-19 20:36:34,225,test,5,0.000000,50.00000,0,['NA', 'NA', 'NA']\r\n",
      "2016-07-19 20:36:34,225,test,6,0.000000,60.00000,1.19e-06,['NA', 'NA', 'NA']\r\n",
      "2016-07-19 20:36:34,225,test,7,0.000000,70.00000,9.54e-07,['NA', 'NA', 'NA']\r\n",
      "2016-07-19 20:36:34,225,test,8,0.000000,80.00000,0,['NA', 'NA', 'NA']\r\n",
      "2016-07-19 20:36:34,225,test,9,0.000000,90.00000,9.54e-07,['NA', 'NA', 'NA']\r\n",
      "2016-07-19 20:36:34,225,test,,,,,100,['NA', 'NA', 'NA']\r\n",
      "2016-07-19 20:37:42,092,test,0,0.000000,0.00000,67.9,1,2,3\r\n",
      "2016-07-19 20:37:42,092,test,1,0.000000,10.00000,9.54e-07,1,2,3\r\n",
      "2016-07-19 20:37:42,113,test,2,0.000000,20.00000,2.86e-06,1,2,3\r\n",
      "2016-07-19 20:37:42,113,test,3,0.000000,30.00000,9.54e-07,1,2,3\r\n",
      "2016-07-19 20:37:42,113,test,4,0.000000,40.00000,9.54e-07,1,2,3\r\n",
      "2016-07-19 20:37:42,113,test,5,0.000000,50.00000,9.54e-07,1,2,3\r\n",
      "2016-07-19 20:37:42,113,test,6,0.000000,60.00000,9.54e-07,1,2,3\r\n",
      "2016-07-19 20:37:42,113,test,7,0.000000,70.00000,0,1,2,3\r\n",
      "2016-07-19 20:37:42,113,test,8,0.000000,80.00000,0,1,2,3\r\n",
      "2016-07-19 20:37:42,113,test,9,0.000000,90.00000,9.54e-07,1,2,3\r\n",
      "2016-07-19 20:37:42,113,test,,,,,100,1,2,3\r\n",
      "2016-07-19 20:40:00,098,test,0,0.000000,0.00000,1.02,NA,NA,NA\r\n",
      "2016-07-19 20:40:00,101,test,1,0.000000,10.00000,8.01e-05,NA,NA,NA\r\n",
      "2016-07-19 20:40:00,101,test,2,0.000000,20.00000,2.15e-06,NA,NA,NA\r\n",
      "2016-07-19 20:40:00,101,test,3,0.000000,30.00000,1.1e-05,NA,NA,NA\r\n",
      "2016-07-19 20:40:00,101,test,4,0.000000,40.00000,9.54e-07,NA,NA,NA\r\n",
      "2016-07-19 20:40:00,101,test,5,0.000000,50.00000,9.54e-07,NA,NA,NA\r\n",
      "2016-07-19 20:40:00,101,test,6,0.000000,60.00000,0,NA,NA,NA\r\n",
      "2016-07-19 20:40:00,101,test,7,0.000000,70.00000,0,NA,NA,NA\r\n",
      "2016-07-19 20:40:00,101,test,8,0.000000,80.00000,9.54e-07,NA,NA,NA\r\n",
      "2016-07-19 20:40:00,101,test,9,0.000000,90.00000,1.19e-06,NA,NA,NA\r\n",
      "2016-07-19 20:40:00,102,test,,,,,100,NA,NA,NA\r\n"
     ]
    }
   ],
   "source": [
    "%cat ../log/test.csv"
   ]
  },
  {
   "cell_type": "code",
   "execution_count": 8,
   "metadata": {
    "collapsed": false
   },
   "outputs": [],
   "source": [
    "logger.setLayers(1, 2, 3)"
   ]
  },
  {
   "cell_type": "code",
   "execution_count": 9,
   "metadata": {
    "collapsed": true
   },
   "outputs": [],
   "source": [
    "for i in range(10) :\n",
    "    logger.measure('test', i, i*10)"
   ]
  },
  {
   "cell_type": "code",
   "execution_count": 10,
   "metadata": {
    "collapsed": false
   },
   "outputs": [
    {
     "name": "stdout",
     "output_type": "stream",
     "text": [
      "2016-07-19 20:36:32,788,Tag Name,Iteration,Minibatch Loss,Training Accuracy,Elapsed Time,Testing Accuracy,L1,L2,L3\r\n",
      "2016-07-19 20:36:34,224,test,0,0.000000,0.00000,1.02,['NA', 'NA', 'NA']\r\n",
      "2016-07-19 20:36:34,224,test,1,0.000000,10.00000,2.86e-06,['NA', 'NA', 'NA']\r\n",
      "2016-07-19 20:36:34,224,test,2,0.000000,20.00000,1.19e-06,['NA', 'NA', 'NA']\r\n",
      "2016-07-19 20:36:34,224,test,3,0.000000,30.00000,2.86e-06,['NA', 'NA', 'NA']\r\n",
      "2016-07-19 20:36:34,225,test,4,0.000000,40.00000,9.54e-07,['NA', 'NA', 'NA']\r\n",
      "2016-07-19 20:36:34,225,test,5,0.000000,50.00000,0,['NA', 'NA', 'NA']\r\n",
      "2016-07-19 20:36:34,225,test,6,0.000000,60.00000,1.19e-06,['NA', 'NA', 'NA']\r\n",
      "2016-07-19 20:36:34,225,test,7,0.000000,70.00000,9.54e-07,['NA', 'NA', 'NA']\r\n",
      "2016-07-19 20:36:34,225,test,8,0.000000,80.00000,0,['NA', 'NA', 'NA']\r\n",
      "2016-07-19 20:36:34,225,test,9,0.000000,90.00000,9.54e-07,['NA', 'NA', 'NA']\r\n",
      "2016-07-19 20:36:34,225,test,,,,,100,['NA', 'NA', 'NA']\r\n",
      "2016-07-19 20:37:42,092,test,0,0.000000,0.00000,67.9,1,2,3\r\n",
      "2016-07-19 20:37:42,092,test,1,0.000000,10.00000,9.54e-07,1,2,3\r\n",
      "2016-07-19 20:37:42,113,test,2,0.000000,20.00000,2.86e-06,1,2,3\r\n",
      "2016-07-19 20:37:42,113,test,3,0.000000,30.00000,9.54e-07,1,2,3\r\n",
      "2016-07-19 20:37:42,113,test,4,0.000000,40.00000,9.54e-07,1,2,3\r\n",
      "2016-07-19 20:37:42,113,test,5,0.000000,50.00000,9.54e-07,1,2,3\r\n",
      "2016-07-19 20:37:42,113,test,6,0.000000,60.00000,9.54e-07,1,2,3\r\n",
      "2016-07-19 20:37:42,113,test,7,0.000000,70.00000,0,1,2,3\r\n",
      "2016-07-19 20:37:42,113,test,8,0.000000,80.00000,0,1,2,3\r\n",
      "2016-07-19 20:37:42,113,test,9,0.000000,90.00000,9.54e-07,1,2,3\r\n",
      "2016-07-19 20:37:42,113,test,,,,,100,1,2,3\r\n",
      "2016-07-19 20:40:00,098,test,0,0.000000,0.00000,1.02,NA,NA,NA\r\n",
      "2016-07-19 20:40:00,101,test,1,0.000000,10.00000,8.01e-05,NA,NA,NA\r\n",
      "2016-07-19 20:40:00,101,test,2,0.000000,20.00000,2.15e-06,NA,NA,NA\r\n",
      "2016-07-19 20:40:00,101,test,3,0.000000,30.00000,1.1e-05,NA,NA,NA\r\n",
      "2016-07-19 20:40:00,101,test,4,0.000000,40.00000,9.54e-07,NA,NA,NA\r\n",
      "2016-07-19 20:40:00,101,test,5,0.000000,50.00000,9.54e-07,NA,NA,NA\r\n",
      "2016-07-19 20:40:00,101,test,6,0.000000,60.00000,0,NA,NA,NA\r\n",
      "2016-07-19 20:40:00,101,test,7,0.000000,70.00000,0,NA,NA,NA\r\n",
      "2016-07-19 20:40:00,101,test,8,0.000000,80.00000,9.54e-07,NA,NA,NA\r\n",
      "2016-07-19 20:40:00,101,test,9,0.000000,90.00000,1.19e-06,NA,NA,NA\r\n",
      "2016-07-19 20:40:00,102,test,,,,,100,NA,NA,NA\r\n",
      "2016-07-19 20:40:00,326,test,0,0.000000,0.00000,0.224,1,2,3\r\n",
      "2016-07-19 20:40:00,326,test,1,0.000000,10.00000,2.15e-06,1,2,3\r\n",
      "2016-07-19 20:40:00,326,test,2,0.000000,20.00000,9.54e-07,1,2,3\r\n",
      "2016-07-19 20:40:00,327,test,3,0.000000,30.00000,1.91e-06,1,2,3\r\n",
      "2016-07-19 20:40:00,327,test,4,0.000000,40.00000,9.54e-07,1,2,3\r\n",
      "2016-07-19 20:40:00,327,test,5,0.000000,50.00000,9.54e-07,1,2,3\r\n",
      "2016-07-19 20:40:00,327,test,6,0.000000,60.00000,9.54e-07,1,2,3\r\n",
      "2016-07-19 20:40:00,327,test,7,0.000000,70.00000,9.54e-07,1,2,3\r\n",
      "2016-07-19 20:40:00,327,test,8,0.000000,80.00000,9.54e-07,1,2,3\r\n",
      "2016-07-19 20:40:00,327,test,9,0.000000,90.00000,9.54e-07,1,2,3\r\n",
      "2016-07-19 20:40:00,327,test,,,,,100,1,2,3\r\n"
     ]
    }
   ],
   "source": [
    "%cat ../log/test.csv"
   ]
  },
  {
   "cell_type": "code",
   "execution_count": 5,
   "metadata": {
    "collapsed": true
   },
   "outputs": [],
   "source": [
    "from modules.sobol_lib import i4_sobol_generate"
   ]
  },
  {
   "cell_type": "code",
   "execution_count": 17,
   "metadata": {
    "collapsed": true
   },
   "outputs": [],
   "source": [
    "# import matplotlib to draw plot inside of notebook\n",
    "%matplotlib inline\n",
    "from mpl_toolkits.mplot3d.axes3d import Axes3D\n",
    "import matplotlib.pyplot as plt\n",
    "from matplotlib import cm"
   ]
  },
  {
   "cell_type": "code",
   "execution_count": 25,
   "metadata": {
    "collapsed": false
   },
   "outputs": [],
   "source": [
    "output = i4_sobol_generate(2, 200, 1)\n",
    "#print output"
   ]
  },
  {
   "cell_type": "code",
   "execution_count": 26,
   "metadata": {
    "collapsed": false
   },
   "outputs": [
    {
     "data": {
      "image/png": "[encoded data removed]",
      "text/plain": [
       "<matplotlib.figure.Figure at 0x7f325dad2bd0>"
      ]
     },
     "metadata": {},
     "output_type": "display_data"
    }
   ],
   "source": [
    "x = output[0]\n",
    "y = output[1]\n",
    "plt.scatter(x, y)\n",
    "plt.show()"
   ]
  }
 ],
 "metadata": {
  "kernelspec": {
   "display_name": "Python 2",
   "language": "python",
   "name": "python2"
  },
  "language_info": {
   "codemirror_mode": {
    "name": "ipython",
    "version": 2
   },
   "file_extension": ".py",
   "mimetype": "text/x-python",
   "name": "python",
   "nbconvert_exporter": "python",
   "pygments_lexer": "ipython2",
   "version": "2.7.6"
  }
 },
 "nbformat": 4,
 "nbformat_minor": 0
}
