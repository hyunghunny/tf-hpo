{
 "cells": [
  {
   "cell_type": "code",
   "execution_count": null,
   "metadata": {
    "collapsed": true
   },
   "outputs": [],
   "source": [
    "class Foo():\n",
    "    '''doc here'''\n",
    "    def __init__(self):\n",
    "        self.a = 1\n",
    "        self.b = \"two\""
   ]
  },
  {
   "cell_type": "code",
   "execution_count": null,
   "metadata": {
    "collapsed": false
   },
   "outputs": [],
   "source": [
    "foo = Foo()\n",
    "dir(foo)"
   ]
  },
  {
   "cell_type": "code",
   "execution_count": 6,
   "metadata": {
    "collapsed": false
   },
   "outputs": [
    {
     "data": {
      "text/plain": [
       "['filter_sizes', 'conv1_depth', 'conv2_depth', 'fc1_width']"
      ]
     },
     "execution_count": 6,
     "metadata": {},
     "output_type": "execute_result"
    }
   ],
   "source": [
    "from config import Config\n",
    "cfg = Config(file(\"../test.cfg\"))\n",
    "[ hyperparam for hyperparam in cfg.hyperparameters]"
   ]
  },
  {
   "cell_type": "code",
   "execution_count": 1,
   "metadata": {
    "collapsed": false
   },
   "outputs": [
    {
     "name": "stdout",
     "output_type": "stream",
     "text": [
      "{'filter_sizes': [3, 5], 'fc1_width': [128, 256], 'conv1_depth': [16, 17], 'conv2_depth': [16, 17]}\n",
      "[(3, 128, 16, 16), (3, 128, 16, 17), (3, 128, 17, 16), (3, 128, 17, 17), (3, 256, 16, 16), (3, 256, 16, 17), (3, 256, 17, 16), (3, 256, 17, 17), (5, 128, 16, 16), (5, 128, 16, 17), (5, 128, 17, 16), (5, 128, 17, 17), (5, 256, 16, 16), (5, 256, 16, 17), (5, 256, 17, 16), (5, 256, 17, 17)]\n",
      "['/root/tf-hpolib/tf-hpo/src/tests/Grid_14775204505136.ini', '/root/tf-hpolib/tf-hpo/src/tests/Grid_14775204505139.ini', '/root/tf-hpolib/tf-hpo/src/tests/Grid_14775204505142.ini', '/root/tf-hpolib/tf-hpo/src/tests/Grid_14775204505145.ini', '/root/tf-hpolib/tf-hpo/src/tests/Grid_14775204505148.ini', '/root/tf-hpolib/tf-hpo/src/tests/Grid_14775204505151.ini', '/root/tf-hpolib/tf-hpo/src/tests/Grid_14775204505153.ini', '/root/tf-hpolib/tf-hpo/src/tests/Grid_14775204505156.ini', '/root/tf-hpolib/tf-hpo/src/tests/Grid_14775204505159.ini', '/root/tf-hpolib/tf-hpo/src/tests/Grid_14775204505161.ini', '/root/tf-hpolib/tf-hpo/src/tests/Grid_14775204505164.ini', '/root/tf-hpolib/tf-hpo/src/tests/Grid_14775204505167.ini', '/root/tf-hpolib/tf-hpo/src/tests/Grid_14775204505169.ini', '/root/tf-hpolib/tf-hpo/src/tests/Grid_14775204505172.ini', '/root/tf-hpolib/tf-hpo/src/tests/Grid_14775204505175.ini', '/root/tf-hpolib/tf-hpo/src/tests/Grid_14775204505177.ini']\n"
     ]
    }
   ],
   "source": [
    "from modules.hpvconf import HPVGenerator\n",
    "generator = HPVGenerator(\"../test.cfg\")\n",
    "generator.loadTemplate('../config/HPV_001.ini')\n",
    "generator.grid(2, './')\n",
    "print generator.getHPVlist()"
   ]
  },
  {
   "cell_type": "code",
   "execution_count": null,
   "metadata": {
    "collapsed": true
   },
   "outputs": [],
   "source": [
    "obj = {'filter_sizes': [3, 5, 7], 'fc1_width': [128, 256, 384, 512, 640, 768, 896, 1024], 'conv1_depth': [16, 17, 19, 23, 31, 47, 79, 143], 'conv2_depth': [16, 17, 19, 23, 31, 47, 79, 143]}"
   ]
  },
  {
   "cell_type": "code",
   "execution_count": null,
   "metadata": {
    "collapsed": false
   },
   "outputs": [],
   "source": [
    "somelists = [obj[key] for key in obj]\n",
    "import itertools\n",
    "for element in itertools.product(*somelists):\n",
    "    print element"
   ]
  },
  {
   "cell_type": "code",
   "execution_count": null,
   "metadata": {
    "collapsed": true
   },
   "outputs": [],
   "source": [
    "import traceback\n",
    "import math\n",
    "def generate_grid_values(hp, count):\n",
    "    values = []\n",
    "    boundary = []\n",
    "    spans = [1 for _ in range(count)] # default spans\n",
    "    if hasattr(hp,\"range\"):\n",
    "        boundary = hp.range\n",
    "    elif hasattr(hp,\"border\"):\n",
    "        boundary = hp.border\n",
    "    \n",
    "    boundary = sorted(boundary)\n",
    "    lower = boundary[0]\n",
    "    upper = boundary[1]\n",
    "    \n",
    "    if hasattr(hp,\"variation\"):\n",
    "        if hp.variation.type is 'fixed' :\n",
    "            spans = [hp.variation.span for _ in range(count)]\n",
    "        elif hp.variation.type is 'exponentiation':\n",
    "            base = hp.variation.span\n",
    "            spans = [pow(hp.variation.span, i) for i in range(count)]\n",
    "        \n",
    "    item = lower\n",
    "    i = 0\n",
    "    for i in range(len(spans)):               \n",
    "        if item <= upper:            \n",
    "            values.append(item)\n",
    "        else:\n",
    "            break\n",
    "        item = item + spans[i] \n",
    "        \n",
    "    return values"
   ]
  },
  {
   "cell_type": "code",
   "execution_count": null,
   "metadata": {
    "collapsed": false
   },
   "outputs": [],
   "source": [
    "dir(cfg.hyperparameters)\n",
    "for key in cfg.hyperparameters:\n",
    "    try:\n",
    "        hp = (cfg.hyperparameters[key])\n",
    "        print type(hp)\n",
    "        print hp.type\n",
    "        print hp.border\n",
    "        print hp.range\n",
    "        print hp.variation.span\n",
    "        print hp.variation.type\n",
    "        print generate_grid_values(hp, 10)\n",
    "    except:\n",
    "        print \"Invalid configuration\"\n",
    "        traceback.print_exc()"
   ]
  },
  {
   "cell_type": "code",
   "execution_count": null,
   "metadata": {
    "collapsed": false
   },
   "outputs": [],
   "source": [
    "from sklearn import svm, datasets\n",
    "from sklearn.model_selection import GridSearchCV"
   ]
  },
  {
   "cell_type": "code",
   "execution_count": null,
   "metadata": {
    "collapsed": false
   },
   "outputs": [],
   "source": [
    "import time\n",
    "print int(time.time() * 100)"
   ]
  }
 ],
 "metadata": {
  "kernelspec": {
   "display_name": "Python 2",
   "language": "python",
   "name": "python2"
  },
  "language_info": {
   "codemirror_mode": {
    "name": "ipython",
    "version": 2
   },
   "file_extension": ".py",
   "mimetype": "text/x-python",
   "name": "python",
   "nbconvert_exporter": "python",
   "pygments_lexer": "ipython2",
   "version": "2.7.6"
  }
 },
 "nbformat": 4,
 "nbformat_minor": 0
}
