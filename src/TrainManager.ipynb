{
 "cells": [
  {
   "cell_type": "code",
   "execution_count": null,
   "metadata": {
    "collapsed": true
   },
   "outputs": [],
   "source": [
    "import time"
   ]
  },
  {
   "cell_type": "code",
   "execution_count": 1,
   "metadata": {
    "collapsed": false
   },
   "outputs": [
    {
     "name": "stdout",
     "output_type": "stream",
     "text": [
      "('Extracting', 'data/train-images-idx3-ubyte.gz')\n",
      "('Extracting', 'data/train-labels-idx1-ubyte.gz')\n",
      "('Extracting', 'data/t10k-images-idx3-ubyte.gz')\n",
      "('Extracting', 'data/t10k-labels-idx1-ubyte.gz')\n",
      "Config file not found: ./conv.cfg\n",
      "logging test accuarcy\n",
      "Initialized!\n",
      "Step 0 (epoch 0.00), 1.9 ms\n",
      "Minibatch loss: 3.015, learning rate: 0.010000\n",
      "Minibatch error: 90.6%\n",
      "Validation error: 90.1%\n",
      "Step 100 (epoch 0.12), 98.8 ms\n",
      "Minibatch loss: 0.777, learning rate: 0.010000\n",
      "Minibatch error: 9.4%\n",
      "Validation error: 13.2%\n",
      "Step 200 (epoch 0.23), 134.1 ms\n",
      "Minibatch loss: 0.869, learning rate: 0.010000\n",
      "Minibatch error: 10.9%\n",
      "Validation error: 6.9%\n",
      "Step 300 (epoch 0.35), 93.8 ms\n",
      "Minibatch loss: 0.616, learning rate: 0.010000\n",
      "Minibatch error: 7.8%\n",
      "Validation error: 5.5%\n",
      "Step 400 (epoch 0.47), 98.7 ms\n",
      "Minibatch loss: 0.943, learning rate: 0.010000\n",
      "Minibatch error: 15.6%\n",
      "Validation error: 4.6%\n",
      "Step 500 (epoch 0.58), 96.7 ms\n",
      "Minibatch loss: 0.648, learning rate: 0.010000\n",
      "Minibatch error: 7.8%\n",
      "Validation error: 4.3%\n",
      "Step 600 (epoch 0.70), 97.5 ms\n",
      "Minibatch loss: 0.518, learning rate: 0.010000\n",
      "Minibatch error: 3.1%\n",
      "Validation error: 3.9%\n",
      "Step 700 (epoch 0.81), 104.0 ms\n",
      "Minibatch loss: 0.455, learning rate: 0.010000\n",
      "Minibatch error: 1.6%\n",
      "Validation error: 3.4%\n",
      "Step 800 (epoch 0.93), 113.2 ms\n",
      "Minibatch loss: 0.511, learning rate: 0.010000\n",
      "Minibatch error: 4.7%\n",
      "Validation error: 3.0%\n",
      "Step 900 (epoch 1.05), 122.6 ms\n",
      "Minibatch loss: 0.448, learning rate: 0.009500\n",
      "Minibatch error: 3.1%\n",
      "Validation error: 2.7%\n",
      "Step 1000 (epoch 1.16), 108.5 ms\n",
      "Minibatch loss: 0.503, learning rate: 0.009500\n",
      "Minibatch error: 3.1%\n",
      "Validation error: 2.5%\n",
      "Step 1100 (epoch 1.28), 99.1 ms\n",
      "Minibatch loss: 0.429, learning rate: 0.009500\n",
      "Minibatch error: 3.1%\n",
      "Validation error: 2.6%\n",
      "Step 1200 (epoch 1.40), 104.7 ms\n",
      "Minibatch loss: 0.443, learning rate: 0.009500\n",
      "Minibatch error: 1.6%\n",
      "Validation error: 2.3%\n",
      "Step 1300 (epoch 1.51), 104.4 ms\n",
      "Minibatch loss: 0.406, learning rate: 0.009500\n",
      "Minibatch error: 1.6%\n",
      "Validation error: 2.4%\n",
      "Step 1400 (epoch 1.63), 105.2 ms\n",
      "Minibatch loss: 0.455, learning rate: 0.009500\n",
      "Minibatch error: 3.1%\n",
      "Validation error: 2.6%\n",
      "Step 1500 (epoch 1.75), 115.4 ms\n",
      "Minibatch loss: 0.565, learning rate: 0.009500\n",
      "Minibatch error: 6.2%\n",
      "Validation error: 2.0%\n",
      "Step 1600 (epoch 1.86), 111.2 ms\n",
      "Minibatch loss: 0.386, learning rate: 0.009500\n",
      "Minibatch error: 0.0%\n",
      "Validation error: 2.0%\n",
      "Step 1700 (epoch 1.98), 100.6 ms\n",
      "Minibatch loss: 0.356, learning rate: 0.009500\n",
      "Minibatch error: 0.0%\n",
      "Validation error: 1.8%\n",
      "Step 1800 (epoch 2.09), 95.5 ms\n",
      "Minibatch loss: 0.388, learning rate: 0.009025\n",
      "Minibatch error: 1.6%\n",
      "Validation error: 1.8%\n",
      "Step 1900 (epoch 2.21), 98.4 ms\n",
      "Minibatch loss: 0.429, learning rate: 0.009025\n",
      "Minibatch error: 3.1%\n",
      "Validation error: 1.8%\n",
      "Step 2000 (epoch 2.33), 97.3 ms\n",
      "Minibatch loss: 0.537, learning rate: 0.009025\n",
      "Minibatch error: 6.2%\n",
      "Validation error: 1.8%\n",
      "Step 2100 (epoch 2.44), 100.7 ms\n",
      "Minibatch loss: 0.355, learning rate: 0.009025\n",
      "Minibatch error: 0.0%\n",
      "Validation error: 1.6%\n",
      "Step 2200 (epoch 2.56), 117.1 ms\n",
      "Minibatch loss: 0.377, learning rate: 0.009025\n",
      "Minibatch error: 1.6%\n",
      "Validation error: 1.6%\n",
      "Step 2300 (epoch 2.68), 113.7 ms\n",
      "Minibatch loss: 0.405, learning rate: 0.009025\n",
      "Minibatch error: 3.1%\n",
      "Validation error: 1.8%\n",
      "Step 2400 (epoch 2.79), 108.9 ms\n",
      "Minibatch loss: 0.341, learning rate: 0.009025\n",
      "Minibatch error: 0.0%\n",
      "Validation error: 1.6%\n",
      "Step 2500 (epoch 2.91), 114.8 ms\n",
      "Minibatch loss: 0.345, learning rate: 0.009025\n",
      "Minibatch error: 0.0%\n",
      "Validation error: 1.4%\n",
      "Step 2600 (epoch 3.03), 109.8 ms\n",
      "Minibatch loss: 0.367, learning rate: 0.008574\n",
      "Minibatch error: 1.6%\n",
      "Validation error: 1.7%\n",
      "Step 2700 (epoch 3.14), 105.3 ms\n",
      "Minibatch loss: 0.378, learning rate: 0.008574\n",
      "Minibatch error: 1.6%\n",
      "Validation error: 1.5%\n",
      "Step 2800 (epoch 3.26), 95.9 ms\n",
      "Minibatch loss: 0.391, learning rate: 0.008574\n",
      "Minibatch error: 1.6%\n",
      "Validation error: 1.4%\n",
      "Step 2900 (epoch 3.37), 104.9 ms\n",
      "Minibatch loss: 0.387, learning rate: 0.008574\n",
      "Minibatch error: 1.6%\n",
      "Validation error: 1.6%\n",
      "Step 3000 (epoch 3.49), 115.1 ms\n",
      "Minibatch loss: 0.356, learning rate: 0.008574\n",
      "Minibatch error: 0.0%\n",
      "Validation error: 1.2%\n",
      "Step 3100 (epoch 3.61), 103.5 ms\n",
      "Minibatch loss: 0.381, learning rate: 0.008574\n",
      "Minibatch error: 1.6%\n",
      "Validation error: 1.5%\n",
      "Step 3200 (epoch 3.72), 107.1 ms\n",
      "Minibatch loss: 0.407, learning rate: 0.008574\n",
      "Minibatch error: 3.1%\n",
      "Validation error: 1.3%\n",
      "Step 3300 (epoch 3.84), 126.4 ms\n",
      "Minibatch loss: 0.356, learning rate: 0.008574\n",
      "Minibatch error: 1.6%\n",
      "Validation error: 1.3%\n",
      "Step 3400 (epoch 3.96), 130.8 ms\n",
      "Minibatch loss: 0.351, learning rate: 0.008574\n",
      "Minibatch error: 3.1%\n",
      "Validation error: 1.2%\n",
      "Step 3500 (epoch 4.07), 109.4 ms\n",
      "Minibatch loss: 0.322, learning rate: 0.008145\n",
      "Minibatch error: 0.0%\n",
      "Validation error: 1.4%\n",
      "Step 3600 (epoch 4.19), 110.0 ms\n",
      "Minibatch loss: 0.309, learning rate: 0.008145\n",
      "Minibatch error: 0.0%\n",
      "Validation error: 1.3%\n",
      "Step 3700 (epoch 4.31), 94.3 ms\n",
      "Minibatch loss: 0.310, learning rate: 0.008145\n",
      "Minibatch error: 0.0%\n",
      "Validation error: 1.3%\n",
      "Step 3800 (epoch 4.42), 107.9 ms\n",
      "Minibatch loss: 0.344, learning rate: 0.008145\n",
      "Minibatch error: 1.6%\n",
      "Validation error: 1.4%\n",
      "Step 3900 (epoch 4.54), 125.3 ms\n",
      "Minibatch loss: 0.340, learning rate: 0.008145\n",
      "Minibatch error: 1.6%\n"
     ]
    },
    {
     "ename": "KeyboardInterrupt",
     "evalue": "",
     "output_type": "error",
     "traceback": [
      "\u001b[1;31m\u001b[0m",
      "\u001b[1;31mKeyboardInterrupt\u001b[0mTraceback (most recent call last)",
      "\u001b[1;32m/tf-hpo/src/convolutional.py\u001b[0m in \u001b[0;36m<module>\u001b[1;34m()\u001b[0m\n\u001b[0;32m    379\u001b[0m \u001b[1;33m\u001b[0m\u001b[0m\n\u001b[0;32m    380\u001b[0m \u001b[1;32mif\u001b[0m \u001b[0m__name__\u001b[0m \u001b[1;33m==\u001b[0m \u001b[1;34m'__main__'\u001b[0m\u001b[1;33m:\u001b[0m\u001b[1;33m\u001b[0m\u001b[0m\n\u001b[1;32m--> 381\u001b[1;33m     \u001b[0mtf\u001b[0m\u001b[1;33m.\u001b[0m\u001b[0mapp\u001b[0m\u001b[1;33m.\u001b[0m\u001b[0mrun\u001b[0m\u001b[1;33m(\u001b[0m\u001b[1;33m)\u001b[0m\u001b[1;33m\u001b[0m\u001b[0m\n\u001b[0m",
      "\u001b[1;32m/usr/local/lib/python2.7/dist-packages/tensorflow/python/platform/app.pyc\u001b[0m in \u001b[0;36mrun\u001b[1;34m(main)\u001b[0m\n\u001b[0;32m     28\u001b[0m   \u001b[0mf\u001b[0m\u001b[1;33m.\u001b[0m\u001b[0m_parse_flags\u001b[0m\u001b[1;33m(\u001b[0m\u001b[1;33m)\u001b[0m\u001b[1;33m\u001b[0m\u001b[0m\n\u001b[0;32m     29\u001b[0m   \u001b[0mmain\u001b[0m \u001b[1;33m=\u001b[0m \u001b[0mmain\u001b[0m \u001b[1;32mor\u001b[0m \u001b[0msys\u001b[0m\u001b[1;33m.\u001b[0m\u001b[0mmodules\u001b[0m\u001b[1;33m[\u001b[0m\u001b[1;34m'__main__'\u001b[0m\u001b[1;33m]\u001b[0m\u001b[1;33m.\u001b[0m\u001b[0mmain\u001b[0m\u001b[1;33m\u001b[0m\u001b[0m\n\u001b[1;32m---> 30\u001b[1;33m   \u001b[0msys\u001b[0m\u001b[1;33m.\u001b[0m\u001b[0mexit\u001b[0m\u001b[1;33m(\u001b[0m\u001b[0mmain\u001b[0m\u001b[1;33m(\u001b[0m\u001b[0msys\u001b[0m\u001b[1;33m.\u001b[0m\u001b[0margv\u001b[0m\u001b[1;33m)\u001b[0m\u001b[1;33m)\u001b[0m\u001b[1;33m\u001b[0m\u001b[0m\n\u001b[0m",
      "\u001b[1;32m/tf-hpo/src/convolutional.py\u001b[0m in \u001b[0;36mmain\u001b[1;34m(argv)\u001b[0m\n\u001b[0;32m    349\u001b[0m                 \u001b[1;32mprint\u001b[0m\u001b[1;33m(\u001b[0m\u001b[1;34m'Minibatch error: %.1f%%'\u001b[0m \u001b[1;33m%\u001b[0m \u001b[0merror_rate\u001b[0m\u001b[1;33m(\u001b[0m\u001b[0mpredictions\u001b[0m\u001b[1;33m,\u001b[0m \u001b[0mbatch_labels\u001b[0m\u001b[1;33m)\u001b[0m\u001b[1;33m)\u001b[0m\u001b[1;33m\u001b[0m\u001b[0m\n\u001b[0;32m    350\u001b[0m                 print('Validation error: %.1f%%' % error_rate(\n\u001b[1;32m--> 351\u001b[1;33m                         eval_in_batches(validation_data, sess), validation_labels))\n\u001b[0m\u001b[0;32m    352\u001b[0m                 \u001b[0msys\u001b[0m\u001b[1;33m.\u001b[0m\u001b[0mstdout\u001b[0m\u001b[1;33m.\u001b[0m\u001b[0mflush\u001b[0m\u001b[1;33m(\u001b[0m\u001b[1;33m)\u001b[0m\u001b[1;33m\u001b[0m\u001b[0m\n\u001b[0;32m    353\u001b[0m \u001b[1;33m\u001b[0m\u001b[0m\n",
      "\u001b[1;32m/tf-hpo/src/convolutional.py\u001b[0m in \u001b[0;36meval_in_batches\u001b[1;34m(data, sess)\u001b[0m\n\u001b[0;32m    299\u001b[0m                     predictions[begin:end, :] = sess.run(\n\u001b[0;32m    300\u001b[0m                         \u001b[0meval_prediction\u001b[0m\u001b[1;33m,\u001b[0m\u001b[1;33m\u001b[0m\u001b[0m\n\u001b[1;32m--> 301\u001b[1;33m                         feed_dict={eval_data: data[begin:end, ...]})\n\u001b[0m\u001b[0;32m    302\u001b[0m                 \u001b[1;32melse\u001b[0m\u001b[1;33m:\u001b[0m\u001b[1;33m\u001b[0m\u001b[0m\n\u001b[0;32m    303\u001b[0m \u001b[1;33m\u001b[0m\u001b[0m\n",
      "\u001b[1;32m/usr/local/lib/python2.7/dist-packages/tensorflow/python/client/session.pyc\u001b[0m in \u001b[0;36mrun\u001b[1;34m(self, fetches, feed_dict, options, run_metadata)\u001b[0m\n\u001b[0;32m    370\u001b[0m     \u001b[1;32mtry\u001b[0m\u001b[1;33m:\u001b[0m\u001b[1;33m\u001b[0m\u001b[0m\n\u001b[0;32m    371\u001b[0m       result = self._run(None, fetches, feed_dict, options_ptr,\n\u001b[1;32m--> 372\u001b[1;33m                          run_metadata_ptr)\n\u001b[0m\u001b[0;32m    373\u001b[0m       \u001b[1;32mif\u001b[0m \u001b[0mrun_metadata\u001b[0m\u001b[1;33m:\u001b[0m\u001b[1;33m\u001b[0m\u001b[0m\n\u001b[0;32m    374\u001b[0m         \u001b[0mproto_data\u001b[0m \u001b[1;33m=\u001b[0m \u001b[0mtf_session\u001b[0m\u001b[1;33m.\u001b[0m\u001b[0mTF_GetBuffer\u001b[0m\u001b[1;33m(\u001b[0m\u001b[0mrun_metadata_ptr\u001b[0m\u001b[1;33m)\u001b[0m\u001b[1;33m\u001b[0m\u001b[0m\n",
      "\u001b[1;32m/usr/local/lib/python2.7/dist-packages/tensorflow/python/client/session.pyc\u001b[0m in \u001b[0;36m_run\u001b[1;34m(self, handle, fetches, feed_dict, options, run_metadata)\u001b[0m\n\u001b[0;32m    634\u001b[0m     \u001b[1;32mtry\u001b[0m\u001b[1;33m:\u001b[0m\u001b[1;33m\u001b[0m\u001b[0m\n\u001b[0;32m    635\u001b[0m       results = self._do_run(handle, target_list, unique_fetches,\n\u001b[1;32m--> 636\u001b[1;33m                              feed_dict_string, options, run_metadata)\n\u001b[0m\u001b[0;32m    637\u001b[0m     \u001b[1;32mfinally\u001b[0m\u001b[1;33m:\u001b[0m\u001b[1;33m\u001b[0m\u001b[0m\n\u001b[0;32m    638\u001b[0m       \u001b[1;31m# The movers are no longer used. Delete them.\u001b[0m\u001b[1;33m\u001b[0m\u001b[1;33m\u001b[0m\u001b[0m\n",
      "\u001b[1;32m/usr/local/lib/python2.7/dist-packages/tensorflow/python/client/session.pyc\u001b[0m in \u001b[0;36m_do_run\u001b[1;34m(self, handle, target_list, fetch_list, feed_dict, options, run_metadata)\u001b[0m\n\u001b[0;32m    706\u001b[0m     \u001b[1;32mif\u001b[0m \u001b[0mhandle\u001b[0m \u001b[1;32mis\u001b[0m \u001b[0mNone\u001b[0m\u001b[1;33m:\u001b[0m\u001b[1;33m\u001b[0m\u001b[0m\n\u001b[0;32m    707\u001b[0m       return self._do_call(_run_fn, self._session, feed_dict, fetch_list,\n\u001b[1;32m--> 708\u001b[1;33m                            target_list, options, run_metadata)\n\u001b[0m\u001b[0;32m    709\u001b[0m     \u001b[1;32melse\u001b[0m\u001b[1;33m:\u001b[0m\u001b[1;33m\u001b[0m\u001b[0m\n\u001b[0;32m    710\u001b[0m       return self._do_call(_prun_fn, self._session, handle, feed_dict,\n",
      "\u001b[1;32m/usr/local/lib/python2.7/dist-packages/tensorflow/python/client/session.pyc\u001b[0m in \u001b[0;36m_do_call\u001b[1;34m(self, fn, *args)\u001b[0m\n\u001b[0;32m    713\u001b[0m   \u001b[1;32mdef\u001b[0m \u001b[0m_do_call\u001b[0m\u001b[1;33m(\u001b[0m\u001b[0mself\u001b[0m\u001b[1;33m,\u001b[0m \u001b[0mfn\u001b[0m\u001b[1;33m,\u001b[0m \u001b[1;33m*\u001b[0m\u001b[0margs\u001b[0m\u001b[1;33m)\u001b[0m\u001b[1;33m:\u001b[0m\u001b[1;33m\u001b[0m\u001b[0m\n\u001b[0;32m    714\u001b[0m     \u001b[1;32mtry\u001b[0m\u001b[1;33m:\u001b[0m\u001b[1;33m\u001b[0m\u001b[0m\n\u001b[1;32m--> 715\u001b[1;33m       \u001b[1;32mreturn\u001b[0m \u001b[0mfn\u001b[0m\u001b[1;33m(\u001b[0m\u001b[1;33m*\u001b[0m\u001b[0margs\u001b[0m\u001b[1;33m)\u001b[0m\u001b[1;33m\u001b[0m\u001b[0m\n\u001b[0m\u001b[0;32m    716\u001b[0m     \u001b[1;32mexcept\u001b[0m \u001b[0merrors\u001b[0m\u001b[1;33m.\u001b[0m\u001b[0mOpError\u001b[0m \u001b[1;32mas\u001b[0m \u001b[0me\u001b[0m\u001b[1;33m:\u001b[0m\u001b[1;33m\u001b[0m\u001b[0m\n\u001b[0;32m    717\u001b[0m       \u001b[0mmessage\u001b[0m \u001b[1;33m=\u001b[0m \u001b[0mcompat\u001b[0m\u001b[1;33m.\u001b[0m\u001b[0mas_text\u001b[0m\u001b[1;33m(\u001b[0m\u001b[0me\u001b[0m\u001b[1;33m.\u001b[0m\u001b[0mmessage\u001b[0m\u001b[1;33m)\u001b[0m\u001b[1;33m\u001b[0m\u001b[0m\n",
      "\u001b[1;32m/usr/local/lib/python2.7/dist-packages/tensorflow/python/client/session.pyc\u001b[0m in \u001b[0;36m_run_fn\u001b[1;34m(session, feed_dict, fetch_list, target_list, options, run_metadata)\u001b[0m\n\u001b[0;32m    695\u001b[0m         return tf_session.TF_Run(session, options,\n\u001b[0;32m    696\u001b[0m                                  \u001b[0mfeed_dict\u001b[0m\u001b[1;33m,\u001b[0m \u001b[0mfetch_list\u001b[0m\u001b[1;33m,\u001b[0m \u001b[0mtarget_list\u001b[0m\u001b[1;33m,\u001b[0m\u001b[1;33m\u001b[0m\u001b[0m\n\u001b[1;32m--> 697\u001b[1;33m                                  status, run_metadata)\n\u001b[0m\u001b[0;32m    698\u001b[0m \u001b[1;33m\u001b[0m\u001b[0m\n\u001b[0;32m    699\u001b[0m     \u001b[1;32mdef\u001b[0m \u001b[0m_prun_fn\u001b[0m\u001b[1;33m(\u001b[0m\u001b[0msession\u001b[0m\u001b[1;33m,\u001b[0m \u001b[0mhandle\u001b[0m\u001b[1;33m,\u001b[0m \u001b[0mfeed_dict\u001b[0m\u001b[1;33m,\u001b[0m \u001b[0mfetch_list\u001b[0m\u001b[1;33m)\u001b[0m\u001b[1;33m:\u001b[0m\u001b[1;33m\u001b[0m\u001b[0m\n",
      "\u001b[1;31mKeyboardInterrupt\u001b[0m: "
     ]
    }
   ],
   "source": [
    "# run single train\n",
    "layer1 = 4\n",
    "layer2 = 4\n",
    "fully = 1024\n",
    "%run ./convolutional.py --config=\"./conv.cfg\" --conv1_depth=$layer1 --conv2_depth=$layer2 --fc_depth=$fully"
   ]
  },
  {
   "cell_type": "code",
   "execution_count": null,
   "metadata": {
    "collapsed": true
   },
   "outputs": [],
   "source": [
    "# TODO: run 16, 32, 64, 128, 256, 512, 1024 under (256, 512, *)"
   ]
  },
  {
   "cell_type": "code",
   "execution_count": null,
   "metadata": {
    "collapsed": false
   },
   "outputs": [],
   "source": [
    "# run all trains twice\n",
    "for i in range(2):\n",
    "    %run ./cnn_layer2_multi.py --all "
   ]
  },
  {
   "cell_type": "code",
   "execution_count": null,
   "metadata": {
    "collapsed": true
   },
   "outputs": [],
   "source": [
    "# TODO: run 256, 1024, {128, 256, 512, 1024} later"
   ]
  },
  {
   "cell_type": "code",
   "execution_count": null,
   "metadata": {
    "collapsed": false
   },
   "outputs": [],
   "source": [
    "# run all trains\n",
    "neurons = [128, 256, 512, 1024]\n",
    "for i in neurons:\n",
    "        %run ./cnn_layer2_multi.py $i"
   ]
  },
  {
   "cell_type": "code",
   "execution_count": null,
   "metadata": {
    "collapsed": false
   },
   "outputs": [],
   "source": [
    "neurons = [2, 4, 8, 16, 32, 64, 128, 256, 512, 1024]\n",
    "for i in [256, 512] :\n",
    "    %run ./cnn_layer2_multi.py $i"
   ]
  },
  {
   "cell_type": "code",
   "execution_count": null,
   "metadata": {
    "collapsed": false
   },
   "outputs": [],
   "source": [
    "neurons = [2, 4, 8, 16, 32, 64, 128, 256, 512, 1024]\n",
    "for i in [128, 256] :\n",
    "    for j in [4, 8, 16, 32, 64, 128, 256, 512, 1024] :\n",
    "        %run ./cnn_layer2.py $i $j"
   ]
  },
  {
   "cell_type": "code",
   "execution_count": null,
   "metadata": {
    "collapsed": false
   },
   "outputs": [],
   "source": [
    "for i in [8] :\n",
    "    for j in [128] :\n",
    "        for k in [128] :\n",
    "            %run ./cnn_layer2_multi.py $i $j $k"
   ]
  },
  {
   "cell_type": "code",
   "execution_count": null,
   "metadata": {
    "collapsed": false
   },
   "outputs": [],
   "source": [
    "#missing training conditions\n",
    "neurons = [2, 4, 8, 16, 32, 64, 128, 256, 512, 1024]\n",
    "for i in [1024] :\n",
    "    for j in [1024] :\n",
    "        %run ./cnn_layer2_multi.py $i $j"
   ]
  },
  {
   "cell_type": "code",
   "execution_count": null,
   "metadata": {
    "collapsed": true
   },
   "outputs": [],
   "source": [
    "!export LD_LIBRARY_PATH=/usr/local/cuda/lib64"
   ]
  },
  {
   "cell_type": "code",
   "execution_count": null,
   "metadata": {
    "collapsed": false
   },
   "outputs": [],
   "source": [
    "!env"
   ]
  },
  {
   "cell_type": "code",
   "execution_count": null,
   "metadata": {
    "collapsed": false
   },
   "outputs": [],
   "source": [
    "#remained trainings\n",
    "import time\n",
    "print time.time()\n",
    "neurons = [2, 4, 8, 16, 32, 64, 128, 256, 512, 1024]\n",
    "for i in [1024] :\n",
    "    for j in [1024] :\n",
    "        for k in [1024] :\n",
    "            %run ./cnn_layer2.py $i $j $k"
   ]
  }
 ],
 "metadata": {
  "kernelspec": {
   "display_name": "Python 2",
   "language": "python",
   "name": "python2"
  },
  "language_info": {
   "codemirror_mode": {
    "name": "ipython",
    "version": 2
   },
   "file_extension": ".py",
   "mimetype": "text/x-python",
   "name": "python",
   "nbconvert_exporter": "python",
   "pygments_lexer": "ipython2",
   "version": "2.7.6"
  }
 },
 "nbformat": 4,
 "nbformat_minor": 0
}
