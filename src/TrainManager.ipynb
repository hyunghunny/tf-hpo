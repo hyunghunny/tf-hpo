{
 "cells": [
  {
   "cell_type": "code",
   "execution_count": null,
   "metadata": {
    "collapsed": false
   },
   "outputs": [],
   "source": [
    "# run single train\n",
    "layer1 = 256\n",
    "layer2 = 512\n",
    "fully = 8\n",
    "%run ./cnn_layer2.py $layer1 $layer2 $fully"
   ]
  },
  {
   "cell_type": "code",
   "execution_count": null,
   "metadata": {
    "collapsed": true
   },
   "outputs": [],
   "source": [
    "# TODO: run 16, 32, 64, 128, 256, 512, 1024 under (256, 512, *)"
   ]
  },
  {
   "cell_type": "code",
   "execution_count": null,
   "metadata": {
    "collapsed": false
   },
   "outputs": [],
   "source": [
    "# run multiple trains\n",
    "layer1 = 256\n",
    "layer2 = 1024\n",
    "\n",
    "%run ./cnn_layer2.py $layer1 $layer2"
   ]
  },
  {
   "cell_type": "code",
   "execution_count": null,
   "metadata": {
    "collapsed": true
   },
   "outputs": [],
   "source": [
    "# TODO: run 256, 1024, {128, 256, 512, 1024} later"
   ]
  },
  {
   "cell_type": "code",
   "execution_count": null,
   "metadata": {
    "collapsed": false
   },
   "outputs": [
    {
     "name": "stdout",
     "output_type": "stream",
     "text": [
      "Extracting /tmp/data/train-images-idx3-ubyte.gz\n",
      "Extracting /tmp/data/train-labels-idx1-ubyte.gz\n",
      "Extracting /tmp/data/t10k-images-idx3-ubyte.gz\n",
      "Extracting /tmp/data/t10k-labels-idx1-ubyte.gz\n",
      "start training by cnn_2_2_2_2\n",
      "cnn_2_2_2_2 : 0.136719\n",
      "start training by cnn_2_2_2_4\n",
      "cnn_2_2_2_4 : 0.0546875\n",
      "start training by cnn_2_2_2_8\n",
      "cnn_2_2_2_8 : 0.0859375\n",
      "start training by cnn_2_2_2_16\n",
      "cnn_2_2_2_16 : 0.109375\n",
      "start training by cnn_2_2_2_32\n",
      "cnn_2_2_2_32 : 0.0898438\n",
      "start training by cnn_2_2_2_64\n"
     ]
    }
   ],
   "source": [
    "# run all trainings with 3 times\n",
    "neurons = [2, 4, 8, 16, 32, 64, 128, 256, 512, 1024]\n",
    "for i in [1, 2, 3] :\n",
    "    for j in neurons :\n",
    "        for k in neurons :\n",
    "            %run ./cnn_layer2.py $j $k"
   ]
  }
 ],
 "metadata": {
  "kernelspec": {
   "display_name": "Python 2",
   "language": "python",
   "name": "python2"
  },
  "language_info": {
   "codemirror_mode": {
    "name": "ipython",
    "version": 2
   },
   "file_extension": ".py",
   "mimetype": "text/x-python",
   "name": "python",
   "nbconvert_exporter": "python",
   "pygments_lexer": "ipython2",
   "version": "2.7.6"
  }
 },
 "nbformat": 4,
 "nbformat_minor": 0
}
