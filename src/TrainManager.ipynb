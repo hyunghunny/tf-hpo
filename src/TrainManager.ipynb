{
 "cells": [
  {
   "cell_type": "code",
   "execution_count": null,
   "metadata": {
    "collapsed": false
   },
   "outputs": [],
   "source": [
    "# run single train\n",
    "layer1 = 256\n",
    "layer2 = 512\n",
    "fully = 8\n",
    "%run ./cnn_layer2.py $layer1 $layer2 $fully"
   ]
  },
  {
   "cell_type": "code",
   "execution_count": null,
   "metadata": {
    "collapsed": true
   },
   "outputs": [],
   "source": [
    "# TODO: run 16, 32, 64, 128, 256, 512, 1024 under (256, 512, *)"
   ]
  },
  {
   "cell_type": "code",
   "execution_count": null,
   "metadata": {
    "collapsed": false
   },
   "outputs": [],
   "source": [
    "# run multiple trains\n",
    "layer1 = 256\n",
    "layer2 = 1024\n",
    "\n",
    "%run ./cnn_layer2.py $layer1 $layer2"
   ]
  },
  {
   "cell_type": "code",
   "execution_count": null,
   "metadata": {
    "collapsed": true
   },
   "outputs": [],
   "source": [
    "# TODO: run 256, 1024, {128, 256, 512, 1024} later"
   ]
  },
  {
   "cell_type": "code",
   "execution_count": 6,
   "metadata": {
    "collapsed": false
   },
   "outputs": [
    {
     "name": "stdout",
     "output_type": "stream",
     "text": [
      "Extracting /tmp/data/train-images-idx3-ubyte.gz\n",
      "Extracting /tmp/data/train-labels-idx1-ubyte.gz\n",
      "Extracting /tmp/data/t10k-images-idx3-ubyte.gz\n",
      "Extracting /tmp/data/t10k-labels-idx1-ubyte.gz\n",
      "cnn_2_32_256_4 : 0.121094\n",
      "Extracting /tmp/data/train-images-idx3-ubyte.gz\n",
      "Extracting /tmp/data/train-labels-idx1-ubyte.gz\n",
      "Extracting /tmp/data/t10k-images-idx3-ubyte.gz\n",
      "Extracting /tmp/data/t10k-labels-idx1-ubyte.gz\n",
      "cnn_2_32_256_8 : 0.109375\n",
      "Extracting /tmp/data/train-images-idx3-ubyte.gz\n",
      "Extracting /tmp/data/train-labels-idx1-ubyte.gz\n",
      "Extracting /tmp/data/t10k-images-idx3-ubyte.gz\n",
      "Extracting /tmp/data/t10k-labels-idx1-ubyte.gz\n",
      "cnn_2_32_256_16 : 0.132812\n",
      "Extracting /tmp/data/train-images-idx3-ubyte.gz\n",
      "Extracting /tmp/data/train-labels-idx1-ubyte.gz\n",
      "Extracting /tmp/data/t10k-images-idx3-ubyte.gz\n",
      "Extracting /tmp/data/t10k-labels-idx1-ubyte.gz\n",
      "cnn_2_32_256_32 : 0.132812\n",
      "Extracting /tmp/data/train-images-idx3-ubyte.gz\n",
      "Extracting /tmp/data/train-labels-idx1-ubyte.gz\n",
      "Extracting /tmp/data/t10k-images-idx3-ubyte.gz\n",
      "Extracting /tmp/data/t10k-labels-idx1-ubyte.gz\n",
      "cnn_2_32_256_64 : 0.109375\n",
      "Extracting /tmp/data/train-images-idx3-ubyte.gz\n",
      "Extracting /tmp/data/train-labels-idx1-ubyte.gz\n",
      "Extracting /tmp/data/t10k-images-idx3-ubyte.gz\n",
      "Extracting /tmp/data/t10k-labels-idx1-ubyte.gz\n",
      "cnn_2_32_256_128 : 0.148438\n",
      "Extracting /tmp/data/train-images-idx3-ubyte.gz\n",
      "Extracting /tmp/data/train-labels-idx1-ubyte.gz\n",
      "Extracting /tmp/data/t10k-images-idx3-ubyte.gz\n",
      "Extracting /tmp/data/t10k-labels-idx1-ubyte.gz\n",
      "cnn_2_32_256_256 : 0.144531\n",
      "Extracting /tmp/data/train-images-idx3-ubyte.gz\n",
      "Extracting /tmp/data/train-labels-idx1-ubyte.gz\n",
      "Extracting /tmp/data/t10k-images-idx3-ubyte.gz\n",
      "Extracting /tmp/data/t10k-labels-idx1-ubyte.gz\n",
      "cnn_2_32_256_512 : 0.941406\n",
      "Extracting /tmp/data/train-images-idx3-ubyte.gz\n",
      "Extracting /tmp/data/train-labels-idx1-ubyte.gz\n",
      "Extracting /tmp/data/t10k-images-idx3-ubyte.gz\n",
      "Extracting /tmp/data/t10k-labels-idx1-ubyte.gz\n",
      "cnn_2_32_256_1024 : 0.980469\n"
     ]
    }
   ],
   "source": [
    "neurons = [2, 4, 8, 16, 32, 64, 128, 256, 512, 1024]\n",
    "for i in [32] :\n",
    "    for j in [256] :\n",
    "        for k in [4, 8, 16, 32, 64, 128, 256, 512, 1024] :\n",
    "            %run ./cnn_layer2.py $i $j $k"
   ]
  },
  {
   "cell_type": "code",
   "execution_count": 3,
   "metadata": {
    "collapsed": false
   },
   "outputs": [
    {
     "name": "stdout",
     "output_type": "stream",
     "text": [
      "Extracting /tmp/data/train-images-idx3-ubyte.gz\n",
      "Extracting /tmp/data/train-labels-idx1-ubyte.gz\n",
      "Extracting /tmp/data/t10k-images-idx3-ubyte.gz\n",
      "Extracting /tmp/data/t10k-labels-idx1-ubyte.gz\n",
      "logger created\n",
      "cnn_2_32_128_2 : 0.136719\n",
      "Extracting /tmp/data/train-images-idx3-ubyte.gz\n",
      "Extracting /tmp/data/train-labels-idx1-ubyte.gz\n",
      "Extracting /tmp/data/t10k-images-idx3-ubyte.gz\n",
      "Extracting /tmp/data/t10k-labels-idx1-ubyte.gz\n",
      "logger created\n",
      "cnn_2_32_128_4 : 0.121094\n",
      "Extracting /tmp/data/train-images-idx3-ubyte.gz\n",
      "Extracting /tmp/data/train-labels-idx1-ubyte.gz\n",
      "Extracting /tmp/data/t10k-images-idx3-ubyte.gz\n",
      "Extracting /tmp/data/t10k-labels-idx1-ubyte.gz\n",
      "logger created\n",
      "cnn_2_32_128_8 : 0.0898438\n",
      "Extracting /tmp/data/train-images-idx3-ubyte.gz\n",
      "Extracting /tmp/data/train-labels-idx1-ubyte.gz\n",
      "Extracting /tmp/data/t10k-images-idx3-ubyte.gz\n",
      "Extracting /tmp/data/t10k-labels-idx1-ubyte.gz\n",
      "logger created\n",
      "cnn_2_32_128_16 : 0.132812\n",
      "Extracting /tmp/data/train-images-idx3-ubyte.gz\n",
      "Extracting /tmp/data/train-labels-idx1-ubyte.gz\n",
      "Extracting /tmp/data/t10k-images-idx3-ubyte.gz\n",
      "Extracting /tmp/data/t10k-labels-idx1-ubyte.gz\n",
      "logger created\n",
      "cnn_2_32_128_32 : 0.0546875\n",
      "Extracting /tmp/data/train-images-idx3-ubyte.gz\n",
      "Extracting /tmp/data/train-labels-idx1-ubyte.gz\n",
      "Extracting /tmp/data/t10k-images-idx3-ubyte.gz\n",
      "Extracting /tmp/data/t10k-labels-idx1-ubyte.gz\n",
      "logger created\n",
      "cnn_2_32_128_64 : 0.125\n",
      "Extracting /tmp/data/train-images-idx3-ubyte.gz\n",
      "Extracting /tmp/data/train-labels-idx1-ubyte.gz\n",
      "Extracting /tmp/data/t10k-images-idx3-ubyte.gz\n",
      "Extracting /tmp/data/t10k-labels-idx1-ubyte.gz\n",
      "logger created\n",
      "cnn_2_32_128_128 : 0.109375\n",
      "Extracting /tmp/data/train-images-idx3-ubyte.gz\n",
      "Extracting /tmp/data/train-labels-idx1-ubyte.gz\n",
      "Extracting /tmp/data/t10k-images-idx3-ubyte.gz\n",
      "Extracting /tmp/data/t10k-labels-idx1-ubyte.gz\n",
      "logger created\n",
      "cnn_2_32_128_256 : 0.226562\n",
      "Extracting /tmp/data/train-images-idx3-ubyte.gz\n",
      "Extracting /tmp/data/train-labels-idx1-ubyte.gz\n",
      "Extracting /tmp/data/t10k-images-idx3-ubyte.gz\n",
      "Extracting /tmp/data/t10k-labels-idx1-ubyte.gz\n",
      "logger created\n",
      "cnn_2_32_128_512 : 0.957031\n",
      "Extracting /tmp/data/train-images-idx3-ubyte.gz\n",
      "Extracting /tmp/data/train-labels-idx1-ubyte.gz\n",
      "Extracting /tmp/data/t10k-images-idx3-ubyte.gz\n",
      "Extracting /tmp/data/t10k-labels-idx1-ubyte.gz\n",
      "logger created\n",
      "cnn_2_32_128_1024 : 0.976562\n"
     ]
    }
   ],
   "source": [
    "neurons = [2, 4, 8, 16, 32, 64, 128, 256, 512, 1024]\n",
    "for i in [32] :\n",
    "    for j in [128] :\n",
    "        for k in neurons :\n",
    "            %run ./cnn_layer2.py $i $j $k"
   ]
  },
  {
   "cell_type": "code",
   "execution_count": null,
   "metadata": {
    "collapsed": false
   },
   "outputs": [
    {
     "name": "stdout",
     "output_type": "stream",
     "text": [
      "Extracting /tmp/data/train-images-idx3-ubyte.gz\n",
      "Extracting /tmp/data/train-labels-idx1-ubyte.gz\n",
      "Extracting /tmp/data/t10k-images-idx3-ubyte.gz\n",
      "Extracting /tmp/data/t10k-labels-idx1-ubyte.gz\n",
      "mnist_cnn_2,128,4,2 : 0.132812\n",
      "mnist_cnn_2,128,4,4 : 0.136719\n",
      "mnist_cnn_2,128,4,8 : 0.121094\n",
      "mnist_cnn_2,128,4,16 : 0.136719\n",
      "mnist_cnn_2,128,4,32 : 0.136719\n",
      "mnist_cnn_2,128,4,64 : 0.0898438\n",
      "mnist_cnn_2,128,4,128 : 0.0898438\n",
      "mnist_cnn_2,128,4,256 : 0.101562\n",
      "mnist_cnn_2,128,4,512 : 0.09375\n",
      "mnist_cnn_2,128,4,1024 : 0.0859375\n",
      "Extracting /tmp/data/train-images-idx3-ubyte.gz\n",
      "Extracting /tmp/data/train-labels-idx1-ubyte.gz\n",
      "Extracting /tmp/data/t10k-images-idx3-ubyte.gz\n",
      "Extracting /tmp/data/t10k-labels-idx1-ubyte.gz\n",
      "mnist_cnn_2,128,8,2 : 0.0898438\n",
      "mnist_cnn_2,128,8,4 : 0.121094\n",
      "mnist_cnn_2,128,8,8 : 0.101562\n",
      "mnist_cnn_2,128,8,16 : 0.09375\n",
      "mnist_cnn_2,128,8,32 : 0.0546875\n",
      "mnist_cnn_2,128,8,64 : 0.0898438\n",
      "mnist_cnn_2,128,8,128 : 0.136719\n",
      "mnist_cnn_2,128,8,256 : 0.195312\n",
      "mnist_cnn_2,128,8,512 : 0.136719\n",
      "mnist_cnn_2,128,8,1024 : 0.132812\n",
      "Extracting /tmp/data/train-images-idx3-ubyte.gz\n",
      "Extracting /tmp/data/train-labels-idx1-ubyte.gz\n",
      "Extracting /tmp/data/t10k-images-idx3-ubyte.gz\n",
      "Extracting /tmp/data/t10k-labels-idx1-ubyte.gz\n",
      "mnist_cnn_2,128,16,2 : 0.136719\n",
      "mnist_cnn_2,128,16,4 : 0.101562\n",
      "mnist_cnn_2,128,16,8 : 0.0546875\n",
      "mnist_cnn_2,128,16,16 : 0.136719\n",
      "mnist_cnn_2,128,16,32 : 0.09375\n",
      "mnist_cnn_2,128,16,64 : 0.132812\n",
      "mnist_cnn_2,128,16,128 : 0.140625\n",
      "mnist_cnn_2,128,16,256 : 0.109375\n",
      "mnist_cnn_2,128,16,512 : 0.140625\n",
      "mnist_cnn_2,128,16,1024 : 0.960938\n",
      "Extracting /tmp/data/train-images-idx3-ubyte.gz\n",
      "Extracting /tmp/data/train-labels-idx1-ubyte.gz\n",
      "Extracting /tmp/data/t10k-images-idx3-ubyte.gz\n",
      "Extracting /tmp/data/t10k-labels-idx1-ubyte.gz\n",
      "mnist_cnn_2,128,32,2 : 0.109375\n",
      "mnist_cnn_2,128,32,4 : 0.113281\n",
      "mnist_cnn_2,128,32,8 : 0.09375\n",
      "mnist_cnn_2,128,32,16 : 0.0546875\n",
      "mnist_cnn_2,128,32,32 : 0.0859375\n",
      "mnist_cnn_2,128,32,64 : 0.144531\n",
      "mnist_cnn_2,128,32,128 : 0.148438\n",
      "mnist_cnn_2,128,32,256 : 0.945312\n",
      "mnist_cnn_2,128,32,512 : 0.960938\n",
      "mnist_cnn_2,128,32,1024 : 0.976562\n",
      "Extracting /tmp/data/train-images-idx3-ubyte.gz\n",
      "Extracting /tmp/data/train-labels-idx1-ubyte.gz\n",
      "Extracting /tmp/data/t10k-images-idx3-ubyte.gz\n",
      "Extracting /tmp/data/t10k-labels-idx1-ubyte.gz\n",
      "mnist_cnn_2,128,64,2 : 0.121094\n",
      "mnist_cnn_2,128,64,4 : 0.132812\n",
      "mnist_cnn_2,128,64,8 : 0.136719\n",
      "mnist_cnn_2,128,64,16 : 0.109375\n",
      "mnist_cnn_2,128,64,32 : 0.0859375\n",
      "mnist_cnn_2,128,64,64 : 0.121094\n",
      "mnist_cnn_2,128,64,128 : 0.140625\n",
      "mnist_cnn_2,128,64,256 : 0.238281\n",
      "mnist_cnn_2,128,64,512 : 0.96875\n",
      "mnist_cnn_2,128,64,1024 : 0.988281\n",
      "Extracting /tmp/data/train-images-idx3-ubyte.gz\n",
      "Extracting /tmp/data/train-labels-idx1-ubyte.gz\n",
      "Extracting /tmp/data/t10k-images-idx3-ubyte.gz\n",
      "Extracting /tmp/data/t10k-labels-idx1-ubyte.gz\n",
      "mnist_cnn_2,128,128,2 : 0.0898438\n",
      "mnist_cnn_2,128,128,4 : 0.136719\n",
      "mnist_cnn_2,128,128,8 : 0.0546875\n",
      "mnist_cnn_2,128,128,16 : 0.09375\n",
      "mnist_cnn_2,128,128,32 : 0.125\n",
      "mnist_cnn_2,128,128,64 : 0.09375\n",
      "mnist_cnn_2,128,128,128 : 0.140625\n",
      "mnist_cnn_2,128,128,256 : 0.210938\n",
      "mnist_cnn_2,128,128,512 : 0.964844\n",
      "mnist_cnn_2,128,128,1024 : 0.984375\n",
      "Extracting /tmp/data/train-images-idx3-ubyte.gz\n",
      "Extracting /tmp/data/train-labels-idx1-ubyte.gz\n",
      "Extracting /tmp/data/t10k-images-idx3-ubyte.gz\n",
      "Extracting /tmp/data/t10k-labels-idx1-ubyte.gz\n",
      "mnist_cnn_2,128,256,2 : 0.121094\n",
      "mnist_cnn_2,128,256,4 : 0.0742188\n",
      "mnist_cnn_2,128,256,8 : 0.109375\n",
      "mnist_cnn_2,128,256,16 : 0.136719\n",
      "mnist_cnn_2,128,256,32 : 0.109375\n",
      "mnist_cnn_2,128,256,64 : 0.125\n",
      "mnist_cnn_2,128,256,128 : 0.136719\n",
      "mnist_cnn_2,128,256,256 : 0.175781\n",
      "mnist_cnn_2,128,256,512 : 0.609375\n",
      "mnist_cnn_2,128,256,1024 : 0.980469\n",
      "Extracting /tmp/data/train-images-idx3-ubyte.gz\n",
      "Extracting /tmp/data/train-labels-idx1-ubyte.gz\n",
      "Extracting /tmp/data/t10k-images-idx3-ubyte.gz\n",
      "Extracting /tmp/data/t10k-labels-idx1-ubyte.gz\n",
      "mnist_cnn_2,128,512,2 : 0.0859375\n",
      "mnist_cnn_2,128,512,4 : 0.136719\n",
      "mnist_cnn_2,128,512,8 : 0.136719\n",
      "mnist_cnn_2,128,512,16 : 0.132812\n",
      "mnist_cnn_2,128,512,32 : 0.136719\n",
      "mnist_cnn_2,128,512,64 : 0.132812\n",
      "mnist_cnn_2,128,512,128 : 0.136719\n",
      "mnist_cnn_2,128,512,256 : 0.195312\n",
      "mnist_cnn_2,128,512,512 : 0.335938\n",
      "mnist_cnn_2,128,512,1024 : 0.972656\n",
      "Extracting /tmp/data/train-images-idx3-ubyte.gz\n",
      "Extracting /tmp/data/train-labels-idx1-ubyte.gz\n",
      "Extracting /tmp/data/t10k-images-idx3-ubyte.gz\n",
      "Extracting /tmp/data/t10k-labels-idx1-ubyte.gz\n",
      "mnist_cnn_2,128,1024,2 : 0.136719\n",
      "mnist_cnn_2,128,1024,4 : 0.101562\n",
      "mnist_cnn_2,128,1024,8 : 0.0546875\n",
      "mnist_cnn_2,128,1024,16 : 0.109375\n",
      "mnist_cnn_2,128,1024,32 : 0.132812\n",
      "mnist_cnn_2,128,1024,64 : 0.121094\n",
      "mnist_cnn_2,128,1024,128 : 0.164062\n",
      "mnist_cnn_2,128,1024,256 : 0.125\n",
      "mnist_cnn_2,128,1024,512 : 0.230469\n",
      "mnist_cnn_2,128,1024,1024 : 0.972656\n",
      "Extracting /tmp/data/train-images-idx3-ubyte.gz\n",
      "Extracting /tmp/data/train-labels-idx1-ubyte.gz\n",
      "Extracting /tmp/data/t10k-images-idx3-ubyte.gz\n",
      "Extracting /tmp/data/t10k-labels-idx1-ubyte.gz\n",
      "mnist_cnn_2,256,4,2 : 0.101562\n",
      "mnist_cnn_2,256,4,4 : 0.0742188\n",
      "mnist_cnn_2,256,4,8 : 0.136719\n",
      "mnist_cnn_2,256,4,16 : 0.113281\n",
      "mnist_cnn_2,256,4,32 : 0.121094\n",
      "mnist_cnn_2,256,4,64 : 0.136719\n",
      "mnist_cnn_2,256,4,128 : 0.0898438\n",
      "mnist_cnn_2,256,4,256 : 0.136719\n",
      "mnist_cnn_2,256,4,512 : 0.117188\n",
      "mnist_cnn_2,256,4,1024 : 0.136719\n",
      "Extracting /tmp/data/train-images-idx3-ubyte.gz\n",
      "Extracting /tmp/data/train-labels-idx1-ubyte.gz\n",
      "Extracting /tmp/data/t10k-images-idx3-ubyte.gz\n",
      "Extracting /tmp/data/t10k-labels-idx1-ubyte.gz\n",
      "mnist_cnn_2,256,8,2 : 0.132812\n",
      "mnist_cnn_2,256,8,4 : 0.132812\n",
      "mnist_cnn_2,256,8,8 : 0.121094\n",
      "mnist_cnn_2,256,8,16 : 0.132812\n",
      "mnist_cnn_2,256,8,32 : 0.0742188\n",
      "mnist_cnn_2,256,8,64 : 0.136719\n",
      "mnist_cnn_2,256,8,128 : 0.0898438\n",
      "mnist_cnn_2,256,8,256 : 0.0742188\n",
      "mnist_cnn_2,256,8,512 : 0.0898438\n",
      "mnist_cnn_2,256,8,1024 : 0.136719\n",
      "Extracting /tmp/data/train-images-idx3-ubyte.gz\n",
      "Extracting /tmp/data/train-labels-idx1-ubyte.gz\n",
      "Extracting /tmp/data/t10k-images-idx3-ubyte.gz\n",
      "Extracting /tmp/data/t10k-labels-idx1-ubyte.gz\n",
      "mnist_cnn_2,256,16,2 : 0.121094\n",
      "mnist_cnn_2,256,16,4 : 0.132812\n",
      "mnist_cnn_2,256,16,8 : 0.09375\n",
      "mnist_cnn_2,256,16,16 : 0.101562\n",
      "mnist_cnn_2,256,16,32 : 0.121094\n",
      "mnist_cnn_2,256,16,64 : 0.164062\n",
      "mnist_cnn_2,256,16,128 : 0.0742188\n",
      "mnist_cnn_2,256,16,256 : 0.136719\n",
      "mnist_cnn_2,256,16,512 : 0.136719\n",
      "mnist_cnn_2,256,16,1024 : 0.835938\n",
      "Extracting /tmp/data/train-images-idx3-ubyte.gz\n",
      "Extracting /tmp/data/train-labels-idx1-ubyte.gz\n",
      "Extracting /tmp/data/t10k-images-idx3-ubyte.gz\n",
      "Extracting /tmp/data/t10k-labels-idx1-ubyte.gz\n",
      "mnist_cnn_2,256,32,2 : 0.109375\n",
      "mnist_cnn_2,256,32,4 : 0.136719\n",
      "mnist_cnn_2,256,32,8 : 0.109375\n",
      "mnist_cnn_2,256,32,16 : 0.109375\n",
      "mnist_cnn_2,256,32,32 : 0.136719\n",
      "mnist_cnn_2,256,32,64 : 0.140625\n",
      "mnist_cnn_2,256,32,128 : 0.148438\n",
      "mnist_cnn_2,256,32,256 : 0.9375\n",
      "mnist_cnn_2,256,32,512 : 0.957031\n"
     ]
    }
   ],
   "source": [
    "neurons = [2, 4, 8, 16, 32, 64, 128, 256, 512, 1024]\n",
    "for i in [128, 256] :\n",
    "    for j in [4, 8, 16, 32, 64, 128, 256, 512, 1024] :\n",
    "        %run ./cnn_layer2.py $i $j"
   ]
  },
  {
   "cell_type": "code",
   "execution_count": null,
   "metadata": {
    "collapsed": true
   },
   "outputs": [],
   "source": [
    "#missing training conditions\n",
    "neurons = [2, 4, 8, 16, 32, 64, 128, 256, 512, 1024]\n",
    "for i in [256] :\n",
    "    for j in [2] :\n",
    "        %run ./cnn_layer2.py $i $j"
   ]
  },
  {
   "cell_type": "code",
   "execution_count": null,
   "metadata": {
    "collapsed": true
   },
   "outputs": [],
   "source": [
    "#remained trainings\n",
    "neurons = [2, 4, 8, 16, 32, 64, 128, 256, 512, 1024]\n",
    "for i in [512, 1024] :\n",
    "    for j in neurons :\n",
    "        %run ./cnn_layer2.py $i $j"
   ]
  },
  {
   "cell_type": "code",
   "execution_count": 4,
   "metadata": {
    "collapsed": false
   },
   "outputs": [
    {
     "name": "stdout",
     "output_type": "stream",
     "text": [
      "Extracting /tmp/data/train-images-idx3-ubyte.gz\n",
      "Extracting /tmp/data/train-labels-idx1-ubyte.gz\n",
      "Extracting /tmp/data/t10k-images-idx3-ubyte.gz\n",
      "Extracting /tmp/data/t10k-labels-idx1-ubyte.gz\n",
      "mnist_cnn_3,4,4,4,1024 : 0.234375\n"
     ]
    }
   ],
   "source": [
    "for i in [4] :\n",
    "    for j in [4] :\n",
    "        for k in [4]:\n",
    "            for l in [1024]:\n",
    "                %run ./cnn_layer3.py $i $j $k $l"
   ]
  }
 ],
 "metadata": {
  "kernelspec": {
   "display_name": "Python 2",
   "language": "python",
   "name": "python2"
  },
  "language_info": {
   "codemirror_mode": {
    "name": "ipython",
    "version": 2
   },
   "file_extension": ".py",
   "mimetype": "text/x-python",
   "name": "python",
   "nbconvert_exporter": "python",
   "pygments_lexer": "ipython2",
   "version": "2.7.6"
  }
 },
 "nbformat": 4,
 "nbformat_minor": 0
}
