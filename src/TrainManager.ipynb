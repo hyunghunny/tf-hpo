{
 "cells": [
  {
   "cell_type": "code",
   "execution_count": null,
   "metadata": {
    "collapsed": true
   },
   "outputs": [],
   "source": [
    "import time"
   ]
  },
  {
   "cell_type": "code",
   "execution_count": null,
   "metadata": {
    "collapsed": false
   },
   "outputs": [],
   "source": [
    "# run single train\n",
    "layer1 = 2\n",
    "layer2 = 8\n",
    "fully = 1024\n",
    "%run ./cnn_layer2_multi.py $layer1 $layer2 $fully"
   ]
  },
  {
   "cell_type": "code",
   "execution_count": null,
   "metadata": {
    "collapsed": true
   },
   "outputs": [],
   "source": [
    "# TODO: run 16, 32, 64, 128, 256, 512, 1024 under (256, 512, *)"
   ]
  },
  {
   "cell_type": "code",
   "execution_count": null,
   "metadata": {
    "collapsed": false
   },
   "outputs": [],
   "source": [
    "# run all trains\n",
    "#%run ./cnn_layer2_multi.py --all\n",
    "# something wrong! DO NOT USE THIS "
   ]
  },
  {
   "cell_type": "code",
   "execution_count": null,
   "metadata": {
    "collapsed": true
   },
   "outputs": [],
   "source": [
    "# TODO: run 256, 1024, {128, 256, 512, 1024} later"
   ]
  },
  {
   "cell_type": "code",
   "execution_count": null,
   "metadata": {
    "collapsed": false
   },
   "outputs": [
    {
     "name": "stdout",
     "output_type": "stream",
     "text": [
      "Extracting ../.tmp/data/train-images-idx3-ubyte.gz\n",
      "Extracting ../.tmp/data/train-labels-idx1-ubyte.gz\n",
      "Extracting ../.tmp/data/t10k-images-idx3-ubyte.gz\n",
      "Extracting ../.tmp/data/t10k-labels-idx1-ubyte.gz\n",
      "cnn_mnist_test_acc_2_2_4 test accuracies : [[0.046875, 0.056640625, 0.075195312]]\n",
      "cnn_mnist_test_acc_2_2_8 test accuracies : [[0.1171875, 0.11328125, 0.11572266]]\n",
      "cnn_mnist_test_acc_2_2_2 test accuracies : [[0.0625, 0.0859375, 0.097167969]]\n",
      "cnn_mnist_test_acc_2_2_16 test accuracies : [[0.046875, 0.044921875, 0.063964844]]\n",
      "cnn_mnist_test_acc_2_2_64 test accuracies : [[0.08984375, 0.0859375, 0.093261719]]\n",
      "cnn_mnist_test_acc_2_2_32 test accuracies : [[0.09765625, 0.095703125, 0.092773438]]\n",
      "cnn_mnist_test_acc_2_2_128 test accuracies : [[0.16796875, 0.15429688, 0.14697266]]\n",
      "cnn_mnist_test_acc_2_2_256 test accuracies : [[0.125, 0.125, 0.12548828]]\n",
      "cnn_mnist_test_acc_2_2_512 test accuracies : [[0.05859375, 0.05078125, 0.066894531]]\n",
      "cnn_mnist_test_acc_2_2_1024 test accuracies : [[0.08984375, 0.099609375, 0.094238281]]\n",
      "training is terminated\n",
      "Extracting ../.tmp/data/train-images-idx3-ubyte.gz\n",
      "Extracting ../.tmp/data/train-labels-idx1-ubyte.gz\n",
      "Extracting ../.tmp/data/t10k-images-idx3-ubyte.gz\n",
      "Extracting ../.tmp/data/t10k-labels-idx1-ubyte.gz\n",
      "cnn_mnist_test_acc_2_4_8 test accuracies : [[0.11328125, 0.099609375, 0.096191406]]\n",
      "cnn_mnist_test_acc_2_4_4 test accuracies : [[0.06640625, 0.09375, 0.12207031]]\n",
      "cnn_mnist_test_acc_2_4_2 test accuracies : [[0.07421875, 0.091796875, 0.0859375]]\n",
      "cnn_mnist_test_acc_2_4_16 test accuracies : [[0.1171875, 0.13476562, 0.10839844]]\n",
      "cnn_mnist_test_acc_2_4_64 test accuracies : [[0.125, 0.12109375, 0.12597656]]\n",
      "cnn_mnist_test_acc_2_4_32 test accuracies : [[0.10546875, 0.10742188, 0.095703125]]\n",
      "cnn_mnist_test_acc_2_4_128 test accuracies : [[0.109375, 0.11523438, 0.11230469]]\n",
      "cnn_mnist_test_acc_2_4_256 test accuracies : [[0.09375, 0.08984375, 0.095214844]]\n",
      "cnn_mnist_test_acc_2_4_512 test accuracies : [[0.19921875, 0.19140625, 0.18554688]]\n",
      "cnn_mnist_test_acc_2_4_1024 test accuracies : [[0.1484375, 0.12890625, 0.12207031]]\n",
      "training is terminated\n",
      "Extracting ../.tmp/data/train-images-idx3-ubyte.gz\n",
      "Extracting ../.tmp/data/train-labels-idx1-ubyte.gz\n",
      "Extracting ../.tmp/data/t10k-images-idx3-ubyte.gz\n",
      "Extracting ../.tmp/data/t10k-labels-idx1-ubyte.gz\n",
      "cnn_mnist_test_acc_2_8_8 test accuracies : [[0.14453125, 0.15625, 0.15722656]]\n",
      "cnn_mnist_test_acc_2_8_4 test accuracies : [[0.12109375, 0.12304688, 0.10595703]]\n",
      "cnn_mnist_test_acc_2_8_2 test accuracies : [[0.1484375, 0.13085938, 0.12109375]]\n",
      "cnn_mnist_test_acc_2_8_16 test accuracies : [[0.0703125, 0.0703125, 0.086914062]]\n",
      "cnn_mnist_test_acc_2_8_32 test accuracies : [[0.16796875, 0.13476562, 0.13867188]]\n",
      "cnn_mnist_test_acc_2_8_128 test accuracies : [[0.078125, 0.0859375, 0.098144531]]\n",
      "cnn_mnist_test_acc_2_8_64 test accuracies : [[0.06640625, 0.072265625, 0.077148438]]\n",
      "cnn_mnist_test_acc_2_8_256 test accuracies : [[0.11328125, 0.1015625, 0.098632812]]\n"
     ]
    }
   ],
   "source": [
    "# run all trains\n",
    "neurons = [2, 4, 8, 16, 32, 64, 128, 256, 512, 1024]\n",
    "for i in neurons:\n",
    "    for j in neurons :\n",
    "        %run ./cnn_layer2_multi.py $i $j"
   ]
  },
  {
   "cell_type": "code",
   "execution_count": null,
   "metadata": {
    "collapsed": false
   },
   "outputs": [],
   "source": [
    "neurons = [2, 4, 8, 16, 32, 64, 128, 256, 512, 1024]\n",
    "for i in [256, 512] :\n",
    "    %run ./cnn_layer2_multi.py $i"
   ]
  },
  {
   "cell_type": "code",
   "execution_count": null,
   "metadata": {
    "collapsed": false
   },
   "outputs": [],
   "source": [
    "neurons = [2, 4, 8, 16, 32, 64, 128, 256, 512, 1024]\n",
    "for i in [128, 256] :\n",
    "    for j in [4, 8, 16, 32, 64, 128, 256, 512, 1024] :\n",
    "        %run ./cnn_layer2.py $i $j"
   ]
  },
  {
   "cell_type": "code",
   "execution_count": null,
   "metadata": {
    "collapsed": false
   },
   "outputs": [],
   "source": [
    "for i in [8] :\n",
    "    for j in [128] :\n",
    "        for k in [128] :\n",
    "            %run ./cnn_layer2_multi.py $i $j $k"
   ]
  },
  {
   "cell_type": "code",
   "execution_count": null,
   "metadata": {
    "collapsed": false
   },
   "outputs": [],
   "source": [
    "#missing training conditions\n",
    "neurons = [2, 4, 8, 16, 32, 64, 128, 256, 512, 1024]\n",
    "for i in [1024] :\n",
    "    for j in [1024] :\n",
    "        %run ./cnn_layer2_multi.py $i $j"
   ]
  },
  {
   "cell_type": "code",
   "execution_count": null,
   "metadata": {
    "collapsed": true
   },
   "outputs": [],
   "source": [
    "!export LD_LIBRARY_PATH=/usr/local/cuda/lib64"
   ]
  },
  {
   "cell_type": "code",
   "execution_count": null,
   "metadata": {
    "collapsed": false
   },
   "outputs": [],
   "source": [
    "!env"
   ]
  },
  {
   "cell_type": "code",
   "execution_count": null,
   "metadata": {
    "collapsed": false
   },
   "outputs": [],
   "source": [
    "#remained trainings\n",
    "import time\n",
    "print time.time()\n",
    "neurons = [2, 4, 8, 16, 32, 64, 128, 256, 512, 1024]\n",
    "for i in [1024] :\n",
    "    for j in [1024] :\n",
    "        for k in [1024] :\n",
    "            %run ./cnn_layer2.py $i $j $k"
   ]
  }
 ],
 "metadata": {
  "kernelspec": {
   "display_name": "Python 2",
   "language": "python",
   "name": "python2"
  },
  "language_info": {
   "codemirror_mode": {
    "name": "ipython",
    "version": 2
   },
   "file_extension": ".py",
   "mimetype": "text/x-python",
   "name": "python",
   "nbconvert_exporter": "python",
   "pygments_lexer": "ipython2",
   "version": "2.7.12"
  }
 },
 "nbformat": 4,
 "nbformat_minor": 0
}
