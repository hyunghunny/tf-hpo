{
 "cells": [
  {
   "cell_type": "code",
   "execution_count": null,
   "metadata": {
    "collapsed": true
   },
   "outputs": [],
   "source": [
    "import time"
   ]
  },
  {
   "cell_type": "code",
   "execution_count": null,
   "metadata": {
    "collapsed": false
   },
   "outputs": [],
   "source": [
    "# run single train\n",
    "layer1 = 2\n",
    "layer2 = 8\n",
    "fully = 1024\n",
    "%run ./cnn_layer2_multi.py $layer1 $layer2 $fully"
   ]
  },
  {
   "cell_type": "code",
   "execution_count": null,
   "metadata": {
    "collapsed": true
   },
   "outputs": [],
   "source": [
    "# TODO: run 16, 32, 64, 128, 256, 512, 1024 under (256, 512, *)"
   ]
  },
  {
   "cell_type": "code",
   "execution_count": null,
   "metadata": {
    "collapsed": false
   },
   "outputs": [],
   "source": [
    "# run all trains\n",
    "#%run ./cnn_layer2_multi.py --all\n",
    "# something wrong! DO NOT USE THIS "
   ]
  },
  {
   "cell_type": "code",
   "execution_count": null,
   "metadata": {
    "collapsed": true
   },
   "outputs": [],
   "source": [
    "# TODO: run 256, 1024, {128, 256, 512, 1024} later"
   ]
  },
  {
   "cell_type": "code",
   "execution_count": null,
   "metadata": {
    "collapsed": false
   },
   "outputs": [
    {
     "name": "stdout",
     "output_type": "stream",
     "text": [
      "Extracting ../.tmp/data/train-images-idx3-ubyte.gz\n",
      "Extracting ../.tmp/data/train-labels-idx1-ubyte.gz\n",
      "Extracting ../.tmp/data/t10k-images-idx3-ubyte.gz\n",
      "Extracting ../.tmp/data/t10k-labels-idx1-ubyte.gz\n",
      "cnn_mnist_test_acc_64_2_8 test accuracies : [[0.140625, 0.14648438, 0.14257812]]\n",
      "cnn_mnist_test_acc_64_2_4 test accuracies : [[0.15234375, 0.140625, 0.12792969]]\n",
      "cnn_mnist_test_acc_64_2_2 test accuracies : [[0.1015625, 0.1015625, 0.091308594]]\n",
      "cnn_mnist_test_acc_64_2_64 test accuracies : [[0.1328125, 0.15429688, 0.13867188]]\n",
      "cnn_mnist_test_acc_64_2_32 test accuracies : [[0.14453125, 0.1328125, 0.12548828]]\n",
      "cnn_mnist_test_acc_64_2_16 test accuracies : [[0.1640625, 0.14648438, 0.13574219]]\n",
      "cnn_mnist_test_acc_64_2_256 test accuracies : [[0.109375, 0.10351562, 0.089355469]]\n",
      "cnn_mnist_test_acc_64_2_512 test accuracies : [[0.08203125, 0.11132812, 0.12011719]]\n",
      "cnn_mnist_test_acc_64_2_128 test accuracies : [[0.09375, 0.10742188, 0.10498047]]\n"
     ]
    }
   ],
   "source": [
    "# run all trains\n",
    "neurons = [64, 128, 256, 512, 1024]\n",
    "for i in neurons:\n",
    "        %run ./cnn_layer2_multi.py $i"
   ]
  },
  {
   "cell_type": "code",
   "execution_count": null,
   "metadata": {
    "collapsed": false
   },
   "outputs": [],
   "source": [
    "neurons = [2, 4, 8, 16, 32, 64, 128, 256, 512, 1024]\n",
    "for i in [256, 512] :\n",
    "    %run ./cnn_layer2_multi.py $i"
   ]
  },
  {
   "cell_type": "code",
   "execution_count": null,
   "metadata": {
    "collapsed": false
   },
   "outputs": [],
   "source": [
    "neurons = [2, 4, 8, 16, 32, 64, 128, 256, 512, 1024]\n",
    "for i in [128, 256] :\n",
    "    for j in [4, 8, 16, 32, 64, 128, 256, 512, 1024] :\n",
    "        %run ./cnn_layer2.py $i $j"
   ]
  },
  {
   "cell_type": "code",
   "execution_count": null,
   "metadata": {
    "collapsed": false
   },
   "outputs": [],
   "source": [
    "for i in [8] :\n",
    "    for j in [128] :\n",
    "        for k in [128] :\n",
    "            %run ./cnn_layer2_multi.py $i $j $k"
   ]
  },
  {
   "cell_type": "code",
   "execution_count": null,
   "metadata": {
    "collapsed": false
   },
   "outputs": [],
   "source": [
    "#missing training conditions\n",
    "neurons = [2, 4, 8, 16, 32, 64, 128, 256, 512, 1024]\n",
    "for i in [1024] :\n",
    "    for j in [1024] :\n",
    "        %run ./cnn_layer2_multi.py $i $j"
   ]
  },
  {
   "cell_type": "code",
   "execution_count": null,
   "metadata": {
    "collapsed": true
   },
   "outputs": [],
   "source": [
    "!export LD_LIBRARY_PATH=/usr/local/cuda/lib64"
   ]
  },
  {
   "cell_type": "code",
   "execution_count": null,
   "metadata": {
    "collapsed": false
   },
   "outputs": [],
   "source": [
    "!env"
   ]
  },
  {
   "cell_type": "code",
   "execution_count": null,
   "metadata": {
    "collapsed": false
   },
   "outputs": [],
   "source": [
    "#remained trainings\n",
    "import time\n",
    "print time.time()\n",
    "neurons = [2, 4, 8, 16, 32, 64, 128, 256, 512, 1024]\n",
    "for i in [1024] :\n",
    "    for j in [1024] :\n",
    "        for k in [1024] :\n",
    "            %run ./cnn_layer2.py $i $j $k"
   ]
  }
 ],
 "metadata": {
  "kernelspec": {
   "display_name": "Python 2",
   "language": "python",
   "name": "python2"
  },
  "language_info": {
   "codemirror_mode": {
    "name": "ipython",
    "version": 2
   },
   "file_extension": ".py",
   "mimetype": "text/x-python",
   "name": "python",
   "nbconvert_exporter": "python",
   "pygments_lexer": "ipython2",
   "version": "2.7.12"
  }
 },
 "nbformat": 4,
 "nbformat_minor": 0
}
