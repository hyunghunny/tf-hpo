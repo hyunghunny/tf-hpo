{
 "cells": [
  {
   "cell_type": "code",
   "execution_count": 7,
   "metadata": {
    "collapsed": false
   },
   "outputs": [],
   "source": [
    "from config import Config\n",
    "\n",
    "f = file('tf-hpo.cfg')\n",
    "cfg = Config(f)"
   ]
  },
  {
   "cell_type": "code",
   "execution_count": 8,
   "metadata": {
    "collapsed": false
   },
   "outputs": [
    {
     "name": "stdout",
     "output_type": "stream",
     "text": [
      "../log/mnist-cnn_20160726.csv\n",
      "784\n",
      "10\n",
      "[2, 4, 8, 16, 32, 64, 128, 256, 512, 1024]\n",
      "[256, 512, 2048]\n",
      "3\n"
     ]
    }
   ],
   "source": [
    "print cfg.log_path\n",
    "print cfg.mnist.n_input\n",
    "print cfg.mnist.n_classes\n",
    "print cfg.mnist.neurons\n",
    "print cfg.mnist.train_images\n",
    "print cfg.available_gpus"
   ]
  }
 ],
 "metadata": {
  "kernelspec": {
   "display_name": "Python 2",
   "language": "python",
   "name": "python2"
  },
  "language_info": {
   "codemirror_mode": {
    "name": "ipython",
    "version": 2
   },
   "file_extension": ".py",
   "mimetype": "text/x-python",
   "name": "python",
   "nbconvert_exporter": "python",
   "pygments_lexer": "ipython2",
   "version": "2.7.12"
  }
 },
 "nbformat": 4,
 "nbformat_minor": 0
}
