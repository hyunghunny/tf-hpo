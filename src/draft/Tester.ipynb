{
 "cells": [
  {
   "cell_type": "code",
   "execution_count": 1,
   "metadata": {
    "collapsed": false
   },
   "outputs": [
    {
     "name": "stdout",
     "output_type": "stream",
     "text": [
      "(\"Params: {'filter_size': 4, 'fc_depth': 2, 'conv1_depth': 2, 'conv2_depth': 2}\",)\n",
      "(\"KVParams: {'progress': True, 'train_dev': '/cpu:0', 'eval_dev': '/gpu:2'}\",)\n",
      "('show progress: True',)\n",
      "('Logging test errors at test.csv',)\n",
      "('Training device id: /cpu:0',)\n",
      "('Evaluation device id: /gpu:2',)\n",
      "('Extracting', 'data/train-images-idx3-ubyte.gz')\n",
      "('Extracting', 'data/train-labels-idx1-ubyte.gz')\n",
      "('Extracting', 'data/t10k-images-idx3-ubyte.gz')\n",
      "('Extracting', 'data/t10k-labels-idx1-ubyte.gz')\n",
      "('optimizer: Momentum',)\n",
      "('Step 0 (epoch 0.00), 1.0 ms',)\n",
      "('Minibatch loss: 2.302, learning rate: 0.010000',)\n",
      "('Minibatch error: 92.2%',)\n",
      "('Validation error: 87.6%',)\n",
      "('Test error: 87.8%',)\n",
      "('Step 100 (epoch 0.12), 38.2 ms',)\n",
      "('Minibatch loss: 2.299, learning rate: 0.010000',)\n",
      "('Minibatch error: 85.9%',)\n",
      "('Validation error: 88.7%',)\n",
      "('Test error: 88.7%',)\n",
      "('Step 200 (epoch 0.23), 37.9 ms',)\n",
      "('Minibatch loss: 2.292, learning rate: 0.010000',)\n",
      "('Minibatch error: 82.8%',)\n",
      "('Validation error: 88.7%',)\n",
      "('Test error: 88.7%',)\n",
      "('Step 300 (epoch 0.35), 37.6 ms',)\n",
      "('Minibatch loss: 2.303, learning rate: 0.010000',)\n",
      "('Minibatch error: 90.6%',)\n",
      "('Validation error: 88.7%',)\n",
      "('Test error: 88.7%',)\n",
      "('Step 400 (epoch 0.47), 38.2 ms',)\n",
      "('Minibatch loss: 2.296, learning rate: 0.010000',)\n",
      "('Minibatch error: 87.5%',)\n",
      "('Validation error: 88.7%',)\n",
      "('Test error: 88.7%',)\n",
      "('Step 500 (epoch 0.58), 37.6 ms',)\n",
      "('Minibatch loss: 2.282, learning rate: 0.010000',)\n",
      "('Minibatch error: 82.8%',)\n",
      "('Validation error: 88.7%',)\n",
      "('Test error: 88.7%',)\n",
      "('Step 600 (epoch 0.70), 38.0 ms',)\n",
      "('Minibatch loss: 2.230, learning rate: 0.010000',)\n",
      "('Minibatch error: 79.7%',)\n",
      "('Validation error: 83.7%',)\n",
      "('Test error: 82.3%',)\n",
      "('Step 700 (epoch 0.81), 37.8 ms',)\n",
      "('Minibatch loss: 2.040, learning rate: 0.010000',)\n",
      "('Minibatch error: 73.4%',)\n",
      "('Validation error: 66.0%',)\n",
      "('Test error: 65.4%',)\n",
      "('Step 800 (epoch 0.93), 38.0 ms',)\n",
      "('Minibatch loss: 2.131, learning rate: 0.010000',)\n",
      "('Minibatch error: 81.2%',)\n",
      "('Validation error: 63.6%',)\n",
      "('Test error: 64.2%',)\n",
      "('Step 900 (epoch 1.05), 38.0 ms',)\n",
      "('Minibatch loss: 1.910, learning rate: 0.009500',)\n",
      "('Minibatch error: 75.0%',)\n",
      "('Validation error: 60.8%',)\n",
      "('Test error: 60.6%',)\n",
      "('Step 1000 (epoch 1.16), 37.8 ms',)\n",
      "('Minibatch loss: 1.864, learning rate: 0.009500',)\n",
      "('Minibatch error: 71.9%',)\n",
      "('Validation error: 60.6%',)\n",
      "('Test error: 60.9%',)\n",
      "('Step 1100 (epoch 1.28), 38.0 ms',)\n",
      "('Minibatch loss: 2.027, learning rate: 0.009500',)\n",
      "('Minibatch error: 81.2%',)\n",
      "('Validation error: 62.1%',)\n",
      "('Test error: 61.9%',)\n",
      "('Step 1200 (epoch 1.40), 38.2 ms',)\n",
      "('Minibatch loss: 2.038, learning rate: 0.009500',)\n",
      "('Minibatch error: 73.4%',)\n",
      "('Validation error: 64.5%',)\n",
      "('Test error: 65.0%',)\n",
      "('Step 1300 (epoch 1.51), 38.2 ms',)\n",
      "('Minibatch loss: 1.942, learning rate: 0.009500',)\n",
      "('Minibatch error: 76.6%',)\n",
      "('Validation error: 59.3%',)\n",
      "('Test error: 59.8%',)\n",
      "('Step 1400 (epoch 1.63), 38.4 ms',)\n",
      "('Minibatch loss: 2.003, learning rate: 0.009500',)\n",
      "('Minibatch error: 76.6%',)\n",
      "('Validation error: 58.6%',)\n",
      "('Test error: 58.4%',)\n",
      "('Step 1500 (epoch 1.75), 39.3 ms',)\n",
      "('Minibatch loss: 1.969, learning rate: 0.009500',)\n",
      "('Minibatch error: 78.1%',)\n",
      "('Validation error: 57.4%',)\n",
      "('Test error: 58.0%',)\n",
      "('Step 1600 (epoch 1.86), 39.6 ms',)\n",
      "('Minibatch loss: 1.889, learning rate: 0.009500',)\n",
      "('Minibatch error: 78.1%',)\n",
      "('Validation error: 57.1%',)\n",
      "('Test error: 57.5%',)\n",
      "('Step 1700 (epoch 1.98), 38.8 ms',)\n",
      "('Minibatch loss: 2.027, learning rate: 0.009500',)\n",
      "('Minibatch error: 79.7%',)\n",
      "('Validation error: 61.9%',)\n",
      "('Test error: 62.2%',)\n",
      "('Test error: 57.3%',)\n",
      "('Result: 57.31',)\n"
     ]
    },
    {
     "data": {
      "text/plain": [
       "57.31"
      ]
     },
     "execution_count": 1,
     "metadata": {},
     "output_type": "execute_result"
    }
   ],
   "source": [
    "import conv_model as model\n",
    "params = {\"filter_size\": 4, \"conv1_depth\" : 2, \"conv2_depth\": 2, \"fc_depth\": 2}\n",
    "model.learn(params, train_dev='/cpu:0', eval_dev='/gpu:2', progress=True)"
   ]
  },
  {
   "cell_type": "code",
   "execution_count": 2,
   "metadata": {
    "collapsed": false
   },
   "outputs": [
    {
     "name": "stdout",
     "output_type": "stream",
     "text": [
      "Direct learning is not supported\n"
     ]
    }
   ],
   "source": [
    "%run conv_model.py --filter_size=4 --conv1_depth=2 --conv2_depth=2 --fc_depth=2 --opt=Tom"
   ]
  }
 ],
 "metadata": {
  "kernelspec": {
   "display_name": "Python 2",
   "language": "python",
   "name": "python2"
  },
  "language_info": {
   "codemirror_mode": {
    "name": "ipython",
    "version": 2
   },
   "file_extension": ".py",
   "mimetype": "text/x-python",
   "name": "python",
   "nbconvert_exporter": "python",
   "pygments_lexer": "ipython2",
   "version": "2.7.6"
  }
 },
 "nbformat": 4,
 "nbformat_minor": 0
}
