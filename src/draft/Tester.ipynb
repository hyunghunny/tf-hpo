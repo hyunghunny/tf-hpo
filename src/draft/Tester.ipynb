{
 "cells": [
  {
   "cell_type": "code",
   "execution_count": 1,
   "metadata": {
    "collapsed": true
   },
   "outputs": [],
   "source": [
    "from multiprocessing import Pool\n",
    "import mnist_conv_model as model\n",
    "import traceback\n",
    "import sys"
   ]
  },
  {
   "cell_type": "code",
   "execution_count": 3,
   "metadata": {
    "collapsed": false
   },
   "outputs": [
    {
     "name": "stdout",
     "output_type": "stream",
     "text": [
      "{1: {'a': 1}}\n"
     ]
    }
   ],
   "source": [
    "dict = {}\n",
    "dict2 = {'a' : 1}\n",
    "dict[1] = dict2\n",
    "print dict"
   ]
  },
  {
   "cell_type": "code",
   "execution_count": 2,
   "metadata": {
    "collapsed": true
   },
   "outputs": [],
   "source": [
    "from scipy.stats import linregress\n",
    "def fit_line1(x, y):\n",
    "    \"\"\"Return slope, intercept of best fit line.\"\"\"\n",
    "    # Remove entries where either x or y is NaN.\n",
    "    clean_data = pd.concat([x, y], 1).dropna(0) # row-wise\n",
    "    (_, x), (_, y) = clean_data.iteritems()\n",
    "    slope, intercept, r, p, stderr = linregress(x, y)\n",
    "    return slope, intercept # could also return stderr"
   ]
  },
  {
   "cell_type": "code",
   "execution_count": 19,
   "metadata": {
    "collapsed": false
   },
   "outputs": [
    {
     "name": "stdout",
     "output_type": "stream",
     "text": [
      "0.0\n"
     ]
    }
   ],
   "source": [
    "import pandas as pd\n",
    "df = pd.DataFrame({'x': range(2), 'y' : [1,1]})\n",
    "s, i = fit_line1(df['x'], df['y'])\n",
    "print s"
   ]
  },
  {
   "cell_type": "code",
   "execution_count": 25,
   "metadata": {
    "collapsed": false
   },
   "outputs": [
    {
     "name": "stdout",
     "output_type": "stream",
     "text": [
      "True\n"
     ]
    }
   ],
   "source": [
    "a = float('NaN')\n",
    "b = 0.0\n",
    "print a != b"
   ]
  },
  {
   "cell_type": "code",
   "execution_count": 2,
   "metadata": {
    "collapsed": true
   },
   "outputs": [],
   "source": [
    "NUM_PROCESSES = 2"
   ]
  },
  {
   "cell_type": "code",
   "execution_count": 3,
   "metadata": {
    "collapsed": true
   },
   "outputs": [],
   "source": [
    "# create grid search parameter list\n",
    "def create_params_list():\n",
    "    params_list = []\n",
    "\n",
    "    filter_sizes = [6]\n",
    "    conv1_depths = [64]\n",
    "    conv2_depths = [64, 128]\n",
    "    fc_depths = [64, 128]\n",
    "\n",
    "    for f in range(len(filter_sizes)):\n",
    "        filter_size = filter_sizes[f]\n",
    "        for conv1 in range(len(conv1_depths)):\n",
    "            conv1_depth = conv1_depths[conv1]\n",
    "            for conv2 in range(len(conv2_depths)):\n",
    "                conv2_depth = conv2_depths[conv2]\n",
    "                for fc in range(len(fc_depths)):\n",
    "                    fc_depth = fc_depths[fc]\n",
    "                    params = {\"filter_size\": filter_size, \"conv1_depth\" : conv1_depth,\\\n",
    "                              \"conv2_depth\": conv2_depth, \"fc_depth\": fc_depth}\n",
    "                    params_list.append(params)\n",
    "    return params_list           "
   ]
  },
  {
   "cell_type": "code",
   "execution_count": 4,
   "metadata": {
    "collapsed": true
   },
   "outputs": [],
   "source": [
    "def mnist_cnn(repeats):\n",
    "    global iteration\n",
    "    global mnist\n",
    "    \n",
    "    assign = repeats % NUM_PROCESSES\n",
    "    #print \"repeat: \" + str(repeats) + \", iteration: \" + str(iteration) + \", assign: \" + str(assign)\n",
    "    iteration += 1\n",
    "    \n",
    "    params = params_list.pop(0) # for FIFO\n",
    "    #print \"Try to learn with : \" + str(params)\n",
    "    eval_device_id = '/gpu:' + str(NUM_PROCESSES * assign)\n",
    "    train_device_id = '/gpu:' + str(NUM_PROCESSES * assign + 1)\n",
    "    return model.learn(mnist, params, train_dev=train_device_id, eval_dev=eval_device_id, progress=False, epochs=1)"
   ]
  },
  {
   "cell_type": "code",
   "execution_count": 5,
   "metadata": {
    "collapsed": false
   },
   "outputs": [
    {
     "name": "stdout",
     "output_type": "stream",
     "text": [
      "('Extracting', 'data/train-images-idx3-ubyte.gz')\n",
      "('Extracting', 'data/train-labels-idx1-ubyte.gz')\n",
      "('Extracting', 'data/t10k-images-idx3-ubyte.gz')\n",
      "('Extracting', 'data/t10k-labels-idx1-ubyte.gz')\n",
      "total tests: 4\n"
     ]
    }
   ],
   "source": [
    "mnist = model.download_dataset()\n",
    "params_list = create_params_list()\n",
    "iteration = 0\n",
    "num_repeats = len(params_list)\n",
    "print \"total tests: \" + str(num_repeats)"
   ]
  },
  {
   "cell_type": "code",
   "execution_count": 6,
   "metadata": {
    "collapsed": false
   },
   "outputs": [],
   "source": [
    "def grid_search():\n",
    "    pool = Pool(processes=2)             \n",
    "    try:\n",
    "        result = pool.apply_async(mnist_cnn, [num_repeats])    \n",
    "        print result.get(timeout=None)           \n",
    "        print pool.map(mnist_cnn, range(num_repeats))\n",
    "    except:\n",
    "        e = sys.exc_info()[0]\n",
    "        traceback.print_exc()\n",
    "        print e"
   ]
  },
  {
   "cell_type": "code",
   "execution_count": 7,
   "metadata": {
    "collapsed": false
   },
   "outputs": [
    {
     "name": "stdout",
     "output_type": "stream",
     "text": [
      "(\"Params: {'filter_size': 6, 'fc_depth': 64, 'conv1_depth': 64, 'conv2_depth': 64}\",)\n",
      "(\"KVParams: {'epochs': 1, 'progress': False, 'train_dev': '/gpu:1', 'eval_dev': '/gpu:0'}\",)\n",
      "('show progress: False',)\n",
      "('Logging test errors at test.csv',)\n",
      "('Training device id: /gpu:1',)\n",
      "('Evaluation device id: /gpu:0',)\n",
      "('Epochs: 1',)\n",
      "('optimizer: Momentum',)\n",
      "('epoch num: 1, total steps: 859',)\n",
      "('0',)\n",
      "('100',)\n",
      "('200',)\n",
      "('300',)\n",
      "('400',)\n",
      "('500',)\n",
      "('600',)\n",
      "('700',)\n",
      "('800',)\n",
      "('Test error: 2.2%',)\n",
      "('Result: 2.23, Duration: 8.8593788147',)\n",
      "(\"Params: {'filter_size': 6, 'fc_depth': 128, 'conv1_depth': 64, 'conv2_depth': 64}\",)\n",
      "(\"KVParams: {'epochs': 1, 'progress': False, 'train_dev': '/gpu:3', 'eval_dev': '/gpu:2'}\",)\n",
      "(\"Params: {'filter_size': 6, 'fc_depth': 64, 'conv1_depth': 64, 'conv2_depth': 64}\",)\n",
      "('show progress: False',)\n",
      "(\"KVParams: {'epochs': 1, 'progress': False, 'train_dev': '/gpu:1', 'eval_dev': '/gpu:0'}\",)\n",
      "('Logging test errors at test.csv',)\n",
      "('show progress: False',)\n",
      "('Logging test errors at test.csv',)\n",
      "('Training device id: /gpu:3',)\n",
      "('Evaluation device id: /gpu:2',)\n",
      "('Training device id: /gpu:1',)\n",
      "('Epochs: 1',)\n",
      "('Evaluation device id: /gpu:0',)\n",
      "('Epochs: 1',)\n",
      "2.23\n",
      "('optimizer: Momentum',)\n",
      "('optimizer: Momentum',)\n",
      "('epoch num: 1, total steps: 859',)\n",
      "('0',)\n",
      "('epoch num: 1, total steps: 859',)\n",
      "('0',)\n",
      "('100',)\n",
      "('100',)\n",
      "('200',)\n",
      "('200',)\n",
      "('300',)\n",
      "('300',)\n",
      "('400',)\n",
      "('400',)\n",
      "('500',)\n",
      "('500',)\n",
      "('600',)\n",
      "('600',)\n",
      "('700',)\n",
      "('700',)\n",
      "('800',)\n",
      "('800',)\n",
      "('Test error: 2.1%',)\n",
      "('Result: 2.07, Duration: 7.50631189346',)\n",
      "(\"Params: {'filter_size': 6, 'fc_depth': 64, 'conv1_depth': 64, 'conv2_depth': 128}\",)\n",
      "(\"KVParams: {'epochs': 1, 'progress': False, 'train_dev': '/gpu:1', 'eval_dev': '/gpu:0'}\",)\n",
      "('show progress: False',)\n",
      "('Logging test errors at test.csv',)\n",
      "('Training device id: /gpu:1',)\n",
      "('Evaluation device id: /gpu:0',)\n",
      "('Epochs: 1',)\n",
      "('optimizer: Momentum',)\n",
      "('Test error: 2.1%',)\n",
      "('Result: 2.09, Duration: 7.84064698219',)\n",
      "(\"Params: {'filter_size': 6, 'fc_depth': 128, 'conv1_depth': 64, 'conv2_depth': 64}\",)\n",
      "(\"KVParams: {'epochs': 1, 'progress': False, 'train_dev': '/gpu:3', 'eval_dev': '/gpu:2'}\",)\n",
      "('show progress: False',)\n",
      "('Logging test errors at test.csv',)\n",
      "('Training device id: /gpu:3',)\n",
      "('Evaluation device id: /gpu:2',)\n",
      "('Epochs: 1',)\n",
      "('epoch num: 1, total steps: 859',)\n",
      "('0',)\n",
      "('optimizer: Momentum',)\n",
      "('epoch num: 1, total steps: 859',)\n",
      "('0',)\n",
      "('100',)\n",
      "('100',)\n",
      "('200',)\n",
      "('200',)\n",
      "('300',)\n",
      "('300',)\n",
      "('400',)\n",
      "('400',)\n",
      "('500',)\n",
      "('500',)\n",
      "('600',)\n",
      "('600',)\n",
      "('700',)\n",
      "('800',)\n",
      "('700',)\n",
      "('Test error: 2.0%',)\n",
      "('Result: 2.03, Duration: 7.01864695549',)\n",
      "('800',)\n",
      "('Test error: 2.5%',)\n",
      "('Result: 2.53, Duration: 8.42956805229',)\n",
      "[2.0900000000000034, 2.069999999999993, 2.530000000000001, 2.030000000000001]\n"
     ]
    }
   ],
   "source": [
    "if __name__ == '__main__':\n",
    "    grid_search()"
   ]
  },
  {
   "cell_type": "code",
   "execution_count": 3,
   "metadata": {
    "collapsed": false
   },
   "outputs": [],
   "source": [
    "import pickle\n",
    "obj = {'name' : \"hello\"}\n",
    "with open('entry.pickle', 'wb') as f:\n",
    "    pickle.dump(obj, f)  "
   ]
  },
  {
   "cell_type": "code",
   "execution_count": 4,
   "metadata": {
    "collapsed": false
   },
   "outputs": [
    {
     "name": "stdout",
     "output_type": "stream",
     "text": [
      "{'name': 'hello'}\n"
     ]
    }
   ],
   "source": [
    "with open('entry.pickle', 'rb') as f:\n",
    "    entry = pickle.load(f)\n",
    "    print str(entry)"
   ]
  },
  {
   "cell_type": "code",
   "execution_count": 5,
   "metadata": {
    "collapsed": false
   },
   "outputs": [
    {
     "name": "stdout",
     "output_type": "stream",
     "text": [
      "[3, 2, 1, 0]\n"
     ]
    }
   ],
   "source": [
    "devs = 4\n",
    "dev_ids = [i for i in range(devs)]\n",
    "dev_ids.reverse()\n",
    "print dev_ids"
   ]
  }
 ],
 "metadata": {
  "kernelspec": {
   "display_name": "Python 2",
   "language": "python",
   "name": "python2"
  },
  "language_info": {
   "codemirror_mode": {
    "name": "ipython",
    "version": 2
   },
   "file_extension": ".py",
   "mimetype": "text/x-python",
   "name": "python",
   "nbconvert_exporter": "python",
   "pygments_lexer": "ipython2",
   "version": "2.7.6"
  }
 },
 "nbformat": 4,
 "nbformat_minor": 0
}
