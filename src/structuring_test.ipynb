{
 "cells": [
  {
   "cell_type": "code",
   "execution_count": 1,
   "metadata": {
    "collapsed": false
   },
   "outputs": [],
   "source": [
    "import sys\n",
    "import time\n",
    "import traceback\n",
    "\n",
    "import models.mnist_data as mnist\n",
    "from models.selector import ModelSelector\n",
    "from modules.hpvconf import HPVGenerator\n",
    "from modules.hpmgr import HPVManager\n",
    "from modules.trainmgr import TrainingManager"
   ]
  },
  {
   "cell_type": "code",
   "execution_count": 2,
   "metadata": {
    "collapsed": false
   },
   "outputs": [],
   "source": [
    "def run(params, num_convs, num_fcs):\n",
    "    try:\n",
    "        print \"training starts: \" + str(params)\n",
    "        generator = HPVGenerator()\n",
    "        generator.setTemplate('CNN_HPV.ini')\n",
    "        log_path = \"../log/cnn_\" + \"c\" + str(num_convs) + \"f\" + str(num_fcs) + \".csv\"\n",
    "        \n",
    "        hpv_file = generator.generate(params, output_dir='.config/')\n",
    "        selector = ModelSelector(mnist.import_dataset())\n",
    "        model = selector.select(num_convs, num_fcs)\n",
    "        train_manager = TrainingManager(model, log_path)\n",
    "        train_manager.setTrainingDevices('gpu', 1)\n",
    "        train_manager.setLoggingParams([ hyperparam for hyperparam in params])\n",
    "        hpv = HPVManager(hpv_file, ini_dir='.config/')\n",
    "        return train_manager.run(hpv)\n",
    "           \n",
    "    except:\n",
    "        e = sys.exc_info()\n",
    "        print(\"Error: \" + str(e))\n",
    "        traceback.print_exc()    "
   ]
  },
  {
   "cell_type": "code",
   "execution_count": 3,
   "metadata": {
    "collapsed": true
   },
   "outputs": [],
   "source": [
    "total_convs = 96\n",
    "total_fcs = 512\n",
    "conv1 = 1\n",
    "conv2 = 1\n",
    "conv3 = 1\n",
    "fc1 = 1\n",
    "fc2 = 1\n",
    "fc3 = 1"
   ]
  },
  {
   "cell_type": "markdown",
   "metadata": {},
   "source": [
    "We will compare the structural differences in following conditions:\n",
    " * total number of neurons in convolutional layers: 96\n",
    " * total number of neurons in fully connected layers: 512\n",
    "   * each neurons in fully connected layers will be same due to architectural limitation"
   ]
  },
  {
   "cell_type": "code",
   "execution_count": 5,
   "metadata": {
    "collapsed": false
   },
   "outputs": [
    {
     "name": "stdout",
     "output_type": "stream",
     "text": [
      "training starts: {'CONV2_DEPTH': 88, 'FC1_WIDTH': 512, 'CONV1_DEPTH': 8}\n",
      "Training with /root/tf-hpolib/tf-hpo/src/.config/HPV_14794036394189.ini is terminated properly\n",
      "training starts: {'CONV2_DEPTH': 88, 'FC1_WIDTH': 256, 'CONV1_DEPTH': 8, 'FC2_WIDTH': 256}\n",
      "Training with /root/tf-hpolib/tf-hpo/src/.config/HPV_14794037247377.ini is terminated properly\n",
      "training starts: {'CONV2_DEPTH': 88, 'FC3_WIDTH': 170, 'FC1_WIDTH': 170, 'CONV1_DEPTH': 8, 'FC2_WIDTH': 170}\n",
      "Training with /root/tf-hpolib/tf-hpo/src/.config/HPV_14794038057668.ini is terminated properly\n",
      "training starts: {'CONV2_DEPTH': 80, 'FC1_WIDTH': 512, 'CONV1_DEPTH': 16}\n",
      "Training with /root/tf-hpolib/tf-hpo/src/.config/HPV_14794038883433.ini is terminated properly\n",
      "training starts: {'CONV2_DEPTH': 80, 'FC1_WIDTH': 256, 'CONV1_DEPTH': 16, 'FC2_WIDTH': 256}\n",
      "Training with /root/tf-hpolib/tf-hpo/src/.config/HPV_14794039832696.ini is terminated properly\n",
      "training starts: {'CONV2_DEPTH': 80, 'FC3_WIDTH': 170, 'FC1_WIDTH': 170, 'CONV1_DEPTH': 16, 'FC2_WIDTH': 170}\n",
      "Training with /root/tf-hpolib/tf-hpo/src/.config/HPV_14794040741345.ini is terminated properly\n",
      "training starts: {'CONV2_DEPTH': 72, 'FC1_WIDTH': 512, 'CONV1_DEPTH': 24}\n",
      "Training with /root/tf-hpolib/tf-hpo/src/.config/HPV_14794041678179.ini is terminated properly\n",
      "training starts: {'CONV2_DEPTH': 72, 'FC1_WIDTH': 256, 'CONV1_DEPTH': 24, 'FC2_WIDTH': 256}\n",
      "Training with /root/tf-hpolib/tf-hpo/src/.config/HPV_14794042674717.ini is terminated properly\n",
      "training starts: {'CONV2_DEPTH': 72, 'FC3_WIDTH': 170, 'FC1_WIDTH': 170, 'CONV1_DEPTH': 24, 'FC2_WIDTH': 170}\n",
      "Training with /root/tf-hpolib/tf-hpo/src/.config/HPV_14794043643651.ini is terminated properly\n",
      "training starts: {'CONV2_DEPTH': 64, 'FC1_WIDTH': 512, 'CONV1_DEPTH': 32}\n",
      "Training with /root/tf-hpolib/tf-hpo/src/.config/HPV_14794044624529.ini is terminated properly\n",
      "training starts: {'CONV2_DEPTH': 64, 'FC1_WIDTH': 256, 'CONV1_DEPTH': 32, 'FC2_WIDTH': 256}\n",
      "Training with /root/tf-hpolib/tf-hpo/src/.config/HPV_14794045641386.ini is terminated properly\n",
      "training starts: {'CONV2_DEPTH': 64, 'FC3_WIDTH': 170, 'FC1_WIDTH': 170, 'CONV1_DEPTH': 32, 'FC2_WIDTH': 170}\n",
      "Training with /root/tf-hpolib/tf-hpo/src/.config/HPV_14794046641125.ini is terminated properly\n",
      "training starts: {'CONV2_DEPTH': 56, 'FC1_WIDTH': 512, 'CONV1_DEPTH': 40}\n",
      "Training with /root/tf-hpolib/tf-hpo/src/.config/HPV_14794047655803.ini is terminated properly\n",
      "training starts: {'CONV2_DEPTH': 56, 'FC1_WIDTH': 256, 'CONV1_DEPTH': 40, 'FC2_WIDTH': 256}\n",
      "Training with /root/tf-hpolib/tf-hpo/src/.config/HPV_14794048792809.ini is terminated properly\n",
      "training starts: {'CONV2_DEPTH': 56, 'FC3_WIDTH': 170, 'FC1_WIDTH': 170, 'CONV1_DEPTH': 40, 'FC2_WIDTH': 170}\n",
      "Training with /root/tf-hpolib/tf-hpo/src/.config/HPV_14794049934733.ini is terminated properly\n",
      "training starts: {'CONV2_DEPTH': 48, 'FC1_WIDTH': 512, 'CONV1_DEPTH': 48}\n",
      "Training with /root/tf-hpolib/tf-hpo/src/.config/HPV_14794051105756.ini is terminated properly\n",
      "training starts: {'CONV2_DEPTH': 48, 'FC1_WIDTH': 256, 'CONV1_DEPTH': 48, 'FC2_WIDTH': 256}\n",
      "Training with /root/tf-hpolib/tf-hpo/src/.config/HPV_14794052282037.ini is terminated properly\n",
      "training starts: {'CONV2_DEPTH': 48, 'FC3_WIDTH': 170, 'FC1_WIDTH': 170, 'CONV1_DEPTH': 48, 'FC2_WIDTH': 170}\n",
      "Training with /root/tf-hpolib/tf-hpo/src/.config/HPV_14794053449939.ini is terminated properly\n",
      "training starts: {'CONV2_DEPTH': 40, 'FC1_WIDTH': 512, 'CONV1_DEPTH': 56}\n",
      "Training with /root/tf-hpolib/tf-hpo/src/.config/HPV_14794054640011.ini is terminated properly\n",
      "training starts: {'CONV2_DEPTH': 40, 'FC1_WIDTH': 256, 'CONV1_DEPTH': 56, 'FC2_WIDTH': 256}\n",
      "Training with /root/tf-hpolib/tf-hpo/src/.config/HPV_14794055838053.ini is terminated properly\n",
      "training starts: {'CONV2_DEPTH': 40, 'FC3_WIDTH': 170, 'FC1_WIDTH': 170, 'CONV1_DEPTH': 56, 'FC2_WIDTH': 170}\n",
      "Training with /root/tf-hpolib/tf-hpo/src/.config/HPV_14794057037245.ini is terminated properly\n",
      "training starts: {'CONV2_DEPTH': 32, 'FC1_WIDTH': 512, 'CONV1_DEPTH': 64}\n",
      "Training with /root/tf-hpolib/tf-hpo/src/.config/HPV_14794058259961.ini is terminated properly\n",
      "training starts: {'CONV2_DEPTH': 32, 'FC1_WIDTH': 256, 'CONV1_DEPTH': 64, 'FC2_WIDTH': 256}\n",
      "Training with /root/tf-hpolib/tf-hpo/src/.config/HPV_14794059368429.ini is terminated properly\n",
      "training starts: {'CONV2_DEPTH': 32, 'FC3_WIDTH': 170, 'FC1_WIDTH': 170, 'CONV1_DEPTH': 64, 'FC2_WIDTH': 170}\n",
      "Training with /root/tf-hpolib/tf-hpo/src/.config/HPV_14794060484191.ini is terminated properly\n",
      "training starts: {'CONV2_DEPTH': 24, 'FC1_WIDTH': 512, 'CONV1_DEPTH': 72}\n",
      "Training with /root/tf-hpolib/tf-hpo/src/.config/HPV_14794061628421.ini is terminated properly\n",
      "training starts: {'CONV2_DEPTH': 24, 'FC1_WIDTH': 256, 'CONV1_DEPTH': 72, 'FC2_WIDTH': 256}\n",
      "Training with /root/tf-hpolib/tf-hpo/src/.config/HPV_14794062809792.ini is terminated properly\n",
      "training starts: {'CONV2_DEPTH': 24, 'FC3_WIDTH': 170, 'FC1_WIDTH': 170, 'CONV1_DEPTH': 72, 'FC2_WIDTH': 170}\n",
      "Training with /root/tf-hpolib/tf-hpo/src/.config/HPV_14794064001715.ini is terminated properly\n",
      "training starts: {'CONV2_DEPTH': 16, 'FC1_WIDTH': 512, 'CONV1_DEPTH': 80}\n",
      "Training with /root/tf-hpolib/tf-hpo/src/.config/HPV_14794065268175.ini is terminated properly\n",
      "training starts: {'CONV2_DEPTH': 16, 'FC1_WIDTH': 256, 'CONV1_DEPTH': 80, 'FC2_WIDTH': 256}\n",
      "Training with /root/tf-hpolib/tf-hpo/src/.config/HPV_14794066501123.ini is terminated properly\n",
      "training starts: {'CONV2_DEPTH': 16, 'FC3_WIDTH': 170, 'FC1_WIDTH': 170, 'CONV1_DEPTH': 80, 'FC2_WIDTH': 170}\n",
      "Training with /root/tf-hpolib/tf-hpo/src/.config/HPV_14794067744599.ini is terminated properly\n",
      "training starts: {'CONV2_DEPTH': 8, 'FC1_WIDTH': 512, 'CONV1_DEPTH': 88}\n",
      "Training with /root/tf-hpolib/tf-hpo/src/.config/HPV_14794068972524.ini is terminated properly\n",
      "training starts: {'CONV2_DEPTH': 8, 'FC1_WIDTH': 256, 'CONV1_DEPTH': 88, 'FC2_WIDTH': 256}\n",
      "Training with /root/tf-hpolib/tf-hpo/src/.config/HPV_14794070146436.ini is terminated properly\n",
      "training starts: {'CONV2_DEPTH': 8, 'FC3_WIDTH': 170, 'FC1_WIDTH': 170, 'CONV1_DEPTH': 88, 'FC2_WIDTH': 170}\n",
      "Training with /root/tf-hpolib/tf-hpo/src/.config/HPV_14794071341051.ini is terminated properly\n"
     ]
    }
   ],
   "source": [
    "convs = [8, 16, 24, 32, 40, 48, 56, 64, 72, 80, 88]\n",
    "num_conv = 2\n",
    "for conv1 in convs:\n",
    "    conv2 = total_convs - conv1\n",
    "    fc = total_fcs\n",
    "    params = {'CONV1_DEPTH': conv1, 'CONV2_DEPTH': conv2, 'FC1_WIDTH': fc }\n",
    "    run(params, num_conv, 1)\n",
    "    fc = total_fcs // 2\n",
    "    params = {'CONV1_DEPTH': conv1, 'CONV2_DEPTH': conv2, 'FC1_WIDTH': fc, 'FC2_WIDTH': fc }\n",
    "    run(params, num_conv, 2)\n",
    "    fc = total_fcs // 3\n",
    "    params = {'CONV1_DEPTH': conv1, 'CONV2_DEPTH': conv2, 'FC1_WIDTH': fc, 'FC2_WIDTH': fc, 'FC3_WIDTH': fc }\n",
    "    run(params, num_conv, 3)    "
   ]
  },
  {
   "cell_type": "code",
   "execution_count": null,
   "metadata": {
    "collapsed": false
   },
   "outputs": [
    {
     "name": "stdout",
     "output_type": "stream",
     "text": [
      "training starts: {'CONV2_DEPTH': 8, 'CONV3_DEPTH': 80, 'FC1_WIDTH': 512, 'CONV1_DEPTH': 8}\n"
     ]
    }
   ],
   "source": [
    "convs = [8, 16, 24, 32, 40, 48, 56, 64, 72, 80]\n",
    "for conv1 in convs:\n",
    "    for conv2 in convs:\n",
    "        conv3 = total_convs - conv1 - conv2\n",
    "        if conv3 > 0:    \n",
    "            fc = total_fcs\n",
    "            params = {'CONV1_DEPTH': conv1, 'CONV2_DEPTH': conv2, 'CONV3_DEPTH': conv3, 'FC1_WIDTH': fc }\n",
    "            run(params, 3, 1)\n",
    "            fc = total_fcs // 2\n",
    "            params = {'CONV1_DEPTH': conv1, 'CONV2_DEPTH': conv2, 'CONV3_DEPTH': conv3, 'FC1_WIDTH': fc, 'FC2_WIDTH': fc }\n",
    "            run(params, 3, 2)\n",
    "            fc = total_fcs // 3\n",
    "            params = {'CONV1_DEPTH': conv1, 'CONV2_DEPTH': conv2, 'CONV3_DEPTH': conv3, 'FC1_WIDTH': fc, 'FC2_WIDTH': fc, 'FC3_WIDTH': fc }\n",
    "            run(params, 3, 3)"
   ]
  },
  {
   "cell_type": "code",
   "execution_count": null,
   "metadata": {
    "collapsed": true
   },
   "outputs": [],
   "source": []
  }
 ],
 "metadata": {
  "kernelspec": {
   "display_name": "Python 2",
   "language": "python",
   "name": "python2"
  },
  "language_info": {
   "codemirror_mode": {
    "name": "ipython",
    "version": 2
   },
   "file_extension": ".py",
   "mimetype": "text/x-python",
   "name": "python",
   "nbconvert_exporter": "python",
   "pygments_lexer": "ipython2",
   "version": "2.7.6"
  }
 },
 "nbformat": 4,
 "nbformat_minor": 0
}
