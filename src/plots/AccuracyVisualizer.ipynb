{
 "cells": [
  {
   "cell_type": "code",
   "execution_count": 1,
   "metadata": {
    "collapsed": false
   },
   "outputs": [],
   "source": [
    "# import required libraries to munge data\n",
    "import pandas as pd\n",
    "import numpy as np"
   ]
  },
  {
   "cell_type": "code",
   "execution_count": 2,
   "metadata": {
    "collapsed": false
   },
   "outputs": [],
   "source": [
    "# import matplotlib to draw plot inside of notebook\n",
    "%matplotlib inline\n",
    "from mpl_toolkits.mplot3d.axes3d import Axes3D\n",
    "import matplotlib.pyplot as plt\n",
    "from matplotlib import cm"
   ]
  },
  {
   "cell_type": "code",
   "execution_count": 3,
   "metadata": {
    "collapsed": true
   },
   "outputs": [],
   "source": [
    "%matplotlib inline\n",
    "import acc_mgr as acc"
   ]
  },
  {
   "cell_type": "code",
   "execution_count": null,
   "metadata": {
    "collapsed": false
   },
   "outputs": [],
   "source": [
    "observed_iterations = [6400, 12800, 199680]    \n",
    "observed_test_data = [256, 512, 2048, 8092]\n",
    "\n",
    "for i in observed_iterations:\n",
    "    for j in observed_test_data:\n",
    "        fig = acc.plot_by_fc(i, j, to_log_scale=False)\n",
    "        fig2 = acc.plot_by_fc(i, j, to_log_scale=True)\n",
    "        file_name = 'acc_trend_' + str(i) + '_' + str(j)\n",
    "        fig.savefig(file_name + '.svg', format='svg', dpi=900)\n",
    "        file_name = 'acc_trend_' + str(i) + '_' + str(j) + \"_log_scale\"\n",
    "        fig2.savefig(file_name + '.svg', format='svg', dpi=900)"
   ]
  },
  {
   "cell_type": "code",
   "execution_count": null,
   "metadata": {
    "collapsed": false
   },
   "outputs": [],
   "source": [
    "observed_iterations = [6400, 12800, 199680]\n",
    "for i in observed_iterations:\n",
    "    acc.plot_by_fc(i, 512, to_log_scale=False)"
   ]
  },
  {
   "cell_type": "code",
   "execution_count": 5,
   "metadata": {
    "collapsed": false
   },
   "outputs": [
    {
     "name": "stdout",
     "output_type": "stream",
     "text": [
      "744\n"
     ]
    },
    {
     "data": {
      "text/html": [
       "<div>\n",
       "<table border=\"1\" class=\"dataframe\">\n",
       "  <thead>\n",
       "    <tr style=\"text-align: right;\">\n",
       "      <th></th>\n",
       "      <th>Iteration</th>\n",
       "      <th>L1</th>\n",
       "      <th>L2</th>\n",
       "      <th>L3</th>\n",
       "      <th>Testing Accuracy(256)</th>\n",
       "      <th>Testing Accuracy(512)</th>\n",
       "      <th>Testing Accuracy(2048)</th>\n",
       "      <th>Testing Accuracy(8092)</th>\n",
       "    </tr>\n",
       "  </thead>\n",
       "  <tbody>\n",
       "    <tr>\n",
       "      <th>count</th>\n",
       "      <td>744.000000</td>\n",
       "      <td>744.000000</td>\n",
       "      <td>744.000000</td>\n",
       "      <td>744.000000</td>\n",
       "      <td>744.000000</td>\n",
       "      <td>744.000000</td>\n",
       "      <td>744.000000</td>\n",
       "      <td>744.000000</td>\n",
       "    </tr>\n",
       "    <tr>\n",
       "      <th>mean</th>\n",
       "      <td>72960.000000</td>\n",
       "      <td>36.741935</td>\n",
       "      <td>113.322581</td>\n",
       "      <td>480.000000</td>\n",
       "      <td>0.553514</td>\n",
       "      <td>0.543708</td>\n",
       "      <td>0.531833</td>\n",
       "      <td>0.548819</td>\n",
       "    </tr>\n",
       "    <tr>\n",
       "      <th>std</th>\n",
       "      <td>89702.961031</td>\n",
       "      <td>42.688998</td>\n",
       "      <td>162.454899</td>\n",
       "      <td>343.392622</td>\n",
       "      <td>0.299698</td>\n",
       "      <td>0.291934</td>\n",
       "      <td>0.286335</td>\n",
       "      <td>0.294267</td>\n",
       "    </tr>\n",
       "    <tr>\n",
       "      <th>min</th>\n",
       "      <td>6400.000000</td>\n",
       "      <td>2.000000</td>\n",
       "      <td>2.000000</td>\n",
       "      <td>128.000000</td>\n",
       "      <td>0.058594</td>\n",
       "      <td>0.076170</td>\n",
       "      <td>0.083010</td>\n",
       "      <td>0.086510</td>\n",
       "    </tr>\n",
       "    <tr>\n",
       "      <th>25%</th>\n",
       "      <td>6400.000000</td>\n",
       "      <td>4.000000</td>\n",
       "      <td>8.000000</td>\n",
       "      <td>224.000000</td>\n",
       "      <td>0.249024</td>\n",
       "      <td>0.248050</td>\n",
       "      <td>0.239865</td>\n",
       "      <td>0.243557</td>\n",
       "    </tr>\n",
       "    <tr>\n",
       "      <th>50%</th>\n",
       "      <td>12800.000000</td>\n",
       "      <td>16.000000</td>\n",
       "      <td>32.000000</td>\n",
       "      <td>384.000000</td>\n",
       "      <td>0.589844</td>\n",
       "      <td>0.578120</td>\n",
       "      <td>0.563235</td>\n",
       "      <td>0.590335</td>\n",
       "    </tr>\n",
       "    <tr>\n",
       "      <th>75%</th>\n",
       "      <td>199680.000000</td>\n",
       "      <td>64.000000</td>\n",
       "      <td>128.000000</td>\n",
       "      <td>640.000000</td>\n",
       "      <td>0.835938</td>\n",
       "      <td>0.822758</td>\n",
       "      <td>0.800412</td>\n",
       "      <td>0.830573</td>\n",
       "    </tr>\n",
       "    <tr>\n",
       "      <th>max</th>\n",
       "      <td>199680.000000</td>\n",
       "      <td>128.000000</td>\n",
       "      <td>512.000000</td>\n",
       "      <td>1024.000000</td>\n",
       "      <td>0.996094</td>\n",
       "      <td>0.980470</td>\n",
       "      <td>0.967290</td>\n",
       "      <td>0.972810</td>\n",
       "    </tr>\n",
       "  </tbody>\n",
       "</table>\n",
       "</div>"
      ],
      "text/plain": [
       "           Iteration          L1          L2           L3  \\\n",
       "count     744.000000  744.000000  744.000000   744.000000   \n",
       "mean    72960.000000   36.741935  113.322581   480.000000   \n",
       "std     89702.961031   42.688998  162.454899   343.392622   \n",
       "min      6400.000000    2.000000    2.000000   128.000000   \n",
       "25%      6400.000000    4.000000    8.000000   224.000000   \n",
       "50%     12800.000000   16.000000   32.000000   384.000000   \n",
       "75%    199680.000000   64.000000  128.000000   640.000000   \n",
       "max    199680.000000  128.000000  512.000000  1024.000000   \n",
       "\n",
       "       Testing Accuracy(256)  Testing Accuracy(512)  Testing Accuracy(2048)  \\\n",
       "count             744.000000             744.000000              744.000000   \n",
       "mean                0.553514               0.543708                0.531833   \n",
       "std                 0.299698               0.291934                0.286335   \n",
       "min                 0.058594               0.076170                0.083010   \n",
       "25%                 0.249024               0.248050                0.239865   \n",
       "50%                 0.589844               0.578120                0.563235   \n",
       "75%                 0.835938               0.822758                0.800412   \n",
       "max                 0.996094               0.980470                0.967290   \n",
       "\n",
       "       Testing Accuracy(8092)  \n",
       "count              744.000000  \n",
       "mean                 0.548819  \n",
       "std                  0.294267  \n",
       "min                  0.086510  \n",
       "25%                  0.243557  \n",
       "50%                  0.590335  \n",
       "75%                  0.830573  \n",
       "max                  0.972810  "
      ]
     },
     "execution_count": 5,
     "metadata": {},
     "output_type": "execute_result"
    }
   ],
   "source": [
    "tables = acc.get_acc()\n",
    "print len(tables)\n",
    "tables.describe()"
   ]
  },
  {
   "cell_type": "code",
   "execution_count": null,
   "metadata": {
    "collapsed": false
   },
   "outputs": [],
   "source": []
  },
  {
   "cell_type": "code",
   "execution_count": null,
   "metadata": {
    "collapsed": true
   },
   "outputs": [],
   "source": [
    "print \"\"\"\n",
    "Findings:\n",
    "  -  \n",
    "\"\"\""
   ]
  }
 ],
 "metadata": {
  "kernelspec": {
   "display_name": "Python 2",
   "language": "python",
   "name": "python2"
  },
  "language_info": {
   "codemirror_mode": {
    "name": "ipython",
    "version": 2
   },
   "file_extension": ".py",
   "mimetype": "text/x-python",
   "name": "python",
   "nbconvert_exporter": "python",
   "pygments_lexer": "ipython2",
   "version": "2.7.6"
  }
 },
 "nbformat": 4,
 "nbformat_minor": 0
}
