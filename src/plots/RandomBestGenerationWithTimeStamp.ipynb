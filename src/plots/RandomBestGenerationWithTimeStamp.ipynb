{
 "cells": [
  {
   "cell_type": "code",
   "execution_count": 1,
   "metadata": {
    "collapsed": true
   },
   "outputs": [],
   "source": [
    "# import required libraries to munge data\n",
    "import pandas as pd\n",
    "import numpy as np"
   ]
  },
  {
   "cell_type": "code",
   "execution_count": 2,
   "metadata": {
    "collapsed": true
   },
   "outputs": [],
   "source": [
    "# import matplotlib to draw plot inside of notebook\n",
    "%matplotlib inline\n",
    "from mpl_toolkits.mplot3d.axes3d import Axes3D\n",
    "import matplotlib.pyplot as plt\n",
    "from matplotlib import cm"
   ]
  },
  {
   "cell_type": "code",
   "execution_count": 3,
   "metadata": {
    "collapsed": true
   },
   "outputs": [],
   "source": [
    "# Start from grid table\n",
    "acc_table = pd.read_csv(\"grid.csv\", header=0)\n",
    "grid_table = acc_table"
   ]
  },
  {
   "cell_type": "code",
   "execution_count": 4,
   "metadata": {
    "collapsed": false
   },
   "outputs": [
    {
     "name": "stdout",
     "output_type": "stream",
     "text": [
      "10\n"
     ]
    }
   ],
   "source": [
    "# Make 10 random tables\n",
    "random_table_list = []\n",
    "for i in range(10):\n",
    "    randomized_table = acc_table.sample(frac=1).reset_index(drop=True)\n",
    "    random_table = pd.DataFrame(randomized_table[[\"Setting\", \"Step\",  \"Param1\", \"Param2\", \"Param3\", \"Param4\",\\\n",
    "                                           \"Elapsed Time\", \"Metric1\"]])\n",
    "    random_table_list.append(random_table)\n",
    "\n",
    "print len(random_table_list)"
   ]
  },
  {
   "cell_type": "code",
   "execution_count": 5,
   "metadata": {
    "collapsed": false
   },
   "outputs": [
    {
     "name": "stdout",
     "output_type": "stream",
     "text": [
      "                                       Setting     Step  Param1  Param2  \\\n",
      "0     filter:6-conv1:128-conv2:4-fc:2-Momentum  1_epoch       6     128   \n",
      "1     filter:6-conv1:32-conv2:64-fc:2-Momentum  1_epoch       6      32   \n",
      "2     filter:12-conv1:8-conv2:8-fc:64-Momentum  1_epoch      12       8   \n",
      "3     filter:4-conv1:4-conv2:1-fc:128-Momentum  1_epoch       4       4   \n",
      "4   filter:12-conv1:1-conv2:64-fc:128-Momentum  1_epoch      12       1   \n",
      "5      filter:6-conv1:8-conv2:4-fc:32-Momentum  1_epoch       6       8   \n",
      "6     filter:6-conv1:16-conv2:2-fc:64-Momentum  1_epoch       6      16   \n",
      "7      filter:2-conv1:32-conv2:2-fc:4-Momentum  1_epoch       2      32   \n",
      "8     filter:6-conv1:64-conv2:1-fc:16-Momentum  1_epoch       6      64   \n",
      "9  filter:8-conv1:512-conv2:32-fc:128-Momentum  1_epoch       8     512   \n",
      "\n",
      "   Param3  Param4  Elapsed Time  Metric1  \n",
      "0       4       2         0.493    38.56  \n",
      "1      64       2         0.424    10.28  \n",
      "2       8      64         0.345    96.89  \n",
      "3       1     128         0.140    92.77  \n",
      "4      64     128         0.384    93.98  \n",
      "5       4      32         0.276    95.76  \n",
      "6       2      64         0.442    95.92  \n",
      "7       2       4         0.365    66.13  \n",
      "8       1      16         0.412    92.68  \n",
      "9      32     128         1.710    96.28  \n"
     ]
    }
   ],
   "source": [
    "# Check shuffled\n",
    "print random_table_list[2].head(10)"
   ]
  },
  {
   "cell_type": "code",
   "execution_count": 6,
   "metadata": {
    "collapsed": false
   },
   "outputs": [],
   "source": [
    "# cumulate elapsed time to Total time\n",
    "def get_total_time_list(test_acuracies):\n",
    "    count = len(test_acuracies)\n",
    "    current_total = 0\n",
    "    total_times = []\n",
    "    for i in range(count):\n",
    "        test_time = test_acuracies[\"Elapsed Time\"][i]\n",
    "        current_total += test_time\n",
    "        total_times.append(current_total)\n",
    "    return total_times\n"
   ]
  },
  {
   "cell_type": "code",
   "execution_count": 7,
   "metadata": {
    "collapsed": false
   },
   "outputs": [],
   "source": [
    "# add total time column\n",
    "\n",
    "grid_table[\"Total Time\"] = get_total_time_list(grid_table)\n",
    "\n",
    "for i in range(len(random_table_list)):\n",
    "    random_table = random_table_list[i]\n",
    "    random_table[\"Total Time\"] = get_total_time_list(random_table)\n",
    "    "
   ]
  },
  {
   "cell_type": "code",
   "execution_count": null,
   "metadata": {
    "collapsed": false
   },
   "outputs": [],
   "source": [
    "# check Total time\n",
    "random_table_list[3].head(10)"
   ]
  },
  {
   "cell_type": "code",
   "execution_count": 8,
   "metadata": {
    "collapsed": false
   },
   "outputs": [],
   "source": [
    "def get_best_acc_list(table):\n",
    "    count = len(table)\n",
    "    current_best = 0\n",
    "    best_acc = []\n",
    "    for i in range(count):\n",
    "        test_acc = table[\"Metric1\"][i]\n",
    "        if current_best < test_acc:\n",
    "            current_best = test_acc\n",
    "\n",
    "        best_acc.append(current_best)\n",
    "    return best_acc\n",
    "\n",
    "best_acc_list = get_best_acc_list(random_table_list[0]) "
   ]
  },
  {
   "cell_type": "code",
   "execution_count": 9,
   "metadata": {
    "collapsed": false
   },
   "outputs": [
    {
     "data": {
      "text/html": [
       "<div>\n",
       "<table border=\"1\" class=\"dataframe\">\n",
       "  <thead>\n",
       "    <tr style=\"text-align: right;\">\n",
       "      <th></th>\n",
       "      <th>Setting</th>\n",
       "      <th>Step</th>\n",
       "      <th>Param1</th>\n",
       "      <th>Param2</th>\n",
       "      <th>Param3</th>\n",
       "      <th>Param4</th>\n",
       "      <th>Elapsed Time</th>\n",
       "      <th>Metric1</th>\n",
       "      <th>Total Time</th>\n",
       "      <th>Best</th>\n",
       "    </tr>\n",
       "  </thead>\n",
       "  <tbody>\n",
       "    <tr>\n",
       "      <th>0</th>\n",
       "      <td>filter:4-conv1:128-conv2:64-fc:8-Momentum</td>\n",
       "      <td>1_epoch</td>\n",
       "      <td>4</td>\n",
       "      <td>128</td>\n",
       "      <td>64</td>\n",
       "      <td>8</td>\n",
       "      <td>0.749</td>\n",
       "      <td>79.71</td>\n",
       "      <td>0.749</td>\n",
       "      <td>79.71</td>\n",
       "    </tr>\n",
       "    <tr>\n",
       "      <th>1</th>\n",
       "      <td>filter:12-conv1:256-conv2:8-fc:512-Momentum</td>\n",
       "      <td>1_epoch</td>\n",
       "      <td>12</td>\n",
       "      <td>256</td>\n",
       "      <td>8</td>\n",
       "      <td>512</td>\n",
       "      <td>0.870</td>\n",
       "      <td>10.28</td>\n",
       "      <td>1.619</td>\n",
       "      <td>79.71</td>\n",
       "    </tr>\n",
       "    <tr>\n",
       "      <th>2</th>\n",
       "      <td>filter:8-conv1:256-conv2:4-fc:256-Momentum</td>\n",
       "      <td>1_epoch</td>\n",
       "      <td>8</td>\n",
       "      <td>256</td>\n",
       "      <td>4</td>\n",
       "      <td>256</td>\n",
       "      <td>0.743</td>\n",
       "      <td>10.28</td>\n",
       "      <td>2.362</td>\n",
       "      <td>79.71</td>\n",
       "    </tr>\n",
       "    <tr>\n",
       "      <th>3</th>\n",
       "      <td>filter:2-conv1:64-conv2:64-fc:256-Momentum</td>\n",
       "      <td>1_epoch</td>\n",
       "      <td>2</td>\n",
       "      <td>64</td>\n",
       "      <td>64</td>\n",
       "      <td>256</td>\n",
       "      <td>0.292</td>\n",
       "      <td>96.58</td>\n",
       "      <td>2.654</td>\n",
       "      <td>96.58</td>\n",
       "    </tr>\n",
       "    <tr>\n",
       "      <th>4</th>\n",
       "      <td>filter:12-conv1:8-conv2:128-fc:4-Momentum</td>\n",
       "      <td>1_epoch</td>\n",
       "      <td>12</td>\n",
       "      <td>8</td>\n",
       "      <td>128</td>\n",
       "      <td>4</td>\n",
       "      <td>0.304</td>\n",
       "      <td>10.28</td>\n",
       "      <td>2.958</td>\n",
       "      <td>96.58</td>\n",
       "    </tr>\n",
       "    <tr>\n",
       "      <th>5</th>\n",
       "      <td>filter:14-conv1:4-conv2:32-fc:64-Momentum</td>\n",
       "      <td>1_epoch</td>\n",
       "      <td>14</td>\n",
       "      <td>4</td>\n",
       "      <td>32</td>\n",
       "      <td>64</td>\n",
       "      <td>0.297</td>\n",
       "      <td>95.25</td>\n",
       "      <td>3.255</td>\n",
       "      <td>96.58</td>\n",
       "    </tr>\n",
       "    <tr>\n",
       "      <th>6</th>\n",
       "      <td>filter:8-conv1:4-conv2:4-fc:1-Momentum</td>\n",
       "      <td>1_epoch</td>\n",
       "      <td>8</td>\n",
       "      <td>4</td>\n",
       "      <td>4</td>\n",
       "      <td>1</td>\n",
       "      <td>0.154</td>\n",
       "      <td>29.54</td>\n",
       "      <td>3.409</td>\n",
       "      <td>96.58</td>\n",
       "    </tr>\n",
       "    <tr>\n",
       "      <th>7</th>\n",
       "      <td>filter:12-conv1:8-conv2:32-fc:512-Momentum</td>\n",
       "      <td>1_epoch</td>\n",
       "      <td>12</td>\n",
       "      <td>8</td>\n",
       "      <td>32</td>\n",
       "      <td>512</td>\n",
       "      <td>0.232</td>\n",
       "      <td>96.50</td>\n",
       "      <td>3.641</td>\n",
       "      <td>96.58</td>\n",
       "    </tr>\n",
       "    <tr>\n",
       "      <th>8</th>\n",
       "      <td>filter:12-conv1:512-conv2:2-fc:2-Momentum</td>\n",
       "      <td>1_epoch</td>\n",
       "      <td>12</td>\n",
       "      <td>512</td>\n",
       "      <td>2</td>\n",
       "      <td>2</td>\n",
       "      <td>1.550</td>\n",
       "      <td>38.43</td>\n",
       "      <td>5.191</td>\n",
       "      <td>96.58</td>\n",
       "    </tr>\n",
       "    <tr>\n",
       "      <th>9</th>\n",
       "      <td>filter:8-conv1:16-conv2:512-fc:64-Momentum</td>\n",
       "      <td>1_epoch</td>\n",
       "      <td>8</td>\n",
       "      <td>16</td>\n",
       "      <td>512</td>\n",
       "      <td>64</td>\n",
       "      <td>0.769</td>\n",
       "      <td>92.21</td>\n",
       "      <td>5.960</td>\n",
       "      <td>96.58</td>\n",
       "    </tr>\n",
       "  </tbody>\n",
       "</table>\n",
       "</div>"
      ],
      "text/plain": [
       "                                       Setting     Step  Param1  Param2  \\\n",
       "0    filter:4-conv1:128-conv2:64-fc:8-Momentum  1_epoch       4     128   \n",
       "1  filter:12-conv1:256-conv2:8-fc:512-Momentum  1_epoch      12     256   \n",
       "2   filter:8-conv1:256-conv2:4-fc:256-Momentum  1_epoch       8     256   \n",
       "3   filter:2-conv1:64-conv2:64-fc:256-Momentum  1_epoch       2      64   \n",
       "4    filter:12-conv1:8-conv2:128-fc:4-Momentum  1_epoch      12       8   \n",
       "5    filter:14-conv1:4-conv2:32-fc:64-Momentum  1_epoch      14       4   \n",
       "6       filter:8-conv1:4-conv2:4-fc:1-Momentum  1_epoch       8       4   \n",
       "7   filter:12-conv1:8-conv2:32-fc:512-Momentum  1_epoch      12       8   \n",
       "8    filter:12-conv1:512-conv2:2-fc:2-Momentum  1_epoch      12     512   \n",
       "9   filter:8-conv1:16-conv2:512-fc:64-Momentum  1_epoch       8      16   \n",
       "\n",
       "   Param3  Param4  Elapsed Time  Metric1  Total Time   Best  \n",
       "0      64       8         0.749    79.71       0.749  79.71  \n",
       "1       8     512         0.870    10.28       1.619  79.71  \n",
       "2       4     256         0.743    10.28       2.362  79.71  \n",
       "3      64     256         0.292    96.58       2.654  96.58  \n",
       "4     128       4         0.304    10.28       2.958  96.58  \n",
       "5      32      64         0.297    95.25       3.255  96.58  \n",
       "6       4       1         0.154    29.54       3.409  96.58  \n",
       "7      32     512         0.232    96.50       3.641  96.58  \n",
       "8       2       2         1.550    38.43       5.191  96.58  \n",
       "9     512      64         0.769    92.21       5.960  96.58  "
      ]
     },
     "execution_count": 9,
     "metadata": {},
     "output_type": "execute_result"
    }
   ],
   "source": [
    "# Add current best accuracy column\n",
    "for i in range(len(random_table_list)):\n",
    "    random_table = random_table_list[i]\n",
    "    best_acc_list = get_best_acc_list(random_table) \n",
    "    random_table['Best'] = best_acc_list\n",
    "\n",
    "random_table_list[9].head(10)"
   ]
  },
  {
   "cell_type": "code",
   "execution_count": 10,
   "metadata": {
    "collapsed": true
   },
   "outputs": [],
   "source": [
    "# Save random search results\n",
    "csv_file_preamble = 'random_best_'\n",
    "for i in range(len(random_table_list)):\n",
    "    random_table = random_table_list[i]\n",
    "    csv_file_name = csv_file_preamble + str(i) + '.csv'\n",
    "    random_table.to_csv(csv_file_name)"
   ]
  },
  {
   "cell_type": "code",
   "execution_count": 11,
   "metadata": {
    "collapsed": false
   },
   "outputs": [],
   "source": [
    "# Save grid table\n",
    "best_acc_list = get_best_acc_list(grid_table) \n",
    "grid_table['Best'] = best_acc_list\n",
    "grid_table.to_csv('grid_best.csv')"
   ]
  },
  {
   "cell_type": "code",
   "execution_count": 12,
   "metadata": {
    "collapsed": false,
    "scrolled": true
   },
   "outputs": [
    {
     "data": {
      "text/plain": [
       "<matplotlib.axes._subplots.AxesSubplot at 0x7f7398f33a90>"
      ]
     },
     "execution_count": 12,
     "metadata": {},
     "output_type": "execute_result"
    },
    {
     "data": {
      "image/png": "[encoded data removed]",
      "text/plain": [
       "<matplotlib.figure.Figure at 0x7f7398f48c10>"
      ]
     },
     "metadata": {},
     "output_type": "display_data"
    }
   ],
   "source": [
    "random_table_list[0].plot(x=\"Total Time\", y=[\"Metric1\", \"Best\"], figsize=(16, 6))"
   ]
  },
  {
   "cell_type": "code",
   "execution_count": 13,
   "metadata": {
    "collapsed": false
   },
   "outputs": [],
   "source": [
    "def to_figure(table, algorithm, y_range=[0, 100], show=True):\n",
    "    fig = plt.figure(num=None, figsize=(16, 12), dpi=80, facecolor='w', edgecolor='k')\n",
    "    subplot = fig.add_subplot(1, 1, 1)\n",
    "    subplot.plot(table[\"Total Time\"], table[\"Metric1\"], \"bo\", label=\"Test Accuracy\")\n",
    "    subplot.plot(table[\"Total Time\"], table[\"Best\"], \"r-\", label=\"Best Accuracy\")\n",
    "    title = algorithm  + \" test accuracy trends\"\n",
    "    subplot.set_title(title)\n",
    "    x_max = table[\"Total Time\"][len(table[\"Total Time\"]) - 1]\n",
    "    subplot.set_xlim([0, x_max])\n",
    "    subplot.set_ylim(y_range)\n",
    "    plt.ylabel(\"test accuracy\")\n",
    "    plt.xlabel(\"operation time\")\n",
    "    plt.legend(loc=\"best\")\n",
    "    if show:\n",
    "        plt.show()\n",
    "    return fig"
   ]
  },
  {
   "cell_type": "code",
   "execution_count": null,
   "metadata": {
    "collapsed": false
   },
   "outputs": [],
   "source": [
    "fig = to_figure(grid_table, \"grid\")\n",
    "fig.savefig('total_time-test_acc.png', format='png', dpi=900)"
   ]
  },
  {
   "cell_type": "code",
   "execution_count": null,
   "metadata": {
    "collapsed": false
   },
   "outputs": [],
   "source": [
    "for i in range(len(random_table_list)):\n",
    "    random_table = random_table_list[i]\n",
    "    search_type = \"random \" + str(i)\n",
    "    fig = to_figure(random_table, search_type)\n",
    "    fig.savefig(search_type + '-total_time-test_acc.png', format='png', dpi=900, show=False)"
   ]
  },
  {
   "cell_type": "code",
   "execution_count": 35,
   "metadata": {
    "collapsed": false
   },
   "outputs": [
    {
     "data": {
      "image/png": "[encoded data removed]",
      "text/plain": [
       "<matplotlib.figure.Figure at 0x7f7394ed6a10>"
      ]
     },
     "metadata": {},
     "output_type": "display_data"
    }
   ],
   "source": [
    "y_range = [90, 100]\n",
    "fig = plt.figure(num=None, figsize=(16, 12), dpi=80, facecolor='w', edgecolor='k')\n",
    "subplot = fig.add_subplot(1, 1, 1)\n",
    "for i in range(len(random_table_list)):\n",
    "    algortithm = \"Random\" + str(i)\n",
    "    random_table = random_table_list[i] \n",
    "    subplot.plot(random_table[\"Total Time\"], random_table[\"Best\"], label=algortithm)\n",
    "\n",
    "subplot.plot(grid_table[\"Total Time\"], grid_table[\"Best\"], label=\"Grid\")\n",
    "\n",
    "title = \"test accuracy trends\"    \n",
    "subplot.set_title(title)\n",
    "x_max = grid_table[\"Total Time\"][len(grid_table[\"Total Time\"]) - 1]\n",
    "subplot.set_xlim([0, x_max])\n",
    "subplot.set_ylim(y_range)\n",
    "plt.ylabel(\"test accuracy\")\n",
    "plt.xlabel(\"operation time\")\n",
    "plt.legend(loc=\"best\")\n",
    "plt.show()\n"
   ]
  },
  {
   "cell_type": "code",
   "execution_count": 36,
   "metadata": {
    "collapsed": true
   },
   "outputs": [],
   "source": [
    "fig.savefig('best_accs_compare.png', format='png', dpi=900)"
   ]
  }
 ],
 "metadata": {
  "kernelspec": {
   "display_name": "Python 2",
   "language": "python",
   "name": "python2"
  },
  "language_info": {
   "codemirror_mode": {
    "name": "ipython",
    "version": 2
   },
   "file_extension": ".py",
   "mimetype": "text/x-python",
   "name": "python",
   "nbconvert_exporter": "python",
   "pygments_lexer": "ipython2",
   "version": "2.7.6"
  }
 },
 "nbformat": 4,
 "nbformat_minor": 0
}
