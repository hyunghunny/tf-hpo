{
 "cells": [
  {
   "cell_type": "code",
   "execution_count": 1,
   "metadata": {
    "collapsed": true
   },
   "outputs": [],
   "source": [
    "# import required libraries to munge data\n",
    "import pandas as pd\n",
    "import numpy as np\n",
    "import os\n",
    "import scipy\n",
    "from math import log"
   ]
  },
  {
   "cell_type": "code",
   "execution_count": 19,
   "metadata": {
    "collapsed": true
   },
   "outputs": [],
   "source": [
    "from datetime import datetime\n",
    "from datetime import timedelta"
   ]
  },
  {
   "cell_type": "code",
   "execution_count": 2,
   "metadata": {
    "collapsed": true
   },
   "outputs": [],
   "source": [
    "# import matplotlib to draw plot inside of notebook\n",
    "%matplotlib inline\n",
    "from mpl_toolkits.mplot3d.axes3d import Axes3D\n",
    "import matplotlib.pyplot as plt\n",
    "from matplotlib import cm\n",
    "\n",
    "import matplotlib\n",
    "import matplotlib.transforms as transforms\n",
    "\n",
    "# set global font size\n",
    "font = {'size'   : 20}\n",
    "matplotlib.rc('font', **font)"
   ]
  },
  {
   "cell_type": "code",
   "execution_count": 3,
   "metadata": {
    "collapsed": false
   },
   "outputs": [],
   "source": [
    "i = 1 # for testing\n",
    "coarse_random_file = \"../../log/C_random200e0.1F_e20_\" + str(i) + \".csv\"\n",
    "coarse_sobol_file = \"../../log/C_sobol200e0.1F_e20_\" + str(i) + \".csv\"\n",
    "random_table = pd.read_csv(coarse_random_file, header=0)\n",
    "sobol_table = pd.read_csv(coarse_sobol_file, header=0)"
   ]
  },
  {
   "cell_type": "code",
   "execution_count": 4,
   "metadata": {
    "collapsed": false
   },
   "outputs": [],
   "source": [
    "def get_coarse_opt_time(table, coarse_epoch):\n",
    "    total_only_table = table[table[\"Measure Type\"] == 'total']\n",
    "    coarse_table = total_only_table[total_only_table[\"Epoch\"] == coarse_epoch]\n",
    "    return sum(coarse_table[\"Elapsed Time\"]) # total elapsed time for coarse optimization"
   ]
  },
  {
   "cell_type": "code",
   "execution_count": 5,
   "metadata": {
    "collapsed": false
   },
   "outputs": [],
   "source": [
    "random_coarse_time = get_coarse_opt_time(random_table, 0.1)\n",
    "random_sobol_time = get_coarse_opt_time(sobol_table, 0.1)"
   ]
  },
  {
   "cell_type": "code",
   "execution_count": 6,
   "metadata": {
    "collapsed": true
   },
   "outputs": [],
   "source": [
    "def get_fine_total_table(table, fine_epoch):\n",
    "    total_only_table = table[table[\"Measure Type\"] == 'total']\n",
    "    fine_table = total_only_table[total_only_table[\"Epoch\"] == fine_epoch]\n",
    "    return fine_table"
   ]
  },
  {
   "cell_type": "code",
   "execution_count": 7,
   "metadata": {
    "collapsed": false
   },
   "outputs": [
    {
     "name": "stdout",
     "output_type": "stream",
     "text": [
      "40\n"
     ]
    }
   ],
   "source": [
    "random_fine_table = get_fine_total_table(random_table, 20)\n",
    "print (len(random_fine_table))"
   ]
  },
  {
   "cell_type": "code",
   "execution_count": 8,
   "metadata": {
    "collapsed": false
   },
   "outputs": [
    {
     "name": "stdout",
     "output_type": "stream",
     "text": [
      "40\n"
     ]
    }
   ],
   "source": [
    "sobol_fine_table = get_fine_total_table(sobol_table, 20)\n",
    "print (len(sobol_fine_table))"
   ]
  },
  {
   "cell_type": "code",
   "execution_count": 9,
   "metadata": {
    "collapsed": true
   },
   "outputs": [],
   "source": [
    "spearmint_id = 2593"
   ]
  },
  {
   "cell_type": "code",
   "execution_count": 10,
   "metadata": {
    "collapsed": false
   },
   "outputs": [],
   "source": [
    "def get_data(table):\n",
    "    coarse_epoch = 0.1\n",
    "    fine_epoch = 20\n",
    "    train_times = []\n",
    "    log_test_errors = []\n",
    "    log_best_errors = []\n",
    "    test_errors = []\n",
    "    best_errors = []\n",
    "    coarse_time = get_coarse_opt_time(table, coarse_epoch) / 60  # per minutes\n",
    "    coarse_test_error = 1.0 # set default error\n",
    "    train_times.append(coarse_time)\n",
    "    test_errors.append(coarse_test_error)\n",
    "    log_test_errors.append(log(coarse_test_error, 10))\n",
    "    log_best_errors.append(log(coarse_test_error, 10))\n",
    "    best_errors.append(coarse_test_error)\n",
    "    \n",
    "    fine_table = get_fine_total_table(table, fine_epoch)    \n",
    "    sorted_fine_table = fine_table.sort_values([\"Setting\"]) # sort by Setting\n",
    "    \n",
    "    best_test_error = 1.0    \n",
    "    for test_error in sorted_fine_table[\"Test Error\"]:\n",
    "        # update best test error if test error is smaller than best test error\n",
    "        if (best_test_error > test_error):\n",
    "            best_test_error = test_error\n",
    "           \n",
    "        log_test_errors.append(log(test_error, 10))\n",
    "        test_errors.append(test_error) \n",
    "        \n",
    "        log_best_errors.append(log(best_test_error, 10))\n",
    "        best_errors.append(best_test_error)  \n",
    "    \n",
    "    for elapsed_time in sorted_fine_table[\"Elapsed Time\"]: \n",
    "        last_time = train_times[-1]\n",
    "        training_time = last_time + elapsed_time / 60.0\n",
    "        train_times.append(training_time)\n",
    "    \n",
    "    #return [train_times, log_best_errors, log_test_errors]\n",
    "    return [train_times, best_errors, test_errors]\n",
    "    #print log_test_errors\n",
    "    #print train_times\n",
    "    "
   ]
  },
  {
   "cell_type": "code",
   "execution_count": null,
   "metadata": {
    "collapsed": false
   },
   "outputs": [],
   "source": [
    "fig = plt.figure(num=None, figsize=(25,17), dpi=100, facecolor='w', edgecolor='k')\n",
    "for i in [1, 2, 3, 4, 5, 6, 7, 8]:\n",
    "    subplot = fig.add_subplot(111)\n",
    "    coarse_random_file = \"../../log/C_random200e0.1F_e20_\" + str(i) + \".csv\"\n",
    "    coarse_sobol_file = \"../../log/C_sobol200e0.1F_e20_\" + str(i) + \".csv\"\n",
    "    random_table = pd.read_csv(coarse_random_file, header=0)\n",
    "    sobol_table = pd.read_csv(coarse_sobol_file, header=0)\n",
    "\n",
    "    x, y1, y2 = get_data(random_table)\n",
    "    if i == 1:\n",
    "        subplot.semilogy(x, y1, color=\"blue\", linestyle='-', marker='o', label=\"Random\")\n",
    "    else:    \n",
    "        subplot.semilogy(x, y1, color=\"blue\", linestyle='-', marker='o')\n",
    "    \n",
    "    max_x = x[-1]\n",
    "    x, y1, y2 = get_data(sobol_table)    \n",
    "    if i == 1:\n",
    "        subplot.semilogy(x, y1, color=\"red\", linestyle='-', marker='x', label=\"Sobol\")\n",
    "    else:\n",
    "        subplot.semilogy(x, y1, color=\"red\", linestyle='-', marker='x')\n",
    "    subplot.grid(True)\n",
    "    print y1[-1]\n",
    "    if x[-1] > max_x:\n",
    "        max_x = x[-1]\n",
    "subplot.plot([0, max_x],[0.007, 0.007], color=\"gray\", linestyle='--', label=\"best\")\n",
    "plt.ylabel(\"Log(Best Test Error)\")    \n",
    "plt.xlabel(\"Operation Time (Min.)\")\n",
    "plt.legend(loc=\"best\")\n",
    "plt.show()"
   ]
  },
  {
   "cell_type": "code",
   "execution_count": null,
   "metadata": {
    "collapsed": false
   },
   "outputs": [],
   "source": [
    "spearmint_coarse_file = \"../../log/CS200-0.1e.csv\"\n",
    "spearmint_table = pd.read_csv(spearmint_coarse_file, header=0)\n",
    "time = get_coarse_opt_time(spearmint_table, 0.1)\n",
    "print time"
   ]
  },
  {
   "cell_type": "code",
   "execution_count": 21,
   "metadata": {
    "collapsed": false
   },
   "outputs": [
    {
     "name": "stdout",
     "output_type": "stream",
     "text": [
      "2016-12-07 17:16:44\n"
     ]
    }
   ],
   "source": [
    "timestamp = \"2016-12-07 17:16:44\"\n",
    "datetime_object = datetime.strptime(timestamp, '%Y-%m-%d %H:%M:%S')\n",
    "print datetime_object\n",
    "time_matching_format = '%Y-%m-%d %H:%M:%S'"
   ]
  },
  {
   "cell_type": "code",
   "execution_count": 22,
   "metadata": {
    "collapsed": false
   },
   "outputs": [
    {
     "name": "stdout",
     "output_type": "stream",
     "text": [
      "<type 'datetime.timedelta'>\n",
      "0:00:00\n"
     ]
    }
   ],
   "source": [
    "datetime_object2 = datetime.strptime(timestamp, time_matching_format)\n",
    "delta = datetime_object2 - datetime_object\n",
    "print type(delta)\n",
    "print (delta + timedelta(seconds=0)) / 60"
   ]
  },
  {
   "cell_type": "code",
   "execution_count": 15,
   "metadata": {
    "collapsed": true
   },
   "outputs": [],
   "source": [
    "def get_spearmint_data(table):\n",
    "\n",
    "    fine_epoch = 20\n",
    "    train_times = []\n",
    "    log_test_errors = []\n",
    "    log_best_errors = []\n",
    "    test_errors = []\n",
    "    best_errors = []\n",
    "    \n",
    "    fine_table = get_fine_total_table(table, fine_epoch)    \n",
    "    sorted_fine_table = fine_table.sort_values([\"Setting\"]) # sort by Setting\n",
    "    \n",
    "    best_test_error = 1.0    \n",
    "    for test_error in sorted_fine_table[\"Test Error\"]:\n",
    "        # update best test error if test error is smaller than best test error\n",
    "        if (best_test_error > test_error):\n",
    "            best_test_error = test_error\n",
    "           \n",
    "        log_test_errors.append(log(test_error, 10))\n",
    "        test_errors.append(test_error) \n",
    "        \n",
    "        log_best_errors.append(log(best_test_error, 10))\n",
    "        best_errors.append(best_test_error)  \n",
    "    \n",
    "    datetime_list = []\n",
    "    for timestamp in sorted_fine_table[\"Timestamp\"]:\n",
    "        dt_object = datetime.strptime(timestamp, time_matching_format)\n",
    "        \n",
    "        if len(train_times) > 0:\n",
    "            prev_time = train_times[-1]\n",
    "        else:\n",
    "            prev_time = 0\n",
    "            \n",
    "        if len(datetime_list) > 0:            \n",
    "            time_delta = dt_object - datetime_list[-1]\n",
    "            elapsed_time = time_delta.total_seconds()\n",
    "        else:\n",
    "            elapsed_time = 0\n",
    "\n",
    "        training_time_min = prev_time + elapsed_time / 60        \n",
    "        train_times.append(training_time_min)\n",
    "        datetime_list.append(dt_object)\n",
    "    '''\n",
    "    for elapsed_time in sorted_fine_table[\"Elapsed Time\"]:\n",
    "        if len(train_times) > 0:\n",
    "            last_time = train_times[-1]\n",
    "        else:\n",
    "            last_time = 0\n",
    "        training_time = last_time + elapsed_time / 60.0\n",
    "        train_times.append(training_time)\n",
    "    '''\n",
    "    #return [train_times, log_best_errors, log_test_errors]\n",
    "    return [train_times, best_errors, test_errors]\n",
    "    #print log_test_errors\n",
    "    #print train_times"
   ]
  },
  {
   "cell_type": "code",
   "execution_count": 16,
   "metadata": {
    "collapsed": true
   },
   "outputs": [],
   "source": [
    "def get_modified_spearmint_data(table):\n",
    "    coarse_epoch = 0.1\n",
    "    fine_epoch = 20\n",
    "    train_times = []\n",
    "    log_test_errors = []\n",
    "    log_best_errors = []\n",
    "    test_errors = []\n",
    "    best_errors = []\n",
    "    total_only_table = table[table[\"Measure Type\"]  == \"total\"]\n",
    "    sorted_table = total_only_table.sort_values([\"Setting\"]) # sort by Setting\n",
    "    \n",
    "    best_test_error = 1.0    \n",
    "    for test_error in sorted_table[\"Test Error\"]:\n",
    "        # update best test error if test error is smaller than best test error\n",
    "        if (best_test_error > test_error):\n",
    "            best_test_error = test_error\n",
    "           \n",
    "        log_test_errors.append(log(test_error, 10))\n",
    "        test_errors.append(test_error) \n",
    "        \n",
    "        log_best_errors.append(log(best_test_error, 10))\n",
    "        best_errors.append(best_test_error)\n",
    "    \n",
    "    datetime_list = []\n",
    "    for timestamp in sorted_table[\"Timestamp\"]:\n",
    "        dt_object = datetime.strptime(timestamp, time_matching_format)\n",
    "        if len(train_times) > 0:\n",
    "            prev_time = train_times[-1]\n",
    "        else:\n",
    "            prev_time = 0\n",
    "            \n",
    "        if len(datetime_list) > 0:            \n",
    "            time_delta = dt_object - datetime_list[-1]\n",
    "            elapsed_time = time_delta.total_seconds()\n",
    "        else:\n",
    "            elapsed_time = 0\n",
    "\n",
    "        training_time_min = prev_time + elapsed_time / 60        \n",
    "        train_times.append(training_time_min)\n",
    "        datetime_list.append(dt_object)\n",
    "        \n",
    "    '''\n",
    "    for elapsed_time in sorted_fine_table[\"Elapsed Time\"]:\n",
    "        if len(train_times) > 0:\n",
    "            last_time = train_times[-1]\n",
    "        else:\n",
    "            last_time = 0\n",
    "        training_time = last_time + elapsed_time / 60.0\n",
    "        train_times.append(training_time)\n",
    "    '''\n",
    "    \n",
    "    #return [train_times, log_best_errors, log_test_errors]\n",
    "    return [train_times, best_errors, test_errors]\n",
    "    #print log_test_errors\n",
    "    #print train_times"
   ]
  },
  {
   "cell_type": "code",
   "execution_count": null,
   "metadata": {
    "collapsed": false
   },
   "outputs": [],
   "source": [
    "fig = plt.figure(num=None, figsize=(25,17), dpi=100, facecolor='w', edgecolor='k')\n",
    "\n",
    "subplot = fig.add_subplot(111)\n",
    "for i in [2593, 3502, 4138]:\n",
    "    spearmint_only_file = \"../../log/spearmint\"+ str(i) + \"-20e.csv\"    \n",
    "    spearmint_table = pd.read_csv(spearmint_only_file, header=0)\n",
    "    x, y1, y2 = get_modified_spearmint_data(spearmint_table)\n",
    "    # subset x, y with time limits\n",
    "    idx = 0\n",
    "    time_limit = 4000\n",
    "    for time in x:\n",
    "        if time > time_limit:\n",
    "            break\n",
    "        else:\n",
    "            idx += 1\n",
    "    if i == 4138:\n",
    "        subplot.semilogy(x[0:idx], y1[0:idx], color=\"green\", linestyle='-', marker='.', label=\"Spearmint\")\n",
    "    else:\n",
    "        subplot.semilogy(x[0:idx], y1[0:idx], color=\"green\", linestyle='-', marker='.')\n",
    "    subplot.grid(True)\n",
    "    print y1[-1]\n",
    "spearmint_only_file = \"../../log/hpolib-spearmint.es.2.csv\"    \n",
    "spearmint_table = pd.read_csv(spearmint_only_file, header=0)\n",
    "x, y1, y2 = get_modified_spearmint_data(spearmint_table)\n",
    "# subset x, y with time limits\n",
    "idx = 0\n",
    "time_limit = 4000\n",
    "for time in x:\n",
    "    if time > time_limit:\n",
    "        break\n",
    "    else:\n",
    "        idx += 1\n",
    "if i == 4138:\n",
    "    subplot.semilogy(x[0:idx], y1[0:idx], color=\"green\", linestyle='-', marker='.', label=\"Spearmint\")\n",
    "else:\n",
    "    subplot.semilogy(x[0:idx], y1[0:idx], color=\"green\", linestyle='-', marker='.')\n",
    "subplot.grid(True)\n",
    "print y1[-1]\n",
    "subplot.plot([0, 3500],[0.007, 0.007], color=\"gray\", linestyle='--', label=\"best\")\n",
    "plt.ylabel(\"Log(Best Test Error)\")    \n",
    "plt.xlabel(\"Operation Time (Min.)\")\n",
    "plt.legend(loc=\"best\")\n",
    "plt.show()"
   ]
  },
  {
   "cell_type": "code",
   "execution_count": null,
   "metadata": {
    "collapsed": false,
    "scrolled": true
   },
   "outputs": [],
   "source": [
    "fig = plt.figure(num=None, figsize=(25,17), dpi=100, facecolor='w', edgecolor='k')\n",
    "for i in [1, 2, 3, 4, 5, 6, 7, 8]:\n",
    "    subplot = fig.add_subplot(111)\n",
    "    coarse_random_file = \"../../log/C_random200e0.1F_e20_\" + str(i) + \".csv\"\n",
    "    coarse_sobol_file = \"../../log/C_sobol200e0.1F_e20_\" + str(i) + \".csv\"\n",
    "    random_table = pd.read_csv(coarse_random_file, header=0)\n",
    "    sobol_table = pd.read_csv(coarse_sobol_file, header=0)\n",
    "\n",
    "    x, y1, y2 = get_data(random_table)\n",
    "    #print \"number of random tries: \" + str(len(y2))\n",
    "    if i == 1:\n",
    "        subplot.semilogy(x, y1, color=\"blue\", linestyle='-', marker='o', label=\"40 nominees by 200 random searchs for 0.1 epoch\")\n",
    "    else:    \n",
    "        subplot.semilogy(x, y1, color=\"blue\", linestyle='-', marker='o')\n",
    "    #print y1[-1]\n",
    "    x, y1, y2 = get_data(sobol_table)\n",
    "    print str(i) + \" - number of sobol tries: \" + str(len(y2))\n",
    "    if i == 1:\n",
    "        subplot.semilogy(x, y1, color=\"red\", linestyle='-', marker='x', label=\"40 nominees by 200 Sobol-sequences for 0.1 epoch\")\n",
    "    else:\n",
    "        subplot.semilogy(x, y1, color=\"red\", linestyle='-', marker='x')\n",
    "    subplot.grid(True)\n",
    "    #print y1[-1]\n",
    "    \n",
    "for i in [spearmint_id]:\n",
    "    spearmint_only_file = \"../../log/spearmint\"+ str(i) + \"-20e.csv\"    \n",
    "    spearmint_table = pd.read_csv(spearmint_only_file, header=0)\n",
    "    x, y1, y2 = get_modified_spearmint_data(spearmint_table)\n",
    "    # subset x, y with time limits\n",
    "    idx = 0\n",
    "    time_limit = 500\n",
    "    for time in x:\n",
    "        if time > time_limit:\n",
    "            break\n",
    "        else:\n",
    "            idx += 1\n",
    "    if i == 4138:\n",
    "        subplot.semilogy(x[0:idx], y1[0:idx], color=\"green\", linestyle='--', marker='o', label=\"Bayesian(spearmint)\")\n",
    "    else:\n",
    "        subplot.semilogy(x[0:idx], y1[0:idx], color=\"green\", linestyle='--', marker='o')\n",
    "    subplot.grid(True)\n",
    "    subplot.set_ylim([0.005, 1])\n",
    "    #print y1[-1]\n",
    "subplot.plot([0, 500],[0.007, 0.007], color=\"gray\", linestyle='--', label=\"best\")    \n",
    "plt.ylabel(\"Log(Test Error)\")    \n",
    "plt.xlabel(\"Operation Time (Min.)\")\n",
    "plt.legend(loc=\"best\")\n",
    "plt.show()"
   ]
  },
  {
   "cell_type": "code",
   "execution_count": null,
   "metadata": {
    "collapsed": true
   },
   "outputs": [],
   "source": [
    "fig.savefig(\"stage-opt-200-0.1-40.png\", format='png', dpi=100, show=False, bbox_inches='tight')"
   ]
  },
  {
   "cell_type": "markdown",
   "metadata": {
    "collapsed": false
   },
   "source": [
    "* 400 coarse optimization with 1 epoch and 80 fine optimization with 20 epoch"
   ]
  },
  {
   "cell_type": "code",
   "execution_count": 17,
   "metadata": {
    "collapsed": false
   },
   "outputs": [],
   "source": [
    "def merge_data(coarse_epoch, coarse_table, fine_epoch, fine_table):\n",
    "    train_times = []\n",
    "    log_test_errors = []\n",
    "    log_best_errors = []\n",
    "    test_errors = []\n",
    "    best_errors = []\n",
    "    coarse_time = get_coarse_opt_time(coarse_table, coarse_epoch) / 60  # per minutes\n",
    "    coarse_test_error = 1.0 # set default error\n",
    "    train_times.append(coarse_time)\n",
    "    test_errors.append(coarse_test_error)\n",
    "    log_test_errors.append(log(coarse_test_error, 10))\n",
    "    log_best_errors.append(log(coarse_test_error, 10))\n",
    "    best_errors.append(coarse_test_error)\n",
    "    fine_table = get_fine_total_table(fine_table, fine_epoch)          \n",
    "    sorted_fine_table = fine_table.sort_values([\"Setting\"]) # sort by Setting\n",
    "    \n",
    "    best_test_error = 1.0    \n",
    "    for test_error in sorted_fine_table[\"Test Error\"]:\n",
    "        # update best test error if test error is smaller than best test error\n",
    "        if (best_test_error > test_error):\n",
    "            best_test_error = test_error\n",
    "           \n",
    "        log_test_errors.append(log(test_error, 10))\n",
    "        test_errors.append(test_error) \n",
    "        \n",
    "        log_best_errors.append(log(best_test_error, 10))\n",
    "        best_errors.append(best_test_error)  \n",
    "    \n",
    "    for elapsed_time in sorted_fine_table[\"Elapsed Time\"]: \n",
    "        last_time = train_times[-1]\n",
    "        training_time = last_time + elapsed_time / 60.0\n",
    "        train_times.append(training_time)\n",
    "    \n",
    "    #return [train_times, log_best_errors, log_test_errors]\n",
    "    return [train_times, best_errors, test_errors]\n",
    "    #print log_test_errors\n",
    "    #print train_times\n",
    "    "
   ]
  },
  {
   "cell_type": "code",
   "execution_count": null,
   "metadata": {
    "collapsed": false
   },
   "outputs": [],
   "source": [
    "fig = plt.figure(num=None, figsize=(25,17), dpi=100, facecolor='w', edgecolor='k')\n",
    "subplot = fig.add_subplot(111)\n",
    "coarse_random_file = \"../../log/3_CR400-1e.csv\"\n",
    "coarse_table = pd.read_csv(coarse_random_file, header=0)\n",
    "fine_file = \"../../log/3_F80-20e.csv\"\n",
    "fine_table = pd.read_csv(fine_file, header=0)\n",
    "\n",
    "x, y1, y2 = merge_data(1, coarse_table, 20, fine_table)\n",
    "subplot.semilogy(x, y1, color=\"blue\", linestyle='-', marker='o', label=\"80 nominees by 400 random searchs for 1 epoch\")\n",
    "for i in [spearmint_id]:\n",
    "    spearmint_only_file = \"../../log/spearmint\"+ str(i) + \"-20e.csv\"    \n",
    "    spearmint_table = pd.read_csv(spearmint_only_file, header=0)\n",
    "    x, y1, y2 = get_modified_spearmint_data(spearmint_table)\n",
    "    # subset x, y with time limits\n",
    "    idx = 0\n",
    "    time_limit = 1000\n",
    "    for time in x:\n",
    "        if time > time_limit:\n",
    "            break\n",
    "        else:\n",
    "            idx += 1\n",
    "    if i == 4138:\n",
    "        subplot.semilogy(x[0:idx], y1[0:idx], color=\"green\", linestyle='--', marker='o', label=\"Bayesian(spearmint)\")\n",
    "    else:\n",
    "        subplot.semilogy(x[0:idx], y1[0:idx], color=\"green\", linestyle='--', marker='o')\n",
    "    subplot.grid(True)\n",
    "    subplot.set_ylim([0.005, 1])\n",
    "subplot.plot([0, 1000],[0.007, 0.007], color=\"gray\", linestyle='--', label=\"best\")\n",
    "plt.ylabel(\"Log(Test Error)\")    \n",
    "plt.xlabel(\"Operation Time (Min.)\")\n",
    "plt.legend(loc=\"best\")\n",
    "plt.show()"
   ]
  },
  {
   "cell_type": "code",
   "execution_count": null,
   "metadata": {
    "collapsed": true
   },
   "outputs": [],
   "source": [
    "fig.savefig(\"stage-opt-random-400-1-80.png\", format='png', dpi=100, show=False, bbox_inches='tight')"
   ]
  },
  {
   "cell_type": "markdown",
   "metadata": {},
   "source": [
    "* 400 coarse optimization (0.1 epoch) -> 80 fine optimization (20 epoch)"
   ]
  },
  {
   "cell_type": "code",
   "execution_count": null,
   "metadata": {
    "collapsed": false
   },
   "outputs": [],
   "source": [
    "fig = plt.figure(num=None, figsize=(25,17), dpi=100, facecolor='w', edgecolor='k')\n",
    "subplot = fig.add_subplot(111)\n",
    "\n",
    "for j in [5, 6, 7]:\n",
    "    coarse_random_file = \"../../log/\" + str(j) + \"_CR400-0.1e.csv\"\n",
    "    coarse_table = pd.read_csv(coarse_random_file, header=0)\n",
    "    fine_file = \"../../log/\" + str(j) + \"_F80-20e.csv\"\n",
    "    fine_table = pd.read_csv(fine_file, header=0)\n",
    "    x, y1, y2 = merge_data(0.1, coarse_table, 20, fine_table)\n",
    "    if j == 5:\n",
    "        subplot.semilogy(x, y1, color=\"blue\", linestyle='-', marker='o', label=\"80 nominees by 400 random searchs for 0.1 epoch\")\n",
    "    else:\n",
    "        subplot.semilogy(x, y1, color=\"blue\", linestyle='-', marker='o')\n",
    "    print y1[-1]    \n",
    "for i in [spearmint_id]:\n",
    "    spearmint_only_file = \"../../log/spearmint\"+ str(i) + \"-20e.csv\"    \n",
    "    spearmint_table = pd.read_csv(spearmint_only_file, header=0)\n",
    "    x, y1, y2 = get_modified_spearmint_data(spearmint_table)\n",
    "    # subset x, y with time limits\n",
    "    idx = 0\n",
    "    time_limit = 1000\n",
    "    for time in x:\n",
    "        if time > time_limit:\n",
    "            break\n",
    "        else:\n",
    "            idx += 1\n",
    "    if i == 4138:\n",
    "        subplot.semilogy(x[0:idx], y1[0:idx], color=\"green\", linestyle='--', marker='o', label=\"Bayesian(spearmint)\")\n",
    "    else:\n",
    "        subplot.semilogy(x[0:idx], y1[0:idx], color=\"green\", linestyle='--', marker='o')\n",
    "    subplot.grid(True)\n",
    "    subplot.set_ylim([0.005, 1])\n",
    "    print y1[-1]\n",
    "subplot.plot([0, 1000],[0.007, 0.007], color=\"gray\", linestyle='--', label=\"best\")\n",
    "plt.ylabel(\"Log(Test Error)\")    \n",
    "plt.xlabel(\"Operation Time (Min.)\")\n",
    "plt.legend(loc=\"best\")\n",
    "plt.show()"
   ]
  },
  {
   "cell_type": "code",
   "execution_count": null,
   "metadata": {
    "collapsed": true
   },
   "outputs": [],
   "source": [
    "fig.savefig(\"stage-opt-random-400-0.1-80.png\", format='png', dpi=100, show=False, bbox_inches='tight')"
   ]
  },
  {
   "cell_type": "code",
   "execution_count": null,
   "metadata": {
    "collapsed": false
   },
   "outputs": [],
   "source": [
    "fig = plt.figure(num=None, figsize=(25,17), dpi=100, facecolor='w', edgecolor='k')\n",
    "subplot = fig.add_subplot(111)\n",
    "\n",
    "for j in [1, 2]:\n",
    "    coarse_random_file = \"../../log/\" + str(j) + \"_CR200-1e.csv\"\n",
    "    coarse_table = pd.read_csv(coarse_random_file, header=0)\n",
    "    fine_file = \"../../log/\" + str(j) + \"_F40-20e.csv\"\n",
    "    fine_table = pd.read_csv(fine_file, header=0)\n",
    "    x, y1, y2 = merge_data(1, coarse_table, 20, fine_table)\n",
    "    if j == 1:\n",
    "        subplot.semilogy(x, y1, color=\"blue\", linestyle='-', marker='o', label=\"40 nominees by 200 random searchs for 1 epoch\")\n",
    "    else:\n",
    "        subplot.semilogy(x, y1, color=\"blue\", linestyle='-', marker='o')\n",
    "    print y1[-1]    \n",
    "for i in [spearmint_id]:\n",
    "    spearmint_only_file = \"../../log/spearmint\"+ str(i) + \"-20e.csv\"    \n",
    "    spearmint_table = pd.read_csv(spearmint_only_file, header=0)\n",
    "    x, y1, y2 = get_modified_spearmint_data(spearmint_table)\n",
    "    # subset x, y with time limits\n",
    "    idx = 0\n",
    "    time_limit = 1000\n",
    "    for time in x:\n",
    "        if time > time_limit:\n",
    "            break\n",
    "        else:\n",
    "            idx += 1\n",
    "    if i == 4138:\n",
    "        subplot.semilogy(x[0:idx], y1[0:idx], color=\"green\", linestyle='--', marker='o', label=\"Bayesian(spearmint)\")\n",
    "    else:\n",
    "        subplot.semilogy(x[0:idx], y1[0:idx], color=\"green\", linestyle='--', marker='o')\n",
    "    subplot.grid(True)\n",
    "    subplot.set_ylim([0.005, 1])\n",
    "    print y1[-1]\n",
    "subplot.plot([0, 700],[0.007, 0.007], color=\"gray\", linestyle='--', label=\"best\")\n",
    "plt.ylabel(\"Log(Test Error)\")    \n",
    "plt.xlabel(\"Operation Time (Min.)\")\n",
    "plt.legend(loc=\"best\")\n",
    "plt.show()"
   ]
  },
  {
   "cell_type": "code",
   "execution_count": null,
   "metadata": {
    "collapsed": true
   },
   "outputs": [],
   "source": [
    "fig.savefig(\"stage-opt-random-200-1-40.png\", format='png', dpi=100, show=False, bbox_inches='tight')"
   ]
  },
  {
   "cell_type": "code",
   "execution_count": null,
   "metadata": {
    "collapsed": false
   },
   "outputs": [],
   "source": [
    "fig = plt.figure(num=None, figsize=(25,17), dpi=100, facecolor='w', edgecolor='k')\n",
    "for i in [1, 2, 3, 4, 5, 6, 7, 8]:\n",
    "    subplot = fig.add_subplot(111)\n",
    "    coarse_random_file = \"../../log/C_random200e0.1F_e20_\" + str(i) + \".csv\"\n",
    "    coarse_sobol_file = \"../../log/C_sobol200e0.1F_e20_\" + str(i) + \".csv\"\n",
    "    random_table = pd.read_csv(coarse_random_file, header=0)\n",
    "    sobol_table = pd.read_csv(coarse_sobol_file, header=0)\n",
    "\n",
    "    x, y1, y2 = get_data(random_table)\n",
    "    if i == 1:\n",
    "        subplot.semilogy(x, y1, color=\"blue\", linestyle='-', marker='o', label=\"40 nominees by 200 random searchs for 0.1 epoch \")\n",
    "        #subplot.semilogy(x, y2, color=\"blue\", linestyle='', marker='o')\n",
    "    else:    \n",
    "        subplot.semilogy(x, y1, color=\"blue\", linestyle='-', marker='o')\n",
    "        #subplot.semilogy(x, y2, color=\"blue\", linestyle='', marker='o')\n",
    "    print y1[-1]\n",
    "    x, y1, y2 = get_data(sobol_table)    \n",
    "    if i == 1:\n",
    "        subplot.semilogy(x, y1, color=\"red\", linestyle='-', marker='', label=\"40 nominees by 200 Sobol sequences for 0.1 epoch\")\n",
    "        #subplot.semilogy(x, y2, color=\"red\", linestyle='', marker='x')\n",
    "    else:\n",
    "        subplot.semilogy(x, y1, color=\"red\", linestyle='-', marker='')\n",
    "        #subplot.semilogy(x, y2, color=\"red\", linestyle='', marker='x')\n",
    "    subplot.grid(True)\n",
    "    print y1[-1]\n",
    "    \n",
    "for i in [spearmint_id]:\n",
    "    spearmint_only_file = \"../../log/spearmint\"+ str(i) + \"-20e.csv\"    \n",
    "    spearmint_table = pd.read_csv(spearmint_only_file, header=0)\n",
    "    x, y1, y2 = get_spearmint_data(spearmint_table)\n",
    "    # subset x, y with time limits\n",
    "    idx = 0\n",
    "    time_limit = 1000\n",
    "    for time in x:\n",
    "        if time > time_limit:\n",
    "            break\n",
    "        else:\n",
    "            idx += 1\n",
    "    if i == 4138:\n",
    "        subplot.semilogy(x[0:idx], y1[0:idx], color=\"green\", linestyle='--', marker='o', label=\"Bayesian(spearmint)\")\n",
    "    else:\n",
    "        subplot.semilogy(x[0:idx], y1[0:idx], color=\"green\", linestyle='--', marker='o')\n",
    "    subplot.grid(True)\n",
    "    subplot.set_ylim([0.005, 1])\n",
    "    print y1[-1]\n",
    "subplot.plot([0, 700],[0.007, 0.007], color=\"gray\", linestyle='--', label=\"best\")\n",
    "plt.ylabel(\"Log(Test Error)\")    \n",
    "plt.xlabel(\"Operation Time (Min.)\")\n",
    "plt.legend(loc=\"best\")\n",
    "plt.show()"
   ]
  },
  {
   "cell_type": "markdown",
   "metadata": {},
   "source": [
    "following shows a result which do not perform good\n",
    "- cf: coarse - cutoff by 0.5 -fine \n",
    "- clf: coarse - cutoff by logistic(min:0.2, max:0.5, iteration) - fine\n",
    "\n",
    "benchmark algorithm: spearmint (Bayesian optimization with Gaussian Process)\n"
   ]
  },
  {
   "cell_type": "code",
   "execution_count": null,
   "metadata": {
    "collapsed": false
   },
   "outputs": [],
   "source": [
    "fig = plt.figure(num=None, figsize=(25,17), dpi=100, facecolor='w', edgecolor='k')\n",
    "#fig.suptitle(\"Performance benchmark of modified spearmint (0.1 epoch coarse-optimization and 20 epoch fine optimization only for less than test error 0.5) \", fontsize=20)\n",
    "\n",
    "subplot = fig.add_subplot(111)\n",
    "\n",
    "for i in [1, 2]:\n",
    "    coarse_fine_file = \"../../log/\" + \"hpolib-stage-0.1-20.\"+ str(i) + \".csv\"\n",
    "    coarse_table = pd.read_csv(coarse_fine_file, header=0)\n",
    "    x_pos = 200\n",
    "    y_pos = 0.8\n",
    "\n",
    "    x, y1, y2 = get_modified_spearmint_data(coarse_table)\n",
    "    if i == 2:\n",
    "        subplot.semilogy(x, y1, color=\"blue\", linestyle='-', marker='o', label=\"csf adapted spearmint\")\n",
    "    else:\n",
    "        subplot.semilogy(x, y1, color=\"blue\", linestyle='-', marker='o')\n",
    "        \n",
    "    subplot.semilogy(x, y2, color=\"blue\", linestyle='', marker='x')\n",
    "    message = \"total tries of csf adapted spearmint: \" + str(len(x))\n",
    "    #subplot.text(x_pos, y_pos, message, fontsize=20, color=\"blue\")\n",
    "    y_pos = y_pos - 0.1\n",
    "    print y1[-1]\n",
    "    \n",
    "for i in [1, 2, 3, 4]:\n",
    "    coarse_fine_file = \"../../log/\" + \"hpolib-stage1-0.1-20-\" + str(i) + \".csv\" \n",
    "    coarse_table = pd.read_csv(coarse_fine_file, header=0)\n",
    "    x, y1, y2 = get_modified_spearmint_data(coarse_table)\n",
    "    if i == 1:\n",
    "        subplot.semilogy(x, y1, color=\"red\", linestyle='-', marker='o', label=\"clf adapted spearmint\")\n",
    "    else:\n",
    "        subplot.semilogy(x, y1, color=\"red\", linestyle='-', marker='o')\n",
    "    subplot.semilogy(x, y2, color=\"red\", linestyle='', marker='x')\n",
    "    message = \"total tries of clf adapted spearmint: \" + str(len(x))\n",
    "    #subplot.text(x_pos, y_pos, message, fontsize=20, color=\"red\",)\n",
    "y_pos = y_pos - 0.1\n",
    "print y1[-1]\n",
    "for i in [2593, 3502, 4138]:\n",
    "    spearmint_only_file = \"../../log/spearmint\"+ str(i) + \"-20e.csv\"    \n",
    "    spearmint_table = pd.read_csv(spearmint_only_file, header=0)\n",
    "    x, y1, y2 = get_spearmint_data(spearmint_table)\n",
    "    message = \"total tries of original spearmint: \" + str(len(x))\n",
    "    #subplot.text(x_pos, y_pos, message, fontsize=20, color=\"green\")\n",
    "    y_pos = y_pos - 0.1\n",
    "    # subset x, y with time limits\n",
    "    idx = 0\n",
    "    \n",
    "    time_limit = 5000\n",
    "    for time in x:\n",
    "        if time > time_limit:\n",
    "            break\n",
    "        else:\n",
    "            idx += 1\n",
    "    if i == 4138:\n",
    "        subplot.semilogy(x[0:idx], y1[0:idx], color=\"green\", linestyle='--', marker='o', label=\"original spearmint\")\n",
    "    else:\n",
    "        subplot.semilogy(x[0:idx], y1[0:idx], color=\"green\", linestyle='--', marker='o')\n",
    "        subplot.semilogy(x[0:idx], y2[0:idx], color=\"green\", linestyle='', marker='x')\n",
    "    subplot.grid(True)\n",
    "    subplot.set_ylim([0.005, 1])\n",
    "    print y1[-1]\n",
    "subplot.plot([0, 6000],[0.007, 0.007], color=\"gray\", linestyle='--', label=\"best\")\n",
    "plt.ylabel(\"Log(Test Error)\")    \n",
    "plt.xlabel(\"Operation Time (Min.)\")\n",
    "plt.legend(loc=\"best\")\n",
    "plt.show()"
   ]
  },
  {
   "cell_type": "markdown",
   "metadata": {},
   "source": [
    "following shows a result which perform good"
   ]
  },
  {
   "cell_type": "code",
   "execution_count": 47,
   "metadata": {
    "collapsed": false
   },
   "outputs": [
    {
     "name": "stdout",
     "output_type": "stream",
     "text": [
      "0.0139\n",
      "0.008\n",
      "0.0074\n",
      "0.0077\n",
      "0.0241\n",
      "0.0208\n",
      "0.0078\n",
      "0.0106\n",
      "0.007\n"
     ]
    },
    {
     "data": {
      "image/png": "[encoded data removed]",
      "text/plain": [
       "<matplotlib.figure.Figure at 0x7f95d2401b90>"
      ]
     },
     "metadata": {},
     "output_type": "display_data"
    }
   ],
   "source": [
    "fig = plt.figure(num=None, figsize=(25,17), dpi=100, facecolor='w', edgecolor='k')\n",
    "#fig.suptitle(\"Performance benchmark of modified spearmint (0.1 epoch coarse-optimization and 20 epoch fine optimization only for less than test error 0.5) \", fontsize=20)\n",
    "TIME_LIMIT = 1200\n",
    "subplot = fig.add_subplot(111)\n",
    "x_pos = 100\n",
    "y_pos = 0.7\n",
    "\n",
    "for k in [1, 2]:\n",
    "    coarse_fine_file = \"../../log/\" + \"hpolib-stage-0.1-20.\"+ str(k) + \".csv\"\n",
    "    coarse_table = pd.read_csv(coarse_fine_file, header=0)\n",
    "    \n",
    "    x, y1, y2 = get_modified_spearmint_data(coarse_table)\n",
    "\n",
    "    idx = 0\n",
    "    for time in x:\n",
    "        if time > TIME_LIMIT:\n",
    "            break\n",
    "        else:\n",
    "            idx += 1    \n",
    "    if k == 1:\n",
    "        subplot.semilogy(x[0:idx], y1[0:idx], color=\"blue\", linestyle='--', marker='.', label=\"CFS spearmint\")\n",
    "    else:\n",
    "        subplot.semilogy(x[0:idx], y1[0:idx], color=\"blue\", linestyle='--', marker='.')\n",
    "    #subplot.semilogy(x[0:idx], y2[0:idx], color=\"blue\", linestyle='', marker='x')\n",
    "    message = \"total tries of cf adapted spearmint: \" + str(len(x))\n",
    "    #subplot.text(x_pos, y_pos, message, fontsize=20, color=\"blue\")\n",
    "    y_pos = y_pos - 0.1\n",
    "    print y1[-1]\n",
    "for j in [1, 2, 3, 4]:\n",
    "    coarse_fine_file = \"../../log/\" + \"hpolib-stage1-0.1-20-\"+ str(j) + \".csv\"\n",
    "    coarse_table = pd.read_csv(coarse_fine_file, header=0)\n",
    "    x, y1, y2 = get_modified_spearmint_data(coarse_table)\n",
    "    idx = 0\n",
    "    for time in x:\n",
    "        if time > TIME_LIMIT:\n",
    "            break\n",
    "        else:\n",
    "            idx += 1    \n",
    "    \n",
    "    if j == 1:\n",
    "        subplot.semilogy(x[0:idx], y1[0:idx], color=\"red\", linestyle='--', marker='.', label=\"CFL spearmint\")\n",
    "    else:\n",
    "        subplot.semilogy(x[0:idx], y1[0:idx], color=\"red\", linestyle='--', marker='.')\n",
    "    #subplot.semilogy(x, y2, color=\"red\", linestyle='', marker='x')\n",
    "    message = \"total tries of clf adapted spearmint: \" + str(len(x))\n",
    "    #subplot.text(x_pos, y_pos, message, fontsize=20, color=\"red\",)\n",
    "    y_pos = y_pos - 0.1\n",
    "    print y1[-1]\n",
    "\n",
    "for i in [2593, 3502, 4138]:\n",
    "    spearmint_only_file = \"../../log/spearmint\"+ str(i) + \"-20e.csv\" \n",
    "    #spearmint_only_file = \"../../log/\" + \"hpolib-spearmint.es.2.csv\"\n",
    "    spearmint_table = pd.read_csv(spearmint_only_file, header=0)\n",
    "    x, y1, y2 = get_spearmint_data(spearmint_table)\n",
    "    print y1[-1]\n",
    "    message = \"total tries of original spearmint: \" + str(len(x))\n",
    "    #subplot.text(x_pos, y_pos, message, fontsize=20, color=\"green\")\n",
    "    y_pos = y_pos - 0.1\n",
    "    # subset x, y with time limits\n",
    "    idx = 0\n",
    "    \n",
    "\n",
    "    for time in x:\n",
    "        if time > TIME_LIMIT:\n",
    "            break\n",
    "        else:\n",
    "            idx += 1\n",
    "    if i == 4138:\n",
    "        subplot.semilogy(x[0:idx], y1[0:idx], color=\"green\", linewidth=2.0, linestyle='-', marker='.', label=\"spearmint\")\n",
    "    else:\n",
    "        subplot.semilogy(x[0:idx], y1[0:idx], color=\"green\", linewidth=2.0, linestyle='-', marker='.')\n",
    "    #subplot.semilogy(x[0:idx], y2[0:idx], color=\"green\", linestyle='', marker='x')\n",
    "    subplot.grid(True)\n",
    "    subplot.set_ylim([0.005, 1])\n",
    "subplot.plot([0, TIME_LIMIT],[0.007, 0.007], color=\"gray\", linestyle='--', label=\"best error\")\n",
    "plt.ylabel(\"Log(Test Error)\")    \n",
    "plt.xlabel(\"Operation Time (Min.)\")\n",
    "plt.legend(loc=1)\n",
    "plt.show()"
   ]
  },
  {
   "cell_type": "code",
   "execution_count": 48,
   "metadata": {
    "collapsed": true
   },
   "outputs": [],
   "source": [
    "fig.savefig(\"cf-spearmint-performance.best.png\", format='png', dpi=100, show=False, bbox_inches='tight')"
   ]
  },
  {
   "cell_type": "code",
   "execution_count": 11,
   "metadata": {
    "collapsed": false
   },
   "outputs": [],
   "source": [
    "def show_performance(times, best_test_errors, test_errors, type):\n",
    "    criteria = [0.1, 0.05, 0.02, 0.01, 0.001]\n",
    "    perf_list = []\n",
    "    j = 0\n",
    "    for i in range(len(times)):\n",
    "        if best_test_errors[i] <= criteria[j]:\n",
    "            while best_test_errors[i] < criteria[j]:\n",
    "                print str(criteria[j]) + \" achieved with \" + str(best_test_errors[i]) + \" when \" + str(times[i]) + \" mins. passed\"\n",
    "                perf = {\"type\": type, \"criteria\": criteria[j], \"best error\": best_test_errors[i], \"operation time\" : times[i]}\n",
    "                perf_list.append(perf)\n",
    "                j += 1\n",
    "        #else:\n",
    "        #    print str(times[i]) + \": \" + str(best_test_errors[i]) \n",
    "    print \"final performance: \" + str(best_test_errors[-1]) + \", elapsed time: \" + str(times[-1]) \n",
    "    return perf_list\n"
   ]
  },
  {
   "cell_type": "code",
   "execution_count": null,
   "metadata": {
    "collapsed": false
   },
   "outputs": [],
   "source": [
    "coarse_fine_file = \"../../log/\" + \"hpolib-stage1-0.1-20.es-\"+ str(2) + \".csv\"\n",
    "table = pd.read_csv(coarse_fine_file, header=0)\n",
    "print coarse_fine_file\n",
    "times, best_test_errors, test_errors = get_modified_spearmint_data(table)\n",
    "list1 = show_performance(times, best_test_errors, test_errors, \"clf.es\")"
   ]
  },
  {
   "cell_type": "code",
   "execution_count": null,
   "metadata": {
    "collapsed": false
   },
   "outputs": [],
   "source": [
    "coarse_fine_file = \"../../log/\" + \"hpolib-stage1-0.1-20.es-\"+ str(3) + \".csv\"\n",
    "table = pd.read_csv(coarse_fine_file, header=0)\n",
    "print coarse_fine_file\n",
    "times, best_test_errors, test_errors = get_modified_spearmint_data(table)\n",
    "criteria = [0.1, 0.05, 0.02, 0.01]\n",
    "list2 = show_performance(times, best_test_errors, test_errors, \"clf.es\")\n",
    "\n",
    "df = pd.DataFrame(list1 + list2)\n",
    "for cr in criteria:\n",
    "    subset = df[df[\"criteria\"] == cr]\n",
    "    print str(cr)\n",
    "    print subset.describe()"
   ]
  },
  {
   "cell_type": "code",
   "execution_count": null,
   "metadata": {
    "collapsed": false
   },
   "outputs": [],
   "source": [
    "spearmint_only_file = \"../../log/\" + \"hpolib-spearmint.es.2.csv\"\n",
    "spearmint_table = pd.read_csv(spearmint_only_file, header=0)\n",
    "print spearmint_only_file\n",
    "x, y1, y2 = get_spearmint_data(spearmint_table)\n",
    "show_performance(x, y1, y2, \"pro\")"
   ]
  },
  {
   "cell_type": "code",
   "execution_count": null,
   "metadata": {
    "collapsed": false
   },
   "outputs": [],
   "source": [
    "total_list = []\n",
    "for i in [2593, 3502, 4138]:\n",
    "    spearmint_only_file = \"../../log/spearmint\"+ str(i) + \"-20e.csv\"    \n",
    "    spearmint_table = pd.read_csv(spearmint_only_file, header=0)\n",
    "    x, y1, y2 = get_spearmint_data(spearmint_table)\n",
    "    ret_list = show_performance(x, y1, y2, \"original\")\n",
    "    total_list = total_list + ret_list\n",
    "df = pd.DataFrame(total_list)\n",
    "for cr in criteria:\n",
    "    subset = df[df[\"criteria\"] == cr]\n",
    "    print str(cr)\n",
    "    print subset.describe()"
   ]
  },
  {
   "cell_type": "code",
   "execution_count": null,
   "metadata": {
    "collapsed": false
   },
   "outputs": [],
   "source": [
    "coarse_random_file = \"../../log/3_CR400-1e.csv\"\n",
    "coarse_table = pd.read_csv(coarse_random_file, header=0)\n",
    "fine_file = \"../../log/3_F80-20e.csv\"\n",
    "fine_table = pd.read_csv(fine_file, header=0)\n",
    "x, y1, y2 = merge_data(1, coarse_table, 20, fine_table)\n",
    "ret_list = show_performance(x, y1, y2, \"c400_1e-f80_20e\")\n",
    "best_error = y1[-1]\n",
    "\n",
    "for i in range(len(y1)):\n",
    "    current_error = y1[i]\n",
    "    if current_error == best_error:\n",
    "        print str(best_error) + (\", \") + str(x[i])\n",
    "        break\n",
    "    \n",
    "df = pd.DataFrame(ret_list)\n",
    "for cr in criteria:\n",
    "    subset = df[df[\"criteria\"] == cr]\n",
    "    print str(cr)\n",
    "    print subset.describe()"
   ]
  },
  {
   "cell_type": "code",
   "execution_count": null,
   "metadata": {
    "collapsed": false
   },
   "outputs": [],
   "source": [
    "total_list = []\n",
    "best_errors = []\n",
    "best_times = []\n",
    "for j in [1, 2]:\n",
    "    coarse_random_file = \"../../log/\" + str(j) + \"_CR200-1e.csv\"\n",
    "    coarse_table = pd.read_csv(coarse_random_file, header=0)\n",
    "    fine_file = \"../../log/\" + str(j) + \"_F40-20e.csv\"\n",
    "    fine_table = pd.read_csv(fine_file, header=0)\n",
    "    x, y1, y2 = merge_data(1, coarse_table, 20, fine_table)\n",
    "    ret_list = show_performance(x, y1, y2, \"c200_1e-f40_20e\")\n",
    "    total_list = total_list + ret_list\n",
    "    best_error = y1[-1]\n",
    "\n",
    "    for i in range(len(y1)):\n",
    "        current_error = y1[i]\n",
    "        if current_error == best_error:\n",
    "            print str(best_error) + (\", \") + str(x[i])\n",
    "            best_errors.append(best_error)\n",
    "            best_times.append(x[i])\n",
    "            break    \n",
    "print str(np.mean(best_errors)) + \", sd: \" +  str(np.std(best_errors))\n",
    "print str(np.mean(best_times)) + \", sd: \" +  str(np.std(best_times))  \n",
    "df = pd.DataFrame(total_list)\n",
    "for cr in criteria:\n",
    "    subset = df[df[\"criteria\"] == cr]\n",
    "    print str(cr)\n",
    "    print subset.describe()    "
   ]
  },
  {
   "cell_type": "code",
   "execution_count": null,
   "metadata": {
    "collapsed": false
   },
   "outputs": [],
   "source": [
    "total_list = []\n",
    "best_errors = []\n",
    "best_times = []\n",
    "\n",
    "for j in [5, 6, 7]:\n",
    "    coarse_random_file = \"../../log/\" + str(j) + \"_CR400-0.1e.csv\"\n",
    "    coarse_table = pd.read_csv(coarse_random_file, header=0)\n",
    "    fine_file = \"../../log/\" + str(j) + \"_F80-20e.csv\"\n",
    "    fine_table = pd.read_csv(fine_file, header=0)\n",
    "    x, y1, y2 = merge_data(0.1, coarse_table, 20, fine_table)\n",
    "    ret_list = show_performance(x, y1, y2, \"c400_0.1e-f40_20e\")\n",
    "    total_list = total_list + ret_list\n",
    "    best_error = y1[-1]    \n",
    "    for i in range(len(y1)):\n",
    "        current_error = y1[i]\n",
    "        if current_error == best_error:\n",
    "            print str(best_error) + (\", \") + str(x[i])\n",
    "            best_errors.append(best_error)\n",
    "            best_times.append(x[i])\n",
    "            break    \n",
    "print str(np.mean(best_errors)) + \", sd: \" +  str(np.std(best_errors))\n",
    "print str(np.mean(best_times)) + \", sd: \" +  str(np.std(best_times))  \n",
    "\n",
    "df = pd.DataFrame(total_list)\n",
    "for cr in criteria:\n",
    "    subset = df[df[\"criteria\"] == cr]\n",
    "    print str(cr)\n",
    "    print subset.describe()      "
   ]
  },
  {
   "cell_type": "code",
   "execution_count": null,
   "metadata": {
    "collapsed": false
   },
   "outputs": [],
   "source": [
    "total_list = []\n",
    "best_errors = []\n",
    "best_times = []\n",
    "\n",
    "for i in [1, 2, 3, 4, 5, 6, 7, 8]:\n",
    "    subplot = fig.add_subplot(111)\n",
    "    coarse_random_file = \"../../log/C_random200e0.1F_e20_\" + str(i) + \".csv\"\n",
    "    random_table = pd.read_csv(coarse_random_file, header=0)\n",
    "\n",
    "    x, y1, y2 = get_data(random_table)\n",
    "    ret_list = show_performance(x, y1, y2, \"c200_0.1e-f40_20e\")\n",
    "    total_list = total_list + ret_list\n",
    "    best_error = y1[-1]    \n",
    "    for i in range(len(y1)):\n",
    "        current_error = y1[i]\n",
    "        if current_error == best_error:\n",
    "            print str(best_error) + (\", \") + str(x[i])\n",
    "            best_errors.append(best_error)\n",
    "            best_times.append(x[i])\n",
    "            break    \n",
    "print str(np.mean(best_errors)) + \", sd: \" +  str(np.std(best_errors))\n",
    "print str(np.mean(best_times)) + \", sd: \" +  str(np.std(best_times))  \n",
    "    \n",
    "    \n",
    "df = pd.DataFrame(total_list)\n",
    "for cr in criteria:\n",
    "    subset = df[df[\"criteria\"] == cr]\n",
    "    print str(cr)\n",
    "    print subset.describe()        "
   ]
  },
  {
   "cell_type": "code",
   "execution_count": null,
   "metadata": {
    "collapsed": false
   },
   "outputs": [],
   "source": [
    "total_list = []\n",
    "for i in [1, 2, 3, 4, 5, 6, 7, 8]:\n",
    "    subplot = fig.add_subplot(111)\n",
    "    coarse_sobol_file = \"../../log/C_sobol200e0.1F_e20_\" + str(i) + \".csv\"\n",
    "    sobol_table = pd.read_csv(coarse_sobol_file, header=0)\n",
    "\n",
    "    x, y1, y2 = get_data(sobol_table)\n",
    "    ret_list = show_performance(x, y1, y2, \"sobol_0.1e-f40_20e\")\n",
    "    total_list = total_list + ret_list\n",
    "df = pd.DataFrame(total_list)\n",
    "for cr in criteria:\n",
    "    subset = df[df[\"criteria\"] == cr]\n",
    "    print str(cr)\n",
    "    print subset.describe()     "
   ]
  },
  {
   "cell_type": "code",
   "execution_count": null,
   "metadata": {
    "collapsed": false
   },
   "outputs": [],
   "source": [
    "total_list = []\n",
    "for i in [1, 2]:\n",
    "    coarse_fine_file = \"../../log/\" + \"hpolib-stage-0.1-20.\" + str(i) + \".csv\"\n",
    "    coarse_table = pd.read_csv(coarse_fine_file, header=0)\n",
    "    x, y1, y2 = get_modified_spearmint_data(coarse_table)\n",
    "    ret_list = show_performance(x, y1, y2, \"csf spearmint\")\n",
    "    total_list = total_list + ret_list\n",
    "df = pd.DataFrame(total_list)\n",
    "for cr in criteria:\n",
    "    subset = df[df[\"criteria\"] == cr]\n",
    "    print str(cr)\n",
    "    print subset.describe() "
   ]
  },
  {
   "cell_type": "code",
   "execution_count": null,
   "metadata": {
    "collapsed": false
   },
   "outputs": [],
   "source": [
    "total_list = []\n",
    "for i in [1, 2, 3, 4]:\n",
    "    coarse_fine_file = \"../../log/\" + \"hpolib-stage1-0.1-20-\" + str(i) + \".csv\" \n",
    "    coarse_table = pd.read_csv(coarse_fine_file, header=0)\n",
    "    x, y1, y2 = get_modified_spearmint_data(coarse_table)\n",
    "    ret_list = show_performance(x, y1, y2, \"clf spearmint\")\n",
    "    total_list = total_list + ret_list\n",
    "df = pd.DataFrame(total_list)\n",
    "for cr in criteria:\n",
    "    subset = df[df[\"criteria\"] == cr]\n",
    "    print str(cr)\n",
    "    print subset.describe() "
   ]
  }
 ],
 "metadata": {
  "kernelspec": {
   "display_name": "Python 2",
   "language": "python",
   "name": "python2"
  },
  "language_info": {
   "codemirror_mode": {
    "name": "ipython",
    "version": 2
   },
   "file_extension": ".py",
   "mimetype": "text/x-python",
   "name": "python",
   "nbconvert_exporter": "python",
   "pygments_lexer": "ipython2",
   "version": "2.7.6"
  }
 },
 "nbformat": 4,
 "nbformat_minor": 0
}
