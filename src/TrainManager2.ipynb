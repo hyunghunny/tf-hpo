{
 "cells": [
  {
   "cell_type": "code",
   "execution_count": null,
   "metadata": {
    "collapsed": false
   },
   "outputs": [],
   "source": [
    "%ls"
   ]
  },
  {
   "cell_type": "code",
   "execution_count": null,
   "metadata": {
    "collapsed": false
   },
   "outputs": [],
   "source": [
    "# run single train\n",
    "layer1 = 4\n",
    "layer2 = 4\n",
    "fully = 512\n",
    "%run ./convolutional-multi.py --config=conv5.cfg --conv1_depth=$layer1 --conv2_depth=$layer2 --fc_depth=$fully"
   ]
  },
  {
   "cell_type": "code",
   "execution_count": 1,
   "metadata": {
    "collapsed": false
   },
   "outputs": [
    {
     "name": "stdout",
     "output_type": "stream",
     "text": [
      "training with: 5, 2, 2, 256\n",
      "Logging test accuracy at ../log/mnist-conv_grid_seq.csv\n"
     ]
    }
   ],
   "source": [
    "# run all grid search three times\n",
    "for i in range(3):\n",
    "    %run ./convolutional-multi.py --config=\"./conv5.cfg\" --grid_seq=True "
   ]
  }
 ],
 "metadata": {
  "kernelspec": {
   "display_name": "Python 2",
   "language": "python",
   "name": "python2"
  },
  "language_info": {
   "codemirror_mode": {
    "name": "ipython",
    "version": 2
   },
   "file_extension": ".py",
   "mimetype": "text/x-python",
   "name": "python",
   "nbconvert_exporter": "python",
   "pygments_lexer": "ipython2",
   "version": "2.7.12"
  }
 },
 "nbformat": 4,
 "nbformat_minor": 0
}
